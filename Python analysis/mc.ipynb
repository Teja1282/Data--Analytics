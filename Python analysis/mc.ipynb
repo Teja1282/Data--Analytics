{
 "cells": [
  {
   "cell_type": "code",
   "execution_count": 42,
   "id": "f7a2b49a-cb5f-431d-b9c2-d0fac21c518b",
   "metadata": {},
   "outputs": [],
   "source": [
    "import pandas as pd\n"
   ]
  },
  {
   "cell_type": "code",
   "execution_count": 43,
   "id": "d2eefe67-6a2f-4261-8ab7-4edc6e50e418",
   "metadata": {},
   "outputs": [
    {
     "data": {
      "text/html": [
       "<div>\n",
       "<style scoped>\n",
       "    .dataframe tbody tr th:only-of-type {\n",
       "        vertical-align: middle;\n",
       "    }\n",
       "\n",
       "    .dataframe tbody tr th {\n",
       "        vertical-align: top;\n",
       "    }\n",
       "\n",
       "    .dataframe thead th {\n",
       "        text-align: right;\n",
       "    }\n",
       "</style>\n",
       "<table border=\"1\" class=\"dataframe\">\n",
       "  <thead>\n",
       "    <tr style=\"text-align: right;\">\n",
       "      <th></th>\n",
       "      <th>Category</th>\n",
       "      <th>Item</th>\n",
       "      <th>Serving Size</th>\n",
       "      <th>Calories</th>\n",
       "      <th>Calories from Fat</th>\n",
       "      <th>Total Fat</th>\n",
       "      <th>Total Fat (% Daily Value)</th>\n",
       "      <th>Saturated Fat</th>\n",
       "      <th>Saturated Fat (% Daily Value)</th>\n",
       "      <th>Trans Fat</th>\n",
       "      <th>...</th>\n",
       "      <th>Carbohydrates</th>\n",
       "      <th>Carbohydrates (% Daily Value)</th>\n",
       "      <th>Dietary Fiber</th>\n",
       "      <th>Dietary Fiber (% Daily Value)</th>\n",
       "      <th>Sugars</th>\n",
       "      <th>Protein</th>\n",
       "      <th>Vitamin A (% Daily Value)</th>\n",
       "      <th>Vitamin C (% Daily Value)</th>\n",
       "      <th>Calcium (% Daily Value)</th>\n",
       "      <th>Iron (% Daily Value)</th>\n",
       "    </tr>\n",
       "  </thead>\n",
       "  <tbody>\n",
       "    <tr>\n",
       "      <th>0</th>\n",
       "      <td>Breakfast</td>\n",
       "      <td>Egg McMuffin</td>\n",
       "      <td>4.8 oz (136 g)</td>\n",
       "      <td>300</td>\n",
       "      <td>120</td>\n",
       "      <td>13.0</td>\n",
       "      <td>20</td>\n",
       "      <td>5.0</td>\n",
       "      <td>25</td>\n",
       "      <td>0.0</td>\n",
       "      <td>...</td>\n",
       "      <td>31</td>\n",
       "      <td>10</td>\n",
       "      <td>4</td>\n",
       "      <td>17</td>\n",
       "      <td>3</td>\n",
       "      <td>17</td>\n",
       "      <td>10</td>\n",
       "      <td>0</td>\n",
       "      <td>25</td>\n",
       "      <td>15</td>\n",
       "    </tr>\n",
       "    <tr>\n",
       "      <th>1</th>\n",
       "      <td>Breakfast</td>\n",
       "      <td>Egg White Delight</td>\n",
       "      <td>4.8 oz (135 g)</td>\n",
       "      <td>250</td>\n",
       "      <td>70</td>\n",
       "      <td>8.0</td>\n",
       "      <td>12</td>\n",
       "      <td>3.0</td>\n",
       "      <td>15</td>\n",
       "      <td>0.0</td>\n",
       "      <td>...</td>\n",
       "      <td>30</td>\n",
       "      <td>10</td>\n",
       "      <td>4</td>\n",
       "      <td>17</td>\n",
       "      <td>3</td>\n",
       "      <td>18</td>\n",
       "      <td>6</td>\n",
       "      <td>0</td>\n",
       "      <td>25</td>\n",
       "      <td>8</td>\n",
       "    </tr>\n",
       "    <tr>\n",
       "      <th>2</th>\n",
       "      <td>Breakfast</td>\n",
       "      <td>Sausage McMuffin</td>\n",
       "      <td>3.9 oz (111 g)</td>\n",
       "      <td>370</td>\n",
       "      <td>200</td>\n",
       "      <td>23.0</td>\n",
       "      <td>35</td>\n",
       "      <td>8.0</td>\n",
       "      <td>42</td>\n",
       "      <td>0.0</td>\n",
       "      <td>...</td>\n",
       "      <td>29</td>\n",
       "      <td>10</td>\n",
       "      <td>4</td>\n",
       "      <td>17</td>\n",
       "      <td>2</td>\n",
       "      <td>14</td>\n",
       "      <td>8</td>\n",
       "      <td>0</td>\n",
       "      <td>25</td>\n",
       "      <td>10</td>\n",
       "    </tr>\n",
       "    <tr>\n",
       "      <th>3</th>\n",
       "      <td>Breakfast</td>\n",
       "      <td>Sausage McMuffin with Egg</td>\n",
       "      <td>5.7 oz (161 g)</td>\n",
       "      <td>450</td>\n",
       "      <td>250</td>\n",
       "      <td>28.0</td>\n",
       "      <td>43</td>\n",
       "      <td>10.0</td>\n",
       "      <td>52</td>\n",
       "      <td>0.0</td>\n",
       "      <td>...</td>\n",
       "      <td>30</td>\n",
       "      <td>10</td>\n",
       "      <td>4</td>\n",
       "      <td>17</td>\n",
       "      <td>2</td>\n",
       "      <td>21</td>\n",
       "      <td>15</td>\n",
       "      <td>0</td>\n",
       "      <td>30</td>\n",
       "      <td>15</td>\n",
       "    </tr>\n",
       "    <tr>\n",
       "      <th>4</th>\n",
       "      <td>Breakfast</td>\n",
       "      <td>Sausage McMuffin with Egg Whites</td>\n",
       "      <td>5.7 oz (161 g)</td>\n",
       "      <td>400</td>\n",
       "      <td>210</td>\n",
       "      <td>23.0</td>\n",
       "      <td>35</td>\n",
       "      <td>8.0</td>\n",
       "      <td>42</td>\n",
       "      <td>0.0</td>\n",
       "      <td>...</td>\n",
       "      <td>30</td>\n",
       "      <td>10</td>\n",
       "      <td>4</td>\n",
       "      <td>17</td>\n",
       "      <td>2</td>\n",
       "      <td>21</td>\n",
       "      <td>6</td>\n",
       "      <td>0</td>\n",
       "      <td>25</td>\n",
       "      <td>10</td>\n",
       "    </tr>\n",
       "    <tr>\n",
       "      <th>5</th>\n",
       "      <td>Breakfast</td>\n",
       "      <td>Steak &amp; Egg McMuffin</td>\n",
       "      <td>6.5 oz (185 g)</td>\n",
       "      <td>430</td>\n",
       "      <td>210</td>\n",
       "      <td>23.0</td>\n",
       "      <td>36</td>\n",
       "      <td>9.0</td>\n",
       "      <td>46</td>\n",
       "      <td>1.0</td>\n",
       "      <td>...</td>\n",
       "      <td>31</td>\n",
       "      <td>10</td>\n",
       "      <td>4</td>\n",
       "      <td>18</td>\n",
       "      <td>3</td>\n",
       "      <td>26</td>\n",
       "      <td>15</td>\n",
       "      <td>2</td>\n",
       "      <td>30</td>\n",
       "      <td>20</td>\n",
       "    </tr>\n",
       "  </tbody>\n",
       "</table>\n",
       "<p>6 rows × 24 columns</p>\n",
       "</div>"
      ],
      "text/plain": [
       "    Category                              Item    Serving Size  Calories  \\\n",
       "0  Breakfast                      Egg McMuffin  4.8 oz (136 g)       300   \n",
       "1  Breakfast                 Egg White Delight  4.8 oz (135 g)       250   \n",
       "2  Breakfast                  Sausage McMuffin  3.9 oz (111 g)       370   \n",
       "3  Breakfast         Sausage McMuffin with Egg  5.7 oz (161 g)       450   \n",
       "4  Breakfast  Sausage McMuffin with Egg Whites  5.7 oz (161 g)       400   \n",
       "5  Breakfast              Steak & Egg McMuffin  6.5 oz (185 g)       430   \n",
       "\n",
       "   Calories from Fat  Total Fat  Total Fat (% Daily Value)  Saturated Fat  \\\n",
       "0                120       13.0                         20            5.0   \n",
       "1                 70        8.0                         12            3.0   \n",
       "2                200       23.0                         35            8.0   \n",
       "3                250       28.0                         43           10.0   \n",
       "4                210       23.0                         35            8.0   \n",
       "5                210       23.0                         36            9.0   \n",
       "\n",
       "   Saturated Fat (% Daily Value)  Trans Fat  ...  Carbohydrates  \\\n",
       "0                             25        0.0  ...             31   \n",
       "1                             15        0.0  ...             30   \n",
       "2                             42        0.0  ...             29   \n",
       "3                             52        0.0  ...             30   \n",
       "4                             42        0.0  ...             30   \n",
       "5                             46        1.0  ...             31   \n",
       "\n",
       "   Carbohydrates (% Daily Value)  Dietary Fiber  \\\n",
       "0                             10              4   \n",
       "1                             10              4   \n",
       "2                             10              4   \n",
       "3                             10              4   \n",
       "4                             10              4   \n",
       "5                             10              4   \n",
       "\n",
       "   Dietary Fiber (% Daily Value)  Sugars  Protein  Vitamin A (% Daily Value)  \\\n",
       "0                             17       3       17                         10   \n",
       "1                             17       3       18                          6   \n",
       "2                             17       2       14                          8   \n",
       "3                             17       2       21                         15   \n",
       "4                             17       2       21                          6   \n",
       "5                             18       3       26                         15   \n",
       "\n",
       "   Vitamin C (% Daily Value)  Calcium (% Daily Value)  Iron (% Daily Value)  \n",
       "0                          0                       25                    15  \n",
       "1                          0                       25                     8  \n",
       "2                          0                       25                    10  \n",
       "3                          0                       30                    15  \n",
       "4                          0                       25                    10  \n",
       "5                          2                       30                    20  \n",
       "\n",
       "[6 rows x 24 columns]"
      ]
     },
     "execution_count": 43,
     "metadata": {},
     "output_type": "execute_result"
    }
   ],
   "source": [
    "mc=pd.read_csv(r\"C:\\Users\\mared\\Downloads\\archive (3)\\menu.csv\")\n",
    "mc.head(6)"
   ]
  },
  {
   "cell_type": "code",
   "execution_count": 44,
   "id": "f98d54fd-f50a-406d-b19b-9bd9978bcaa8",
   "metadata": {},
   "outputs": [
    {
     "data": {
      "text/plain": [
       "Category                         0\n",
       "Item                             0\n",
       "Serving Size                     0\n",
       "Calories                         0\n",
       "Calories from Fat                0\n",
       "Total Fat                        0\n",
       "Total Fat (% Daily Value)        0\n",
       "Saturated Fat                    0\n",
       "Saturated Fat (% Daily Value)    0\n",
       "Trans Fat                        0\n",
       "Cholesterol                      0\n",
       "Cholesterol (% Daily Value)      0\n",
       "Sodium                           0\n",
       "Sodium (% Daily Value)           0\n",
       "Carbohydrates                    0\n",
       "Carbohydrates (% Daily Value)    0\n",
       "Dietary Fiber                    0\n",
       "Dietary Fiber (% Daily Value)    0\n",
       "Sugars                           0\n",
       "Protein                          0\n",
       "Vitamin A (% Daily Value)        0\n",
       "Vitamin C (% Daily Value)        0\n",
       "Calcium (% Daily Value)          0\n",
       "Iron (% Daily Value)             0\n",
       "dtype: int64"
      ]
     },
     "execution_count": 44,
     "metadata": {},
     "output_type": "execute_result"
    }
   ],
   "source": [
    "mc.isnull().sum()"
   ]
  },
  {
   "cell_type": "code",
   "execution_count": 45,
   "id": "149c4323-0ae5-4e90-835d-31a5ea06cbc5",
   "metadata": {},
   "outputs": [
    {
     "data": {
      "text/html": [
       "<div>\n",
       "<style scoped>\n",
       "    .dataframe tbody tr th:only-of-type {\n",
       "        vertical-align: middle;\n",
       "    }\n",
       "\n",
       "    .dataframe tbody tr th {\n",
       "        vertical-align: top;\n",
       "    }\n",
       "\n",
       "    .dataframe thead th {\n",
       "        text-align: right;\n",
       "    }\n",
       "</style>\n",
       "<table border=\"1\" class=\"dataframe\">\n",
       "  <thead>\n",
       "    <tr style=\"text-align: right;\">\n",
       "      <th></th>\n",
       "      <th>Category</th>\n",
       "      <th>Item</th>\n",
       "      <th>Serving Size</th>\n",
       "      <th>Calories</th>\n",
       "      <th>Calories from Fat</th>\n",
       "      <th>Total Fat</th>\n",
       "      <th>Total Fat (% Daily Value)</th>\n",
       "      <th>Saturated Fat</th>\n",
       "      <th>Saturated Fat (% Daily Value)</th>\n",
       "      <th>Trans Fat</th>\n",
       "      <th>...</th>\n",
       "      <th>Carbohydrates</th>\n",
       "      <th>Carbohydrates (% Daily Value)</th>\n",
       "      <th>Dietary Fiber</th>\n",
       "      <th>Dietary Fiber (% Daily Value)</th>\n",
       "      <th>Sugars</th>\n",
       "      <th>Protein</th>\n",
       "      <th>Vitamin A (% Daily Value)</th>\n",
       "      <th>Vitamin C (% Daily Value)</th>\n",
       "      <th>Calcium (% Daily Value)</th>\n",
       "      <th>Iron (% Daily Value)</th>\n",
       "    </tr>\n",
       "  </thead>\n",
       "  <tbody>\n",
       "    <tr>\n",
       "      <th>0</th>\n",
       "      <td>Breakfast</td>\n",
       "      <td>Egg McMuffin</td>\n",
       "      <td>4.8 oz (136 g)</td>\n",
       "      <td>300</td>\n",
       "      <td>120</td>\n",
       "      <td>13.0</td>\n",
       "      <td>20</td>\n",
       "      <td>5.0</td>\n",
       "      <td>25</td>\n",
       "      <td>0.0</td>\n",
       "      <td>...</td>\n",
       "      <td>31</td>\n",
       "      <td>10</td>\n",
       "      <td>4</td>\n",
       "      <td>17</td>\n",
       "      <td>3</td>\n",
       "      <td>17</td>\n",
       "      <td>10</td>\n",
       "      <td>0</td>\n",
       "      <td>25</td>\n",
       "      <td>15</td>\n",
       "    </tr>\n",
       "    <tr>\n",
       "      <th>1</th>\n",
       "      <td>Breakfast</td>\n",
       "      <td>Egg White Delight</td>\n",
       "      <td>4.8 oz (135 g)</td>\n",
       "      <td>250</td>\n",
       "      <td>70</td>\n",
       "      <td>8.0</td>\n",
       "      <td>12</td>\n",
       "      <td>3.0</td>\n",
       "      <td>15</td>\n",
       "      <td>0.0</td>\n",
       "      <td>...</td>\n",
       "      <td>30</td>\n",
       "      <td>10</td>\n",
       "      <td>4</td>\n",
       "      <td>17</td>\n",
       "      <td>3</td>\n",
       "      <td>18</td>\n",
       "      <td>6</td>\n",
       "      <td>0</td>\n",
       "      <td>25</td>\n",
       "      <td>8</td>\n",
       "    </tr>\n",
       "    <tr>\n",
       "      <th>2</th>\n",
       "      <td>Breakfast</td>\n",
       "      <td>Sausage McMuffin</td>\n",
       "      <td>3.9 oz (111 g)</td>\n",
       "      <td>370</td>\n",
       "      <td>200</td>\n",
       "      <td>23.0</td>\n",
       "      <td>35</td>\n",
       "      <td>8.0</td>\n",
       "      <td>42</td>\n",
       "      <td>0.0</td>\n",
       "      <td>...</td>\n",
       "      <td>29</td>\n",
       "      <td>10</td>\n",
       "      <td>4</td>\n",
       "      <td>17</td>\n",
       "      <td>2</td>\n",
       "      <td>14</td>\n",
       "      <td>8</td>\n",
       "      <td>0</td>\n",
       "      <td>25</td>\n",
       "      <td>10</td>\n",
       "    </tr>\n",
       "    <tr>\n",
       "      <th>3</th>\n",
       "      <td>Breakfast</td>\n",
       "      <td>Sausage McMuffin with Egg</td>\n",
       "      <td>5.7 oz (161 g)</td>\n",
       "      <td>450</td>\n",
       "      <td>250</td>\n",
       "      <td>28.0</td>\n",
       "      <td>43</td>\n",
       "      <td>10.0</td>\n",
       "      <td>52</td>\n",
       "      <td>0.0</td>\n",
       "      <td>...</td>\n",
       "      <td>30</td>\n",
       "      <td>10</td>\n",
       "      <td>4</td>\n",
       "      <td>17</td>\n",
       "      <td>2</td>\n",
       "      <td>21</td>\n",
       "      <td>15</td>\n",
       "      <td>0</td>\n",
       "      <td>30</td>\n",
       "      <td>15</td>\n",
       "    </tr>\n",
       "    <tr>\n",
       "      <th>4</th>\n",
       "      <td>Breakfast</td>\n",
       "      <td>Sausage McMuffin with Egg Whites</td>\n",
       "      <td>5.7 oz (161 g)</td>\n",
       "      <td>400</td>\n",
       "      <td>210</td>\n",
       "      <td>23.0</td>\n",
       "      <td>35</td>\n",
       "      <td>8.0</td>\n",
       "      <td>42</td>\n",
       "      <td>0.0</td>\n",
       "      <td>...</td>\n",
       "      <td>30</td>\n",
       "      <td>10</td>\n",
       "      <td>4</td>\n",
       "      <td>17</td>\n",
       "      <td>2</td>\n",
       "      <td>21</td>\n",
       "      <td>6</td>\n",
       "      <td>0</td>\n",
       "      <td>25</td>\n",
       "      <td>10</td>\n",
       "    </tr>\n",
       "    <tr>\n",
       "      <th>...</th>\n",
       "      <td>...</td>\n",
       "      <td>...</td>\n",
       "      <td>...</td>\n",
       "      <td>...</td>\n",
       "      <td>...</td>\n",
       "      <td>...</td>\n",
       "      <td>...</td>\n",
       "      <td>...</td>\n",
       "      <td>...</td>\n",
       "      <td>...</td>\n",
       "      <td>...</td>\n",
       "      <td>...</td>\n",
       "      <td>...</td>\n",
       "      <td>...</td>\n",
       "      <td>...</td>\n",
       "      <td>...</td>\n",
       "      <td>...</td>\n",
       "      <td>...</td>\n",
       "      <td>...</td>\n",
       "      <td>...</td>\n",
       "      <td>...</td>\n",
       "    </tr>\n",
       "    <tr>\n",
       "      <th>255</th>\n",
       "      <td>Smoothies &amp; Shakes</td>\n",
       "      <td>McFlurry with Oreo Cookies (Small)</td>\n",
       "      <td>10.1 oz (285 g)</td>\n",
       "      <td>510</td>\n",
       "      <td>150</td>\n",
       "      <td>17.0</td>\n",
       "      <td>26</td>\n",
       "      <td>9.0</td>\n",
       "      <td>44</td>\n",
       "      <td>0.5</td>\n",
       "      <td>...</td>\n",
       "      <td>80</td>\n",
       "      <td>27</td>\n",
       "      <td>1</td>\n",
       "      <td>4</td>\n",
       "      <td>64</td>\n",
       "      <td>12</td>\n",
       "      <td>15</td>\n",
       "      <td>0</td>\n",
       "      <td>40</td>\n",
       "      <td>8</td>\n",
       "    </tr>\n",
       "    <tr>\n",
       "      <th>256</th>\n",
       "      <td>Smoothies &amp; Shakes</td>\n",
       "      <td>McFlurry with Oreo Cookies (Medium)</td>\n",
       "      <td>13.4 oz (381 g)</td>\n",
       "      <td>690</td>\n",
       "      <td>200</td>\n",
       "      <td>23.0</td>\n",
       "      <td>35</td>\n",
       "      <td>12.0</td>\n",
       "      <td>58</td>\n",
       "      <td>1.0</td>\n",
       "      <td>...</td>\n",
       "      <td>106</td>\n",
       "      <td>35</td>\n",
       "      <td>1</td>\n",
       "      <td>5</td>\n",
       "      <td>85</td>\n",
       "      <td>15</td>\n",
       "      <td>20</td>\n",
       "      <td>0</td>\n",
       "      <td>50</td>\n",
       "      <td>10</td>\n",
       "    </tr>\n",
       "    <tr>\n",
       "      <th>257</th>\n",
       "      <td>Smoothies &amp; Shakes</td>\n",
       "      <td>McFlurry with Oreo Cookies (Snack)</td>\n",
       "      <td>6.7 oz (190 g)</td>\n",
       "      <td>340</td>\n",
       "      <td>100</td>\n",
       "      <td>11.0</td>\n",
       "      <td>17</td>\n",
       "      <td>6.0</td>\n",
       "      <td>29</td>\n",
       "      <td>0.0</td>\n",
       "      <td>...</td>\n",
       "      <td>53</td>\n",
       "      <td>18</td>\n",
       "      <td>1</td>\n",
       "      <td>2</td>\n",
       "      <td>43</td>\n",
       "      <td>8</td>\n",
       "      <td>10</td>\n",
       "      <td>0</td>\n",
       "      <td>25</td>\n",
       "      <td>6</td>\n",
       "    </tr>\n",
       "    <tr>\n",
       "      <th>258</th>\n",
       "      <td>Smoothies &amp; Shakes</td>\n",
       "      <td>McFlurry with Reese's Peanut Butter Cups (Medium)</td>\n",
       "      <td>14.2 oz (403 g)</td>\n",
       "      <td>810</td>\n",
       "      <td>290</td>\n",
       "      <td>32.0</td>\n",
       "      <td>50</td>\n",
       "      <td>15.0</td>\n",
       "      <td>76</td>\n",
       "      <td>1.0</td>\n",
       "      <td>...</td>\n",
       "      <td>114</td>\n",
       "      <td>38</td>\n",
       "      <td>2</td>\n",
       "      <td>9</td>\n",
       "      <td>103</td>\n",
       "      <td>21</td>\n",
       "      <td>20</td>\n",
       "      <td>0</td>\n",
       "      <td>60</td>\n",
       "      <td>6</td>\n",
       "    </tr>\n",
       "    <tr>\n",
       "      <th>259</th>\n",
       "      <td>Smoothies &amp; Shakes</td>\n",
       "      <td>McFlurry with Reese's Peanut Butter Cups (Snack)</td>\n",
       "      <td>7.1 oz (202 g)</td>\n",
       "      <td>410</td>\n",
       "      <td>150</td>\n",
       "      <td>16.0</td>\n",
       "      <td>25</td>\n",
       "      <td>8.0</td>\n",
       "      <td>38</td>\n",
       "      <td>0.0</td>\n",
       "      <td>...</td>\n",
       "      <td>57</td>\n",
       "      <td>19</td>\n",
       "      <td>1</td>\n",
       "      <td>5</td>\n",
       "      <td>51</td>\n",
       "      <td>10</td>\n",
       "      <td>10</td>\n",
       "      <td>0</td>\n",
       "      <td>30</td>\n",
       "      <td>4</td>\n",
       "    </tr>\n",
       "  </tbody>\n",
       "</table>\n",
       "<p>260 rows × 24 columns</p>\n",
       "</div>"
      ],
      "text/plain": [
       "               Category                                               Item  \\\n",
       "0             Breakfast                                       Egg McMuffin   \n",
       "1             Breakfast                                  Egg White Delight   \n",
       "2             Breakfast                                   Sausage McMuffin   \n",
       "3             Breakfast                          Sausage McMuffin with Egg   \n",
       "4             Breakfast                   Sausage McMuffin with Egg Whites   \n",
       "..                  ...                                                ...   \n",
       "255  Smoothies & Shakes                 McFlurry with Oreo Cookies (Small)   \n",
       "256  Smoothies & Shakes                McFlurry with Oreo Cookies (Medium)   \n",
       "257  Smoothies & Shakes                 McFlurry with Oreo Cookies (Snack)   \n",
       "258  Smoothies & Shakes  McFlurry with Reese's Peanut Butter Cups (Medium)   \n",
       "259  Smoothies & Shakes   McFlurry with Reese's Peanut Butter Cups (Snack)   \n",
       "\n",
       "        Serving Size  Calories  Calories from Fat  Total Fat  \\\n",
       "0     4.8 oz (136 g)       300                120       13.0   \n",
       "1     4.8 oz (135 g)       250                 70        8.0   \n",
       "2     3.9 oz (111 g)       370                200       23.0   \n",
       "3     5.7 oz (161 g)       450                250       28.0   \n",
       "4     5.7 oz (161 g)       400                210       23.0   \n",
       "..               ...       ...                ...        ...   \n",
       "255  10.1 oz (285 g)       510                150       17.0   \n",
       "256  13.4 oz (381 g)       690                200       23.0   \n",
       "257   6.7 oz (190 g)       340                100       11.0   \n",
       "258  14.2 oz (403 g)       810                290       32.0   \n",
       "259   7.1 oz (202 g)       410                150       16.0   \n",
       "\n",
       "     Total Fat (% Daily Value)  Saturated Fat  Saturated Fat (% Daily Value)  \\\n",
       "0                           20            5.0                             25   \n",
       "1                           12            3.0                             15   \n",
       "2                           35            8.0                             42   \n",
       "3                           43           10.0                             52   \n",
       "4                           35            8.0                             42   \n",
       "..                         ...            ...                            ...   \n",
       "255                         26            9.0                             44   \n",
       "256                         35           12.0                             58   \n",
       "257                         17            6.0                             29   \n",
       "258                         50           15.0                             76   \n",
       "259                         25            8.0                             38   \n",
       "\n",
       "     Trans Fat  ...  Carbohydrates  Carbohydrates (% Daily Value)  \\\n",
       "0          0.0  ...             31                             10   \n",
       "1          0.0  ...             30                             10   \n",
       "2          0.0  ...             29                             10   \n",
       "3          0.0  ...             30                             10   \n",
       "4          0.0  ...             30                             10   \n",
       "..         ...  ...            ...                            ...   \n",
       "255        0.5  ...             80                             27   \n",
       "256        1.0  ...            106                             35   \n",
       "257        0.0  ...             53                             18   \n",
       "258        1.0  ...            114                             38   \n",
       "259        0.0  ...             57                             19   \n",
       "\n",
       "     Dietary Fiber  Dietary Fiber (% Daily Value)  Sugars  Protein  \\\n",
       "0                4                             17       3       17   \n",
       "1                4                             17       3       18   \n",
       "2                4                             17       2       14   \n",
       "3                4                             17       2       21   \n",
       "4                4                             17       2       21   \n",
       "..             ...                            ...     ...      ...   \n",
       "255              1                              4      64       12   \n",
       "256              1                              5      85       15   \n",
       "257              1                              2      43        8   \n",
       "258              2                              9     103       21   \n",
       "259              1                              5      51       10   \n",
       "\n",
       "     Vitamin A (% Daily Value)  Vitamin C (% Daily Value)  \\\n",
       "0                           10                          0   \n",
       "1                            6                          0   \n",
       "2                            8                          0   \n",
       "3                           15                          0   \n",
       "4                            6                          0   \n",
       "..                         ...                        ...   \n",
       "255                         15                          0   \n",
       "256                         20                          0   \n",
       "257                         10                          0   \n",
       "258                         20                          0   \n",
       "259                         10                          0   \n",
       "\n",
       "     Calcium (% Daily Value)  Iron (% Daily Value)  \n",
       "0                         25                    15  \n",
       "1                         25                     8  \n",
       "2                         25                    10  \n",
       "3                         30                    15  \n",
       "4                         25                    10  \n",
       "..                       ...                   ...  \n",
       "255                       40                     8  \n",
       "256                       50                    10  \n",
       "257                       25                     6  \n",
       "258                       60                     6  \n",
       "259                       30                     4  \n",
       "\n",
       "[260 rows x 24 columns]"
      ]
     },
     "execution_count": 45,
     "metadata": {},
     "output_type": "execute_result"
    }
   ],
   "source": [
    "mc.drop_duplicates()"
   ]
  },
  {
   "cell_type": "code",
   "execution_count": 46,
   "id": "eb461bcf-82dd-4dc7-995f-bf031d44a473",
   "metadata": {},
   "outputs": [
    {
     "name": "stdout",
     "output_type": "stream",
     "text": [
      "<class 'pandas.core.frame.DataFrame'>\n",
      "RangeIndex: 260 entries, 0 to 259\n",
      "Data columns (total 24 columns):\n",
      " #   Column                         Non-Null Count  Dtype  \n",
      "---  ------                         --------------  -----  \n",
      " 0   Category                       260 non-null    object \n",
      " 1   Item                           260 non-null    object \n",
      " 2   Serving Size                   260 non-null    object \n",
      " 3   Calories                       260 non-null    int64  \n",
      " 4   Calories from Fat              260 non-null    int64  \n",
      " 5   Total Fat                      260 non-null    float64\n",
      " 6   Total Fat (% Daily Value)      260 non-null    int64  \n",
      " 7   Saturated Fat                  260 non-null    float64\n",
      " 8   Saturated Fat (% Daily Value)  260 non-null    int64  \n",
      " 9   Trans Fat                      260 non-null    float64\n",
      " 10  Cholesterol                    260 non-null    int64  \n",
      " 11  Cholesterol (% Daily Value)    260 non-null    int64  \n",
      " 12  Sodium                         260 non-null    int64  \n",
      " 13  Sodium (% Daily Value)         260 non-null    int64  \n",
      " 14  Carbohydrates                  260 non-null    int64  \n",
      " 15  Carbohydrates (% Daily Value)  260 non-null    int64  \n",
      " 16  Dietary Fiber                  260 non-null    int64  \n",
      " 17  Dietary Fiber (% Daily Value)  260 non-null    int64  \n",
      " 18  Sugars                         260 non-null    int64  \n",
      " 19  Protein                        260 non-null    int64  \n",
      " 20  Vitamin A (% Daily Value)      260 non-null    int64  \n",
      " 21  Vitamin C (% Daily Value)      260 non-null    int64  \n",
      " 22  Calcium (% Daily Value)        260 non-null    int64  \n",
      " 23  Iron (% Daily Value)           260 non-null    int64  \n",
      "dtypes: float64(3), int64(18), object(3)\n",
      "memory usage: 48.9+ KB\n"
     ]
    }
   ],
   "source": [
    "mc.info()"
   ]
  },
  {
   "cell_type": "code",
   "execution_count": 47,
   "id": "149a455c-5a08-40aa-87af-724977eee82c",
   "metadata": {},
   "outputs": [
    {
     "data": {
      "text/html": [
       "<div>\n",
       "<style scoped>\n",
       "    .dataframe tbody tr th:only-of-type {\n",
       "        vertical-align: middle;\n",
       "    }\n",
       "\n",
       "    .dataframe tbody tr th {\n",
       "        vertical-align: top;\n",
       "    }\n",
       "\n",
       "    .dataframe thead th {\n",
       "        text-align: right;\n",
       "    }\n",
       "</style>\n",
       "<table border=\"1\" class=\"dataframe\">\n",
       "  <thead>\n",
       "    <tr style=\"text-align: right;\">\n",
       "      <th></th>\n",
       "      <th>Calories</th>\n",
       "      <th>Calories from Fat</th>\n",
       "      <th>Total Fat</th>\n",
       "      <th>Total Fat (% Daily Value)</th>\n",
       "      <th>Saturated Fat</th>\n",
       "      <th>Saturated Fat (% Daily Value)</th>\n",
       "      <th>Trans Fat</th>\n",
       "      <th>Cholesterol</th>\n",
       "      <th>Cholesterol (% Daily Value)</th>\n",
       "      <th>Sodium</th>\n",
       "      <th>...</th>\n",
       "      <th>Carbohydrates</th>\n",
       "      <th>Carbohydrates (% Daily Value)</th>\n",
       "      <th>Dietary Fiber</th>\n",
       "      <th>Dietary Fiber (% Daily Value)</th>\n",
       "      <th>Sugars</th>\n",
       "      <th>Protein</th>\n",
       "      <th>Vitamin A (% Daily Value)</th>\n",
       "      <th>Vitamin C (% Daily Value)</th>\n",
       "      <th>Calcium (% Daily Value)</th>\n",
       "      <th>Iron (% Daily Value)</th>\n",
       "    </tr>\n",
       "  </thead>\n",
       "  <tbody>\n",
       "    <tr>\n",
       "      <th>count</th>\n",
       "      <td>260.000000</td>\n",
       "      <td>260.000000</td>\n",
       "      <td>260.000000</td>\n",
       "      <td>260.000000</td>\n",
       "      <td>260.000000</td>\n",
       "      <td>260.000000</td>\n",
       "      <td>260.000000</td>\n",
       "      <td>260.000000</td>\n",
       "      <td>260.000000</td>\n",
       "      <td>260.000000</td>\n",
       "      <td>...</td>\n",
       "      <td>260.000000</td>\n",
       "      <td>260.000000</td>\n",
       "      <td>260.000000</td>\n",
       "      <td>260.000000</td>\n",
       "      <td>260.000000</td>\n",
       "      <td>260.000000</td>\n",
       "      <td>260.000000</td>\n",
       "      <td>260.000000</td>\n",
       "      <td>260.000000</td>\n",
       "      <td>260.000000</td>\n",
       "    </tr>\n",
       "    <tr>\n",
       "      <th>mean</th>\n",
       "      <td>368.269231</td>\n",
       "      <td>127.096154</td>\n",
       "      <td>14.165385</td>\n",
       "      <td>21.815385</td>\n",
       "      <td>6.007692</td>\n",
       "      <td>29.965385</td>\n",
       "      <td>0.203846</td>\n",
       "      <td>54.942308</td>\n",
       "      <td>18.392308</td>\n",
       "      <td>495.750000</td>\n",
       "      <td>...</td>\n",
       "      <td>47.346154</td>\n",
       "      <td>15.780769</td>\n",
       "      <td>1.630769</td>\n",
       "      <td>6.530769</td>\n",
       "      <td>29.423077</td>\n",
       "      <td>13.338462</td>\n",
       "      <td>13.426923</td>\n",
       "      <td>8.534615</td>\n",
       "      <td>20.973077</td>\n",
       "      <td>7.734615</td>\n",
       "    </tr>\n",
       "    <tr>\n",
       "      <th>std</th>\n",
       "      <td>240.269886</td>\n",
       "      <td>127.875914</td>\n",
       "      <td>14.205998</td>\n",
       "      <td>21.885199</td>\n",
       "      <td>5.321873</td>\n",
       "      <td>26.639209</td>\n",
       "      <td>0.429133</td>\n",
       "      <td>87.269257</td>\n",
       "      <td>29.091653</td>\n",
       "      <td>577.026323</td>\n",
       "      <td>...</td>\n",
       "      <td>28.252232</td>\n",
       "      <td>9.419544</td>\n",
       "      <td>1.567717</td>\n",
       "      <td>6.307057</td>\n",
       "      <td>28.679797</td>\n",
       "      <td>11.426146</td>\n",
       "      <td>24.366381</td>\n",
       "      <td>26.345542</td>\n",
       "      <td>17.019953</td>\n",
       "      <td>8.723263</td>\n",
       "    </tr>\n",
       "    <tr>\n",
       "      <th>min</th>\n",
       "      <td>0.000000</td>\n",
       "      <td>0.000000</td>\n",
       "      <td>0.000000</td>\n",
       "      <td>0.000000</td>\n",
       "      <td>0.000000</td>\n",
       "      <td>0.000000</td>\n",
       "      <td>0.000000</td>\n",
       "      <td>0.000000</td>\n",
       "      <td>0.000000</td>\n",
       "      <td>0.000000</td>\n",
       "      <td>...</td>\n",
       "      <td>0.000000</td>\n",
       "      <td>0.000000</td>\n",
       "      <td>0.000000</td>\n",
       "      <td>0.000000</td>\n",
       "      <td>0.000000</td>\n",
       "      <td>0.000000</td>\n",
       "      <td>0.000000</td>\n",
       "      <td>0.000000</td>\n",
       "      <td>0.000000</td>\n",
       "      <td>0.000000</td>\n",
       "    </tr>\n",
       "    <tr>\n",
       "      <th>25%</th>\n",
       "      <td>210.000000</td>\n",
       "      <td>20.000000</td>\n",
       "      <td>2.375000</td>\n",
       "      <td>3.750000</td>\n",
       "      <td>1.000000</td>\n",
       "      <td>4.750000</td>\n",
       "      <td>0.000000</td>\n",
       "      <td>5.000000</td>\n",
       "      <td>2.000000</td>\n",
       "      <td>107.500000</td>\n",
       "      <td>...</td>\n",
       "      <td>30.000000</td>\n",
       "      <td>10.000000</td>\n",
       "      <td>0.000000</td>\n",
       "      <td>0.000000</td>\n",
       "      <td>5.750000</td>\n",
       "      <td>4.000000</td>\n",
       "      <td>2.000000</td>\n",
       "      <td>0.000000</td>\n",
       "      <td>6.000000</td>\n",
       "      <td>0.000000</td>\n",
       "    </tr>\n",
       "    <tr>\n",
       "      <th>50%</th>\n",
       "      <td>340.000000</td>\n",
       "      <td>100.000000</td>\n",
       "      <td>11.000000</td>\n",
       "      <td>17.000000</td>\n",
       "      <td>5.000000</td>\n",
       "      <td>24.000000</td>\n",
       "      <td>0.000000</td>\n",
       "      <td>35.000000</td>\n",
       "      <td>11.000000</td>\n",
       "      <td>190.000000</td>\n",
       "      <td>...</td>\n",
       "      <td>44.000000</td>\n",
       "      <td>15.000000</td>\n",
       "      <td>1.000000</td>\n",
       "      <td>5.000000</td>\n",
       "      <td>17.500000</td>\n",
       "      <td>12.000000</td>\n",
       "      <td>8.000000</td>\n",
       "      <td>0.000000</td>\n",
       "      <td>20.000000</td>\n",
       "      <td>4.000000</td>\n",
       "    </tr>\n",
       "    <tr>\n",
       "      <th>75%</th>\n",
       "      <td>500.000000</td>\n",
       "      <td>200.000000</td>\n",
       "      <td>22.250000</td>\n",
       "      <td>35.000000</td>\n",
       "      <td>10.000000</td>\n",
       "      <td>48.000000</td>\n",
       "      <td>0.000000</td>\n",
       "      <td>65.000000</td>\n",
       "      <td>21.250000</td>\n",
       "      <td>865.000000</td>\n",
       "      <td>...</td>\n",
       "      <td>60.000000</td>\n",
       "      <td>20.000000</td>\n",
       "      <td>3.000000</td>\n",
       "      <td>10.000000</td>\n",
       "      <td>48.000000</td>\n",
       "      <td>19.000000</td>\n",
       "      <td>15.000000</td>\n",
       "      <td>4.000000</td>\n",
       "      <td>30.000000</td>\n",
       "      <td>15.000000</td>\n",
       "    </tr>\n",
       "    <tr>\n",
       "      <th>max</th>\n",
       "      <td>1880.000000</td>\n",
       "      <td>1060.000000</td>\n",
       "      <td>118.000000</td>\n",
       "      <td>182.000000</td>\n",
       "      <td>20.000000</td>\n",
       "      <td>102.000000</td>\n",
       "      <td>2.500000</td>\n",
       "      <td>575.000000</td>\n",
       "      <td>192.000000</td>\n",
       "      <td>3600.000000</td>\n",
       "      <td>...</td>\n",
       "      <td>141.000000</td>\n",
       "      <td>47.000000</td>\n",
       "      <td>7.000000</td>\n",
       "      <td>28.000000</td>\n",
       "      <td>128.000000</td>\n",
       "      <td>87.000000</td>\n",
       "      <td>170.000000</td>\n",
       "      <td>240.000000</td>\n",
       "      <td>70.000000</td>\n",
       "      <td>40.000000</td>\n",
       "    </tr>\n",
       "  </tbody>\n",
       "</table>\n",
       "<p>8 rows × 21 columns</p>\n",
       "</div>"
      ],
      "text/plain": [
       "          Calories  Calories from Fat   Total Fat  Total Fat (% Daily Value)  \\\n",
       "count   260.000000         260.000000  260.000000                 260.000000   \n",
       "mean    368.269231         127.096154   14.165385                  21.815385   \n",
       "std     240.269886         127.875914   14.205998                  21.885199   \n",
       "min       0.000000           0.000000    0.000000                   0.000000   \n",
       "25%     210.000000          20.000000    2.375000                   3.750000   \n",
       "50%     340.000000         100.000000   11.000000                  17.000000   \n",
       "75%     500.000000         200.000000   22.250000                  35.000000   \n",
       "max    1880.000000        1060.000000  118.000000                 182.000000   \n",
       "\n",
       "       Saturated Fat  Saturated Fat (% Daily Value)   Trans Fat  Cholesterol  \\\n",
       "count     260.000000                     260.000000  260.000000   260.000000   \n",
       "mean        6.007692                      29.965385    0.203846    54.942308   \n",
       "std         5.321873                      26.639209    0.429133    87.269257   \n",
       "min         0.000000                       0.000000    0.000000     0.000000   \n",
       "25%         1.000000                       4.750000    0.000000     5.000000   \n",
       "50%         5.000000                      24.000000    0.000000    35.000000   \n",
       "75%        10.000000                      48.000000    0.000000    65.000000   \n",
       "max        20.000000                     102.000000    2.500000   575.000000   \n",
       "\n",
       "       Cholesterol (% Daily Value)       Sodium  ...  Carbohydrates  \\\n",
       "count                   260.000000   260.000000  ...     260.000000   \n",
       "mean                     18.392308   495.750000  ...      47.346154   \n",
       "std                      29.091653   577.026323  ...      28.252232   \n",
       "min                       0.000000     0.000000  ...       0.000000   \n",
       "25%                       2.000000   107.500000  ...      30.000000   \n",
       "50%                      11.000000   190.000000  ...      44.000000   \n",
       "75%                      21.250000   865.000000  ...      60.000000   \n",
       "max                     192.000000  3600.000000  ...     141.000000   \n",
       "\n",
       "       Carbohydrates (% Daily Value)  Dietary Fiber  \\\n",
       "count                     260.000000     260.000000   \n",
       "mean                       15.780769       1.630769   \n",
       "std                         9.419544       1.567717   \n",
       "min                         0.000000       0.000000   \n",
       "25%                        10.000000       0.000000   \n",
       "50%                        15.000000       1.000000   \n",
       "75%                        20.000000       3.000000   \n",
       "max                        47.000000       7.000000   \n",
       "\n",
       "       Dietary Fiber (% Daily Value)      Sugars     Protein  \\\n",
       "count                     260.000000  260.000000  260.000000   \n",
       "mean                        6.530769   29.423077   13.338462   \n",
       "std                         6.307057   28.679797   11.426146   \n",
       "min                         0.000000    0.000000    0.000000   \n",
       "25%                         0.000000    5.750000    4.000000   \n",
       "50%                         5.000000   17.500000   12.000000   \n",
       "75%                        10.000000   48.000000   19.000000   \n",
       "max                        28.000000  128.000000   87.000000   \n",
       "\n",
       "       Vitamin A (% Daily Value)  Vitamin C (% Daily Value)  \\\n",
       "count                 260.000000                 260.000000   \n",
       "mean                   13.426923                   8.534615   \n",
       "std                    24.366381                  26.345542   \n",
       "min                     0.000000                   0.000000   \n",
       "25%                     2.000000                   0.000000   \n",
       "50%                     8.000000                   0.000000   \n",
       "75%                    15.000000                   4.000000   \n",
       "max                   170.000000                 240.000000   \n",
       "\n",
       "       Calcium (% Daily Value)  Iron (% Daily Value)  \n",
       "count               260.000000            260.000000  \n",
       "mean                 20.973077              7.734615  \n",
       "std                  17.019953              8.723263  \n",
       "min                   0.000000              0.000000  \n",
       "25%                   6.000000              0.000000  \n",
       "50%                  20.000000              4.000000  \n",
       "75%                  30.000000             15.000000  \n",
       "max                  70.000000             40.000000  \n",
       "\n",
       "[8 rows x 21 columns]"
      ]
     },
     "execution_count": 47,
     "metadata": {},
     "output_type": "execute_result"
    }
   ],
   "source": [
    "# for calculating the descriptive statstics\n",
    "mc.describe()"
   ]
  },
  {
   "cell_type": "code",
   "execution_count": 48,
   "id": "efe08598-ca8a-499e-9286-06336642f1cd",
   "metadata": {},
   "outputs": [],
   "source": [
    "import matplotlib.pyplot as pt\n",
    "import seaborn as se"
   ]
  },
  {
   "cell_type": "code",
   "execution_count": 75,
   "id": "b1052dba-59e3-4ea9-9867-26ae86436f9b",
   "metadata": {},
   "outputs": [
    {
     "data": {
      "image/png": "[encoded data removed]",
      "text/plain": [
       "<Figure size 1000x600 with 1 Axes>"
      ]
     },
     "metadata": {},
     "output_type": "display_data"
    }
   ],
   "source": [
    "#count of items for category\n",
    "pt.figure(figsize=(10,6))\n",
    "se.countplot(x='Category',data=mc)\n",
    "pt.title(\"count of items per category\")\n",
    "pt.show()"
   ]
  },
  {
   "cell_type": "code",
   "execution_count": 50,
   "id": "34998af8-f9dd-43ff-8451-0715a3b307d3",
   "metadata": {},
   "outputs": [
    {
     "name": "stdout",
     "output_type": "stream",
     "text": [
      "             Category    Calories\n",
      "0           Beverages  113.703704\n",
      "1            Desserts  222.142857\n",
      "2      Snacks & Sides  245.769231\n",
      "3              Salads  270.000000\n",
      "4        Coffee & Tea  283.894737\n",
      "5         Beef & Pork  494.000000\n",
      "6           Breakfast  526.666667\n",
      "7  Smoothies & Shakes  531.428571\n",
      "8      Chicken & Fish  552.962963\n"
     ]
    }
   ],
   "source": [
    "# average caloruies for category\n",
    "data1=mc.groupby('Category')['Calories'].mean().sort_values().reset_index()\n",
    "print(data1)"
   ]
  },
  {
   "cell_type": "code",
   "execution_count": 51,
   "id": "55297e5c-eb57-4f5e-bf76-42378fc33adc",
   "metadata": {},
   "outputs": [
    {
     "data": {
      "image/png": "[encoded data removed]",
      "text/plain": [
       "<Figure size 1500x500 with 1 Axes>"
      ]
     },
     "metadata": {},
     "output_type": "display_data"
    }
   ],
   "source": [
    "pt.figure(figsize=(15,5))\n",
    "se.barplot(x='Category',y='Calories',data=data1)\n",
    "pt.title(\"Average Calories per Category\")\n",
    "pt.xlabel('category')\n",
    "pt.ylabel('Calories')\n",
    "pt.show()"
   ]
  },
  {
   "cell_type": "code",
   "execution_count": 52,
   "id": "db32c4bf-95c4-46aa-b5f1-3e0d0630a5b7",
   "metadata": {},
   "outputs": [
    {
     "data": {
      "image/png": "[encoded data removed]",
      "text/plain": [
       "<Figure size 2000x500 with 1 Axes>"
      ]
     },
     "metadata": {},
     "output_type": "display_data"
    }
   ],
   "source": [
    "pt.figure(figsize=(20,5))\n",
    "se.scatterplot(x='Total Fat',y='Calories',data=mc)\n",
    "pt.title(\"Relationship between total fat and calories\")\n",
    "pt.xlabel('fats')\n",
    "pt.ylabel('Calories')\n",
    "pt.show()"
   ]
  },
  {
   "cell_type": "code",
   "execution_count": 53,
   "id": "9c5e08b6-e152-4553-939e-6c9da3487962",
   "metadata": {},
   "outputs": [
    {
     "name": "stdout",
     "output_type": "stream",
     "text": [
      "             Category     Sugars\n",
      "0      Snacks & Sides   4.076923\n",
      "1              Salads   6.833333\n",
      "2      Chicken & Fish   7.333333\n",
      "3           Breakfast   8.261905\n",
      "4         Beef & Pork   8.800000\n",
      "5            Desserts  26.142857\n",
      "6           Beverages  27.851852\n",
      "7        Coffee & Tea  39.610526\n",
      "8  Smoothies & Shakes  77.892857\n"
     ]
    }
   ],
   "source": [
    "# now we need to find the average of sugers  per category\n",
    "data2=mc.groupby('Category')['Sugars'].mean().sort_values().reset_index()\n",
    "print(data2)"
   ]
  },
  {
   "cell_type": "code",
   "execution_count": 54,
   "id": "d00d7756-abff-49c0-a5e3-88dc67555895",
   "metadata": {},
   "outputs": [
    {
     "data": {
      "image/png": "[encoded data removed]",
      "text/plain": [
       "<Figure size 1500x600 with 1 Axes>"
      ]
     },
     "metadata": {},
     "output_type": "display_data"
    }
   ],
   "source": [
    "pt.figure(figsize=(15,6))\n",
    "se.barplot(x='Category',y='Sugars',data=data2)\n",
    "pt.title(\"Average sugers per category\")\n",
    "pt.xlabel('Category')\n",
    "pt.ylabel('Avg of sugars')\n",
    "pt.show()\n",
    "          "
   ]
  },
  {
   "cell_type": "code",
   "execution_count": 55,
   "id": "6f5749a2-4713-4634-b2cc-6cbfa19f25dc",
   "metadata": {},
   "outputs": [
    {
     "name": "stdout",
     "output_type": "stream",
     "text": [
      "             Category  Cholesterol\n",
      "0         Beef & Pork    87.333333\n",
      "1           Beverages     0.555556\n",
      "2           Breakfast   152.857143\n",
      "3      Chicken & Fish    75.370370\n",
      "4        Coffee & Tea    27.263158\n",
      "5            Desserts    15.000000\n",
      "6              Salads    51.666667\n",
      "7  Smoothies & Shakes    45.000000\n",
      "8      Snacks & Sides    18.461538\n"
     ]
    }
   ],
   "source": [
    "data3=mc.groupby('Category')['Cholesterol'].mean().reset_index()\n",
    "print(data3)"
   ]
  },
  {
   "cell_type": "code",
   "execution_count": 56,
   "id": "9c1029ae-0aec-4017-84a3-f432fb0f6a24",
   "metadata": {},
   "outputs": [
    {
     "data": {
      "image/png": "[encoded data removed]",
      "text/plain": [
       "<Figure size 1500x600 with 1 Axes>"
      ]
     },
     "metadata": {},
     "output_type": "display_data"
    }
   ],
   "source": [
    "pt.figure(figsize=(15,6))\n",
    "se.barplot(x='Category',y='Cholesterol',data=data3)\n",
    "pt.title(\"Average cholesterol per category\")\n",
    "pt.xlabel('Category')\n",
    "pt.ylabel('Avg of cholesterol')\n",
    "pt.show()"
   ]
  },
  {
   "cell_type": "code",
   "execution_count": 57,
   "id": "c1e8f9c6-77b3-46c9-9e5d-866de766cd06",
   "metadata": {},
   "outputs": [
    {
     "name": "stdout",
     "output_type": "stream",
     "text": [
      "Category\n",
      "Beef & Pork             6.933333\n",
      "Beverages               0.740741\n",
      "Breakfast               6.928571\n",
      "Chicken & Fish         20.444444\n",
      "Coffee & Tea           10.736842\n",
      "Desserts                5.142857\n",
      "Salads                146.666667\n",
      "Smoothies & Shakes     18.750000\n",
      "Snacks & Sides          4.846154\n",
      "Name: Vitamin A (% Daily Value), dtype: float64\n"
     ]
    }
   ],
   "source": [
    "data4=mc.groupby('Category')['Vitamin A (% Daily Value)'].mean()\n",
    "print(data4)"
   ]
  },
  {
   "cell_type": "code",
   "execution_count": 58,
   "id": "abe06d02-f29f-49d9-afe4-c209ca3f1807",
   "metadata": {},
   "outputs": [
    {
     "name": "stdout",
     "output_type": "stream",
     "text": [
      "             Category       Sodium\n",
      "0         Beef & Pork  1020.666667\n",
      "1           Beverages    41.481481\n",
      "2           Breakfast  1211.071429\n",
      "3      Chicken & Fish  1257.777778\n",
      "4        Coffee & Tea   136.894737\n",
      "5            Desserts   117.142857\n",
      "6              Salads   588.333333\n",
      "7  Smoothies & Shakes   183.571429\n",
      "8      Snacks & Sides   395.769231\n"
     ]
    }
   ],
   "source": [
    "data5=mc.groupby('Category')['Sodium'].mean().reset_index()\n",
    "print(data5)"
   ]
  },
  {
   "cell_type": "code",
   "execution_count": 59,
   "id": "7fa473d1-48e5-4bcf-9fe7-cc5246919127",
   "metadata": {},
   "outputs": [
    {
     "data": {
      "image/png": "[encoded data removed]",
      "text/plain": [
       "<Figure size 2000x1000 with 1 Axes>"
      ]
     },
     "metadata": {},
     "output_type": "display_data"
    }
   ],
   "source": [
    "pt.figure(figsize=(20,10))\n",
    "se.barplot(x='Category',y='Sodium',data=data5)\n",
    "pt.title(\"Average Sodium per category\")\n",
    "pt.xlabel('Category')\n",
    "pt.ylabel('Avg Sodium')\n",
    "pt.show()"
   ]
  },
  {
   "cell_type": "code",
   "execution_count": 60,
   "id": "23b5968f-a234-4615-b7f5-e594ffef3389",
   "metadata": {},
   "outputs": [
    {
     "name": "stdout",
     "output_type": "stream",
     "text": [
      "                    Calories  Protein\n",
      "Category                             \n",
      "Beef & Pork            494.0     27.3\n",
      "Beverages              113.7      1.3\n",
      "Breakfast              526.7     19.9\n",
      "Chicken & Fish         553.0     29.1\n",
      "Coffee & Tea           283.9      8.9\n",
      "Desserts               222.1      4.0\n",
      "Salads                 270.0     19.8\n",
      "Smoothies & Shakes     531.4     10.9\n",
      "Snacks & Sides         245.8      8.4\n"
     ]
    },
    {
     "data": {
      "image/png": "[encoded data removed]",
      "text/plain": [
       "<Figure size 1500x1000 with 2 Axes>"
      ]
     },
     "metadata": {},
     "output_type": "display_data"
    }
   ],
   "source": [
    "data6=mc.groupby('Category')[['Calories','Protein']].mean().round(1)\n",
    "print(data6)\n",
    "pt.figure(figsize=(15,10))\n",
    "se.heatmap(annot=True,linewidths=0.5,data=data6)\n",
    "pt.title(\"Average Calories and Protein per category\")\n",
    "pt.show()"
   ]
  },
  {
   "cell_type": "code",
   "execution_count": 61,
   "id": "1b5bf791-17ac-406d-ae0d-c59d1fbd3d14",
   "metadata": {},
   "outputs": [
    {
     "name": "stdout",
     "output_type": "stream",
     "text": [
      "<class 'pandas.core.frame.DataFrame'>\n",
      "RangeIndex: 260 entries, 0 to 259\n",
      "Data columns (total 24 columns):\n",
      " #   Column                         Non-Null Count  Dtype  \n",
      "---  ------                         --------------  -----  \n",
      " 0   Category                       260 non-null    object \n",
      " 1   Item                           260 non-null    object \n",
      " 2   Serving Size                   260 non-null    object \n",
      " 3   Calories                       260 non-null    int64  \n",
      " 4   Calories from Fat              260 non-null    int64  \n",
      " 5   Total Fat                      260 non-null    float64\n",
      " 6   Total Fat (% Daily Value)      260 non-null    int64  \n",
      " 7   Saturated Fat                  260 non-null    float64\n",
      " 8   Saturated Fat (% Daily Value)  260 non-null    int64  \n",
      " 9   Trans Fat                      260 non-null    float64\n",
      " 10  Cholesterol                    260 non-null    int64  \n",
      " 11  Cholesterol (% Daily Value)    260 non-null    int64  \n",
      " 12  Sodium                         260 non-null    int64  \n",
      " 13  Sodium (% Daily Value)         260 non-null    int64  \n",
      " 14  Carbohydrates                  260 non-null    int64  \n",
      " 15  Carbohydrates (% Daily Value)  260 non-null    int64  \n",
      " 16  Dietary Fiber                  260 non-null    int64  \n",
      " 17  Dietary Fiber (% Daily Value)  260 non-null    int64  \n",
      " 18  Sugars                         260 non-null    int64  \n",
      " 19  Protein                        260 non-null    int64  \n",
      " 20  Vitamin A (% Daily Value)      260 non-null    int64  \n",
      " 21  Vitamin C (% Daily Value)      260 non-null    int64  \n",
      " 22  Calcium (% Daily Value)        260 non-null    int64  \n",
      " 23  Iron (% Daily Value)           260 non-null    int64  \n",
      "dtypes: float64(3), int64(18), object(3)\n",
      "memory usage: 48.9+ KB\n"
     ]
    }
   ],
   "source": [
    "mc.info()"
   ]
  },
  {
   "cell_type": "code",
   "execution_count": 62,
   "id": "e08ed082-b200-4fe0-83e1-35f40b13f20f",
   "metadata": {},
   "outputs": [],
   "source": [
    "iron=mc[mc['Iron (% Daily Value)']>8]"
   ]
  },
  {
   "cell_type": "code",
   "execution_count": 63,
   "id": "8fde1fc8-c624-4980-854e-e48ed42f0315",
   "metadata": {},
   "outputs": [],
   "source": [
    "I=iron.groupby('Category')['Iron (% Daily Value)'].size().sort_values(ascending=False).head(3).reset_index()"
   ]
  },
  {
   "cell_type": "code",
   "execution_count": 64,
   "id": "f635deaf-1f18-4cc2-8e59-e5a78bd533b4",
   "metadata": {
    "scrolled": true
   },
   "outputs": [
    {
     "data": {
      "text/plain": [
       "Text(0.5, 1.0, 'Top 3 Iron% category wise')"
      ]
     },
     "execution_count": 64,
     "metadata": {},
     "output_type": "execute_result"
    },
    {
     "data": {
      "image/png": "[encoded data removed]",
      "text/plain": [
       "<Figure size 800x400 with 1 Axes>"
      ]
     },
     "metadata": {},
     "output_type": "display_data"
    }
   ],
   "source": [
    "pt.figure(figsize=(8,4))\n",
    "se.barplot(x='Category',y='Iron (% Daily Value)',data=I)\n",
    "pt.title('Top 3 Iron% category wise')"
   ]
  },
  {
   "cell_type": "code",
   "execution_count": 74,
   "id": "276b34dd-fa77-4fbe-ae7e-58a936f0e8ca",
   "metadata": {},
   "outputs": [
    {
     "data": {
      "image/png": "[encoded data removed]",
      "text/plain": [
       "<Figure size 640x480 with 1 Axes>"
      ]
     },
     "metadata": {},
     "output_type": "display_data"
    },
    {
     "data": {
      "image/png": "[encoded data removed]",
      "text/plain": [
       "<Figure size 640x480 with 1 Axes>"
      ]
     },
     "metadata": {},
     "output_type": "display_data"
    },
    {
     "data": {
      "image/png": "[encoded data removed]",
      "text/plain": [
       "<Figure size 640x480 with 1 Axes>"
      ]
     },
     "metadata": {},
     "output_type": "display_data"
    },
    {
     "data": {
      "image/png": "[encoded data removed]",
      "text/plain": [
       "<Figure size 640x480 with 1 Axes>"
      ]
     },
     "metadata": {},
     "output_type": "display_data"
    },
    {
     "data": {
      "image/png": "[encoded data removed]",
      "text/plain": [
       "<Figure size 640x480 with 1 Axes>"
      ]
     },
     "metadata": {},
     "output_type": "display_data"
    },
    {
     "data": {
      "image/png": "[encoded data removed]",
      "text/plain": [
       "<Figure size 640x480 with 1 Axes>"
      ]
     },
     "metadata": {},
     "output_type": "display_data"
    },
    {
     "data": {
      "image/png": "[encoded data removed]",
      "text/plain": [
       "<Figure size 640x480 with 1 Axes>"
      ]
     },
     "metadata": {},
     "output_type": "display_data"
    },
    {
     "data": {
      "image/png": "[encoded data removed]",
      "text/plain": [
       "<Figure size 640x480 with 1 Axes>"
      ]
     },
     "metadata": {},
     "output_type": "display_data"
    },
    {
     "data": {
      "image/png": "[encoded data removed]",
      "text/plain": [
       "<Figure size 640x480 with 1 Axes>"
      ]
     },
     "metadata": {},
     "output_type": "display_data"
    },
    {
     "data": {
      "image/png": "[encoded data removed]",
      "text/plain": [
       "<Figure size 640x480 with 1 Axes>"
      ]
     },
     "metadata": {},
     "output_type": "display_data"
    },
    {
     "data": {
      "image/png": "[encoded data removed]",
      "text/plain": [
       "<Figure size 640x480 with 1 Axes>"
      ]
     },
     "metadata": {},
     "output_type": "display_data"
    },
    {
     "data": {
      "image/png": "[encoded data removed]",
      "text/plain": [
       "<Figure size 640x480 with 1 Axes>"
      ]
     },
     "metadata": {},
     "output_type": "display_data"
    },
    {
     "data": {
      "image/png": "[encoded data removed]",
      "text/plain": [
       "<Figure size 640x480 with 1 Axes>"
      ]
     },
     "metadata": {},
     "output_type": "display_data"
    },
    {
     "data": {
      "image/png": "[encoded data removed]",
      "text/plain": [
       "<Figure size 640x480 with 1 Axes>"
      ]
     },
     "metadata": {},
     "output_type": "display_data"
    },
    {
     "data": {
      "image/png": "[encoded data removed]",
      "text/plain": [
       "<Figure size 640x480 with 1 Axes>"
      ]
     },
     "metadata": {},
     "output_type": "display_data"
    },
    {
     "data": {
      "image/png": "[encoded data removed]",
      "text/plain": [
       "<Figure size 640x480 with 1 Axes>"
      ]
     },
     "metadata": {},
     "output_type": "display_data"
    },
    {
     "data": {
      "image/png": "[encoded data removed]",
      "text/plain": [
       "<Figure size 640x480 with 1 Axes>"
      ]
     },
     "metadata": {},
     "output_type": "display_data"
    },
    {
     "data": {
      "image/png": "[encoded data removed]",
      "text/plain": [
       "<Figure size 640x480 with 1 Axes>"
      ]
     },
     "metadata": {},
     "output_type": "display_data"
    }
   ],
   "source": [
    "for col in mc.columns:\n",
    "    if mc[col].dtype == 'int64':\n",
    "        se.boxplot(y=col,data=mc)\n",
    "        pt.title(f\"Distribution of {col}\")\n",
    "        pt.show()\n"
   ]
  },
  {
   "cell_type": "code",
   "execution_count": 68,
   "id": "d9e22919-b73d-4b3c-89b6-f6377d34aedd",
   "metadata": {},
   "outputs": [
    {
     "data": {
      "application/vnd.plotly.v1+json": {
       "config": {
        "plotlyServerURL": "https://plot.ly"
       },
       "data": [
        {
         "alignmentgroup": "True",
         "hovertemplate": "Calories=%{y}<extra></extra>",
         "legendgroup": "",
         "marker": {
          "color": "#636efa"
         },
         "name": "",
         "notched": false,
         "offsetgroup": "",
         "orientation": "v",
         "showlegend": false,
         "type": "box",
         "x0": " ",
         "xaxis": "x",
         "y": [
          300,
          250,
          370,
          450,
          400,
          430,
          460,
          520,
          410,
          470,
          430,
          480,
          510,
          570,
          460,
          520,
          410,
          470,
          540,
          460,
          400,
          420,
          550,
          500,
          620,
          570,
          670,
          740,
          800,
          640,
          690,
          1090,
          1150,
          990,
          1050,
          350,
          520,
          300,
          150,
          460,
          290,
          260,
          530,
          520,
          600,
          610,
          540,
          750,
          240,
          290,
          430,
          720,
          380,
          440,
          430,
          430,
          500,
          510,
          350,
          670,
          510,
          610,
          450,
          750,
          590,
          430,
          360,
          480,
          430,
          360,
          630,
          480,
          610,
          450,
          670,
          520,
          540,
          380,
          190,
          280,
          470,
          940,
          1880,
          390,
          140,
          380,
          220,
          140,
          450,
          290,
          340,
          260,
          330,
          250,
          360,
          280,
          230,
          340,
          510,
          110,
          20,
          15,
          150,
          250,
          160,
          150,
          45,
          330,
          340,
          280,
          140,
          200,
          280,
          100,
          0,
          0,
          0,
          0,
          140,
          190,
          270,
          100,
          0,
          0,
          0,
          0,
          140,
          200,
          280,
          100,
          100,
          130,
          80,
          150,
          190,
          280,
          0,
          0,
          0,
          0,
          0,
          150,
          180,
          220,
          110,
          0,
          0,
          0,
          170,
          210,
          280,
          270,
          340,
          430,
          270,
          330,
          430,
          260,
          330,
          420,
          210,
          260,
          330,
          100,
          130,
          170,
          200,
          250,
          310,
          200,
          250,
          310,
          190,
          240,
          300,
          140,
          170,
          220,
          340,
          410,
          500,
          270,
          330,
          390,
          320,
          390,
          480,
          250,
          310,
          370,
          360,
          440,
          540,
          280,
          340,
          400,
          140,
          190,
          270,
          130,
          180,
          260,
          130,
          180,
          250,
          120,
          170,
          240,
          80,
          120,
          160,
          290,
          350,
          480,
          240,
          290,
          390,
          280,
          340,
          460,
          230,
          270,
          370,
          450,
          550,
          670,
          450,
          550,
          670,
          530,
          630,
          760,
          220,
          260,
          340,
          210,
          250,
          330,
          210,
          260,
          340,
          530,
          660,
          820,
          550,
          690,
          850,
          560,
          700,
          850,
          660,
          820,
          650,
          930,
          430,
          510,
          690,
          340,
          810,
          410
         ],
         "y0": " ",
         "yaxis": "y"
        }
       ],
       "layout": {
        "autosize": true,
        "boxmode": "group",
        "legend": {
         "tracegroupgap": 0
        },
        "margin": {
         "t": 60
        },
        "template": {
         "data": {
          "bar": [
           {
            "error_x": {
             "color": "#2a3f5f"
            },
            "error_y": {
             "color": "#2a3f5f"
            },
            "marker": {
             "line": {
              "color": "#E5ECF6",
              "width": 0.5
             },
             "pattern": {
              "fillmode": "overlay",
              "size": 10,
              "solidity": 0.2
             }
            },
            "type": "bar"
           }
          ],
          "barpolar": [
           {
            "marker": {
             "line": {
              "color": "#E5ECF6",
              "width": 0.5
             },
             "pattern": {
              "fillmode": "overlay",
              "size": 10,
              "solidity": 0.2
             }
            },
            "type": "barpolar"
           }
          ],
          "carpet": [
           {
            "aaxis": {
             "endlinecolor": "#2a3f5f",
             "gridcolor": "white",
             "linecolor": "white",
             "minorgridcolor": "white",
             "startlinecolor": "#2a3f5f"
            },
            "baxis": {
             "endlinecolor": "#2a3f5f",
             "gridcolor": "white",
             "linecolor": "white",
             "minorgridcolor": "white",
             "startlinecolor": "#2a3f5f"
            },
            "type": "carpet"
           }
          ],
          "choropleth": [
           {
            "colorbar": {
             "outlinewidth": 0,
             "ticks": ""
            },
            "type": "choropleth"
           }
          ],
          "contour": [
           {
            "colorbar": {
             "outlinewidth": 0,
             "ticks": ""
            },
            "colorscale": [
             [
              0,
              "#0d0887"
             ],
             [
              0.1111111111111111,
              "#46039f"
             ],
             [
              0.2222222222222222,
              "#7201a8"
             ],
             [
              0.3333333333333333,
              "#9c179e"
             ],
             [
              0.4444444444444444,
              "#bd3786"
             ],
             [
              0.5555555555555556,
              "#d8576b"
             ],
             [
              0.6666666666666666,
              "#ed7953"
             ],
             [
              0.7777777777777778,
              "#fb9f3a"
             ],
             [
              0.8888888888888888,
              "#fdca26"
             ],
             [
              1,
              "#f0f921"
             ]
            ],
            "type": "contour"
           }
          ],
          "contourcarpet": [
           {
            "colorbar": {
             "outlinewidth": 0,
             "ticks": ""
            },
            "type": "contourcarpet"
           }
          ],
          "heatmap": [
           {
            "colorbar": {
             "outlinewidth": 0,
             "ticks": ""
            },
            "colorscale": [
             [
              0,
              "#0d0887"
             ],
             [
              0.1111111111111111,
              "#46039f"
             ],
             [
              0.2222222222222222,
              "#7201a8"
             ],
             [
              0.3333333333333333,
              "#9c179e"
             ],
             [
              0.4444444444444444,
              "#bd3786"
             ],
             [
              0.5555555555555556,
              "#d8576b"
             ],
             [
              0.6666666666666666,
              "#ed7953"
             ],
             [
              0.7777777777777778,
              "#fb9f3a"
             ],
             [
              0.8888888888888888,
              "#fdca26"
             ],
             [
              1,
              "#f0f921"
             ]
            ],
            "type": "heatmap"
           }
          ],
          "heatmapgl": [
           {
            "colorbar": {
             "outlinewidth": 0,
             "ticks": ""
            },
            "colorscale": [
             [
              0,
              "#0d0887"
             ],
             [
              0.1111111111111111,
              "#46039f"
             ],
             [
              0.2222222222222222,
              "#7201a8"
             ],
             [
              0.3333333333333333,
              "#9c179e"
             ],
             [
              0.4444444444444444,
              "#bd3786"
             ],
             [
              0.5555555555555556,
              "#d8576b"
             ],
             [
              0.6666666666666666,
              "#ed7953"
             ],
             [
              0.7777777777777778,
              "#fb9f3a"
             ],
             [
              0.8888888888888888,
              "#fdca26"
             ],
             [
              1,
              "#f0f921"
             ]
            ],
            "type": "heatmapgl"
           }
          ],
          "histogram": [
           {
            "marker": {
             "pattern": {
              "fillmode": "overlay",
              "size": 10,
              "solidity": 0.2
             }
            },
            "type": "histogram"
           }
          ],
          "histogram2d": [
           {
            "colorbar": {
             "outlinewidth": 0,
             "ticks": ""
            },
            "colorscale": [
             [
              0,
              "#0d0887"
             ],
             [
              0.1111111111111111,
              "#46039f"
             ],
             [
              0.2222222222222222,
              "#7201a8"
             ],
             [
              0.3333333333333333,
              "#9c179e"
             ],
             [
              0.4444444444444444,
              "#bd3786"
             ],
             [
              0.5555555555555556,
              "#d8576b"
             ],
             [
              0.6666666666666666,
              "#ed7953"
             ],
             [
              0.7777777777777778,
              "#fb9f3a"
             ],
             [
              0.8888888888888888,
              "#fdca26"
             ],
             [
              1,
              "#f0f921"
             ]
            ],
            "type": "histogram2d"
           }
          ],
          "histogram2dcontour": [
           {
            "colorbar": {
             "outlinewidth": 0,
             "ticks": ""
            },
            "colorscale": [
             [
              0,
              "#0d0887"
             ],
             [
              0.1111111111111111,
              "#46039f"
             ],
             [
              0.2222222222222222,
              "#7201a8"
             ],
             [
              0.3333333333333333,
              "#9c179e"
             ],
             [
              0.4444444444444444,
              "#bd3786"
             ],
             [
              0.5555555555555556,
              "#d8576b"
             ],
             [
              0.6666666666666666,
              "#ed7953"
             ],
             [
              0.7777777777777778,
              "#fb9f3a"
             ],
             [
              0.8888888888888888,
              "#fdca26"
             ],
             [
              1,
              "#f0f921"
             ]
            ],
            "type": "histogram2dcontour"
           }
          ],
          "mesh3d": [
           {
            "colorbar": {
             "outlinewidth": 0,
             "ticks": ""
            },
            "type": "mesh3d"
           }
          ],
          "parcoords": [
           {
            "line": {
             "colorbar": {
              "outlinewidth": 0,
              "ticks": ""
             }
            },
            "type": "parcoords"
           }
          ],
          "pie": [
           {
            "automargin": true,
            "type": "pie"
           }
          ],
          "scatter": [
           {
            "fillpattern": {
             "fillmode": "overlay",
             "size": 10,
             "solidity": 0.2
            },
            "type": "scatter"
           }
          ],
          "scatter3d": [
           {
            "line": {
             "colorbar": {
              "outlinewidth": 0,
              "ticks": ""
             }
            },
            "marker": {
             "colorbar": {
              "outlinewidth": 0,
              "ticks": ""
             }
            },
            "type": "scatter3d"
           }
          ],
          "scattercarpet": [
           {
            "marker": {
             "colorbar": {
              "outlinewidth": 0,
              "ticks": ""
             }
            },
            "type": "scattercarpet"
           }
          ],
          "scattergeo": [
           {
            "marker": {
             "colorbar": {
              "outlinewidth": 0,
              "ticks": ""
             }
            },
            "type": "scattergeo"
           }
          ],
          "scattergl": [
           {
            "marker": {
             "colorbar": {
              "outlinewidth": 0,
              "ticks": ""
             }
            },
            "type": "scattergl"
           }
          ],
          "scattermapbox": [
           {
            "marker": {
             "colorbar": {
              "outlinewidth": 0,
              "ticks": ""
             }
            },
            "type": "scattermapbox"
           }
          ],
          "scatterpolar": [
           {
            "marker": {
             "colorbar": {
              "outlinewidth": 0,
              "ticks": ""
             }
            },
            "type": "scatterpolar"
           }
          ],
          "scatterpolargl": [
           {
            "marker": {
             "colorbar": {
              "outlinewidth": 0,
              "ticks": ""
             }
            },
            "type": "scatterpolargl"
           }
          ],
          "scatterternary": [
           {
            "marker": {
             "colorbar": {
              "outlinewidth": 0,
              "ticks": ""
             }
            },
            "type": "scatterternary"
           }
          ],
          "surface": [
           {
            "colorbar": {
             "outlinewidth": 0,
             "ticks": ""
            },
            "colorscale": [
             [
              0,
              "#0d0887"
             ],
             [
              0.1111111111111111,
              "#46039f"
             ],
             [
              0.2222222222222222,
              "#7201a8"
             ],
             [
              0.3333333333333333,
              "#9c179e"
             ],
             [
              0.4444444444444444,
              "#bd3786"
             ],
             [
              0.5555555555555556,
              "#d8576b"
             ],
             [
              0.6666666666666666,
              "#ed7953"
             ],
             [
              0.7777777777777778,
              "#fb9f3a"
             ],
             [
              0.8888888888888888,
              "#fdca26"
             ],
             [
              1,
              "#f0f921"
             ]
            ],
            "type": "surface"
           }
          ],
          "table": [
           {
            "cells": {
             "fill": {
              "color": "#EBF0F8"
             },
             "line": {
              "color": "white"
             }
            },
            "header": {
             "fill": {
              "color": "#C8D4E3"
             },
             "line": {
              "color": "white"
             }
            },
            "type": "table"
           }
          ]
         },
         "layout": {
          "annotationdefaults": {
           "arrowcolor": "#2a3f5f",
           "arrowhead": 0,
           "arrowwidth": 1
          },
          "autotypenumbers": "strict",
          "coloraxis": {
           "colorbar": {
            "outlinewidth": 0,
            "ticks": ""
           }
          },
          "colorscale": {
           "diverging": [
            [
             0,
             "#8e0152"
            ],
            [
             0.1,
             "#c51b7d"
            ],
            [
             0.2,
             "#de77ae"
            ],
            [
             0.3,
             "#f1b6da"
            ],
            [
             0.4,
             "#fde0ef"
            ],
            [
             0.5,
             "#f7f7f7"
            ],
            [
             0.6,
             "#e6f5d0"
            ],
            [
             0.7,
             "#b8e186"
            ],
            [
             0.8,
             "#7fbc41"
            ],
            [
             0.9,
             "#4d9221"
            ],
            [
             1,
             "#276419"
            ]
           ],
           "sequential": [
            [
             0,
             "#0d0887"
            ],
            [
             0.1111111111111111,
             "#46039f"
            ],
            [
             0.2222222222222222,
             "#7201a8"
            ],
            [
             0.3333333333333333,
             "#9c179e"
            ],
            [
             0.4444444444444444,
             "#bd3786"
            ],
            [
             0.5555555555555556,
             "#d8576b"
            ],
            [
             0.6666666666666666,
             "#ed7953"
            ],
            [
             0.7777777777777778,
             "#fb9f3a"
            ],
            [
             0.8888888888888888,
             "#fdca26"
            ],
            [
             1,
             "#f0f921"
            ]
           ],
           "sequentialminus": [
            [
             0,
             "#0d0887"
            ],
            [
             0.1111111111111111,
             "#46039f"
            ],
            [
             0.2222222222222222,
             "#7201a8"
            ],
            [
             0.3333333333333333,
             "#9c179e"
            ],
            [
             0.4444444444444444,
             "#bd3786"
            ],
            [
             0.5555555555555556,
             "#d8576b"
            ],
            [
             0.6666666666666666,
             "#ed7953"
            ],
            [
             0.7777777777777778,
             "#fb9f3a"
            ],
            [
             0.8888888888888888,
             "#fdca26"
            ],
            [
             1,
             "#f0f921"
            ]
           ]
          },
          "colorway": [
           "#636efa",
           "#EF553B",
           "#00cc96",
           "#ab63fa",
           "#FFA15A",
           "#19d3f3",
           "#FF6692",
           "#B6E880",
           "#FF97FF",
           "#FECB52"
          ],
          "font": {
           "color": "#2a3f5f"
          },
          "geo": {
           "bgcolor": "white",
           "lakecolor": "white",
           "landcolor": "#E5ECF6",
           "showlakes": true,
           "showland": true,
           "subunitcolor": "white"
          },
          "hoverlabel": {
           "align": "left"
          },
          "hovermode": "closest",
          "mapbox": {
           "style": "light"
          },
          "paper_bgcolor": "white",
          "plot_bgcolor": "#E5ECF6",
          "polar": {
           "angularaxis": {
            "gridcolor": "white",
            "linecolor": "white",
            "ticks": ""
           },
           "bgcolor": "#E5ECF6",
           "radialaxis": {
            "gridcolor": "white",
            "linecolor": "white",
            "ticks": ""
           }
          },
          "scene": {
           "xaxis": {
            "backgroundcolor": "#E5ECF6",
            "gridcolor": "white",
            "gridwidth": 2,
            "linecolor": "white",
            "showbackground": true,
            "ticks": "",
            "zerolinecolor": "white"
           },
           "yaxis": {
            "backgroundcolor": "#E5ECF6",
            "gridcolor": "white",
            "gridwidth": 2,
            "linecolor": "white",
            "showbackground": true,
            "ticks": "",
            "zerolinecolor": "white"
           },
           "zaxis": {
            "backgroundcolor": "#E5ECF6",
            "gridcolor": "white",
            "gridwidth": 2,
            "linecolor": "white",
            "showbackground": true,
            "ticks": "",
            "zerolinecolor": "white"
           }
          },
          "shapedefaults": {
           "line": {
            "color": "#2a3f5f"
           }
          },
          "ternary": {
           "aaxis": {
            "gridcolor": "white",
            "linecolor": "white",
            "ticks": ""
           },
           "baxis": {
            "gridcolor": "white",
            "linecolor": "white",
            "ticks": ""
           },
           "bgcolor": "#E5ECF6",
           "caxis": {
            "gridcolor": "white",
            "linecolor": "white",
            "ticks": ""
           }
          },
          "title": {
           "x": 0.05
          },
          "xaxis": {
           "automargin": true,
           "gridcolor": "white",
           "linecolor": "white",
           "ticks": "",
           "title": {
            "standoff": 15
           },
           "zerolinecolor": "white",
           "zerolinewidth": 2
          },
          "yaxis": {
           "automargin": true,
           "gridcolor": "white",
           "linecolor": "white",
           "ticks": "",
           "title": {
            "standoff": 15
           },
           "zerolinecolor": "white",
           "zerolinewidth": 2
          }
         }
        },
        "xaxis": {
         "anchor": "y",
         "autorange": true,
         "domain": [
          0,
          1
         ],
         "range": [
          -0.5,
          0.5
         ],
         "type": "category"
        },
        "yaxis": {
         "anchor": "x",
         "autorange": true,
         "domain": [
          0,
          1
         ],
         "range": [
          -104.44444444444444,
          1984.4444444444443
         ],
         "title": {
          "text": "Calories"
         },
         "type": "linear"
        }
       }
      },
      "image/png": "[encoded data removed]",
      "text/html": [
       "<div>                            <div id=\"50865a54-99ff-4002-bc05-67bc7dee6382\" class=\"plotly-graph-div\" style=\"height:525px; width:100%;\"></div>            <script type=\"text/javascript\">                require([\"plotly\"], function(Plotly) {                    window.PLOTLYENV=window.PLOTLYENV || {};                                    if (document.getElementById(\"50865a54-99ff-4002-bc05-67bc7dee6382\")) {                    Plotly.newPlot(                        \"50865a54-99ff-4002-bc05-67bc7dee6382\",                        [{\"alignmentgroup\":\"True\",\"hovertemplate\":\"Calories=%{y}\\u003cextra\\u003e\\u003c\\u002fextra\\u003e\",\"legendgroup\":\"\",\"marker\":{\"color\":\"#636efa\"},\"name\":\"\",\"notched\":false,\"offsetgroup\":\"\",\"orientation\":\"v\",\"showlegend\":false,\"x0\":\" \",\"xaxis\":\"x\",\"y\":[300,250,370,450,400,430,460,520,410,470,430,480,510,570,460,520,410,470,540,460,400,420,550,500,620,570,670,740,800,640,690,1090,1150,990,1050,350,520,300,150,460,290,260,530,520,600,610,540,750,240,290,430,720,380,440,430,430,500,510,350,670,510,610,450,750,590,430,360,480,430,360,630,480,610,450,670,520,540,380,190,280,470,940,1880,390,140,380,220,140,450,290,340,260,330,250,360,280,230,340,510,110,20,15,150,250,160,150,45,330,340,280,140,200,280,100,0,0,0,0,140,190,270,100,0,0,0,0,140,200,280,100,100,130,80,150,190,280,0,0,0,0,0,150,180,220,110,0,0,0,170,210,280,270,340,430,270,330,430,260,330,420,210,260,330,100,130,170,200,250,310,200,250,310,190,240,300,140,170,220,340,410,500,270,330,390,320,390,480,250,310,370,360,440,540,280,340,400,140,190,270,130,180,260,130,180,250,120,170,240,80,120,160,290,350,480,240,290,390,280,340,460,230,270,370,450,550,670,450,550,670,530,630,760,220,260,340,210,250,330,210,260,340,530,660,820,550,690,850,560,700,850,660,820,650,930,430,510,690,340,810,410],\"y0\":\" \",\"yaxis\":\"y\",\"type\":\"box\"}],                        {\"template\":{\"data\":{\"histogram2dcontour\":[{\"type\":\"histogram2dcontour\",\"colorbar\":{\"outlinewidth\":0,\"ticks\":\"\"},\"colorscale\":[[0.0,\"#0d0887\"],[0.1111111111111111,\"#46039f\"],[0.2222222222222222,\"#7201a8\"],[0.3333333333333333,\"#9c179e\"],[0.4444444444444444,\"#bd3786\"],[0.5555555555555556,\"#d8576b\"],[0.6666666666666666,\"#ed7953\"],[0.7777777777777778,\"#fb9f3a\"],[0.8888888888888888,\"#fdca26\"],[1.0,\"#f0f921\"]]}],\"choropleth\":[{\"type\":\"choropleth\",\"colorbar\":{\"outlinewidth\":0,\"ticks\":\"\"}}],\"histogram2d\":[{\"type\":\"histogram2d\",\"colorbar\":{\"outlinewidth\":0,\"ticks\":\"\"},\"colorscale\":[[0.0,\"#0d0887\"],[0.1111111111111111,\"#46039f\"],[0.2222222222222222,\"#7201a8\"],[0.3333333333333333,\"#9c179e\"],[0.4444444444444444,\"#bd3786\"],[0.5555555555555556,\"#d8576b\"],[0.6666666666666666,\"#ed7953\"],[0.7777777777777778,\"#fb9f3a\"],[0.8888888888888888,\"#fdca26\"],[1.0,\"#f0f921\"]]}],\"heatmap\":[{\"type\":\"heatmap\",\"colorbar\":{\"outlinewidth\":0,\"ticks\":\"\"},\"colorscale\":[[0.0,\"#0d0887\"],[0.1111111111111111,\"#46039f\"],[0.2222222222222222,\"#7201a8\"],[0.3333333333333333,\"#9c179e\"],[0.4444444444444444,\"#bd3786\"],[0.5555555555555556,\"#d8576b\"],[0.6666666666666666,\"#ed7953\"],[0.7777777777777778,\"#fb9f3a\"],[0.8888888888888888,\"#fdca26\"],[1.0,\"#f0f921\"]]}],\"heatmapgl\":[{\"type\":\"heatmapgl\",\"colorbar\":{\"outlinewidth\":0,\"ticks\":\"\"},\"colorscale\":[[0.0,\"#0d0887\"],[0.1111111111111111,\"#46039f\"],[0.2222222222222222,\"#7201a8\"],[0.3333333333333333,\"#9c179e\"],[0.4444444444444444,\"#bd3786\"],[0.5555555555555556,\"#d8576b\"],[0.6666666666666666,\"#ed7953\"],[0.7777777777777778,\"#fb9f3a\"],[0.8888888888888888,\"#fdca26\"],[1.0,\"#f0f921\"]]}],\"contourcarpet\":[{\"type\":\"contourcarpet\",\"colorbar\":{\"outlinewidth\":0,\"ticks\":\"\"}}],\"contour\":[{\"type\":\"contour\",\"colorbar\":{\"outlinewidth\":0,\"ticks\":\"\"},\"colorscale\":[[0.0,\"#0d0887\"],[0.1111111111111111,\"#46039f\"],[0.2222222222222222,\"#7201a8\"],[0.3333333333333333,\"#9c179e\"],[0.4444444444444444,\"#bd3786\"],[0.5555555555555556,\"#d8576b\"],[0.6666666666666666,\"#ed7953\"],[0.7777777777777778,\"#fb9f3a\"],[0.8888888888888888,\"#fdca26\"],[1.0,\"#f0f921\"]]}],\"surface\":[{\"type\":\"surface\",\"colorbar\":{\"outlinewidth\":0,\"ticks\":\"\"},\"colorscale\":[[0.0,\"#0d0887\"],[0.1111111111111111,\"#46039f\"],[0.2222222222222222,\"#7201a8\"],[0.3333333333333333,\"#9c179e\"],[0.4444444444444444,\"#bd3786\"],[0.5555555555555556,\"#d8576b\"],[0.6666666666666666,\"#ed7953\"],[0.7777777777777778,\"#fb9f3a\"],[0.8888888888888888,\"#fdca26\"],[1.0,\"#f0f921\"]]}],\"mesh3d\":[{\"type\":\"mesh3d\",\"colorbar\":{\"outlinewidth\":0,\"ticks\":\"\"}}],\"scatter\":[{\"fillpattern\":{\"fillmode\":\"overlay\",\"size\":10,\"solidity\":0.2},\"type\":\"scatter\"}],\"parcoords\":[{\"type\":\"parcoords\",\"line\":{\"colorbar\":{\"outlinewidth\":0,\"ticks\":\"\"}}}],\"scatterpolargl\":[{\"type\":\"scatterpolargl\",\"marker\":{\"colorbar\":{\"outlinewidth\":0,\"ticks\":\"\"}}}],\"bar\":[{\"error_x\":{\"color\":\"#2a3f5f\"},\"error_y\":{\"color\":\"#2a3f5f\"},\"marker\":{\"line\":{\"color\":\"#E5ECF6\",\"width\":0.5},\"pattern\":{\"fillmode\":\"overlay\",\"size\":10,\"solidity\":0.2}},\"type\":\"bar\"}],\"scattergeo\":[{\"type\":\"scattergeo\",\"marker\":{\"colorbar\":{\"outlinewidth\":0,\"ticks\":\"\"}}}],\"scatterpolar\":[{\"type\":\"scatterpolar\",\"marker\":{\"colorbar\":{\"outlinewidth\":0,\"ticks\":\"\"}}}],\"histogram\":[{\"marker\":{\"pattern\":{\"fillmode\":\"overlay\",\"size\":10,\"solidity\":0.2}},\"type\":\"histogram\"}],\"scattergl\":[{\"type\":\"scattergl\",\"marker\":{\"colorbar\":{\"outlinewidth\":0,\"ticks\":\"\"}}}],\"scatter3d\":[{\"type\":\"scatter3d\",\"line\":{\"colorbar\":{\"outlinewidth\":0,\"ticks\":\"\"}},\"marker\":{\"colorbar\":{\"outlinewidth\":0,\"ticks\":\"\"}}}],\"scattermapbox\":[{\"type\":\"scattermapbox\",\"marker\":{\"colorbar\":{\"outlinewidth\":0,\"ticks\":\"\"}}}],\"scatterternary\":[{\"type\":\"scatterternary\",\"marker\":{\"colorbar\":{\"outlinewidth\":0,\"ticks\":\"\"}}}],\"scattercarpet\":[{\"type\":\"scattercarpet\",\"marker\":{\"colorbar\":{\"outlinewidth\":0,\"ticks\":\"\"}}}],\"carpet\":[{\"aaxis\":{\"endlinecolor\":\"#2a3f5f\",\"gridcolor\":\"white\",\"linecolor\":\"white\",\"minorgridcolor\":\"white\",\"startlinecolor\":\"#2a3f5f\"},\"baxis\":{\"endlinecolor\":\"#2a3f5f\",\"gridcolor\":\"white\",\"linecolor\":\"white\",\"minorgridcolor\":\"white\",\"startlinecolor\":\"#2a3f5f\"},\"type\":\"carpet\"}],\"table\":[{\"cells\":{\"fill\":{\"color\":\"#EBF0F8\"},\"line\":{\"color\":\"white\"}},\"header\":{\"fill\":{\"color\":\"#C8D4E3\"},\"line\":{\"color\":\"white\"}},\"type\":\"table\"}],\"barpolar\":[{\"marker\":{\"line\":{\"color\":\"#E5ECF6\",\"width\":0.5},\"pattern\":{\"fillmode\":\"overlay\",\"size\":10,\"solidity\":0.2}},\"type\":\"barpolar\"}],\"pie\":[{\"automargin\":true,\"type\":\"pie\"}]},\"layout\":{\"autotypenumbers\":\"strict\",\"colorway\":[\"#636efa\",\"#EF553B\",\"#00cc96\",\"#ab63fa\",\"#FFA15A\",\"#19d3f3\",\"#FF6692\",\"#B6E880\",\"#FF97FF\",\"#FECB52\"],\"font\":{\"color\":\"#2a3f5f\"},\"hovermode\":\"closest\",\"hoverlabel\":{\"align\":\"left\"},\"paper_bgcolor\":\"white\",\"plot_bgcolor\":\"#E5ECF6\",\"polar\":{\"bgcolor\":\"#E5ECF6\",\"angularaxis\":{\"gridcolor\":\"white\",\"linecolor\":\"white\",\"ticks\":\"\"},\"radialaxis\":{\"gridcolor\":\"white\",\"linecolor\":\"white\",\"ticks\":\"\"}},\"ternary\":{\"bgcolor\":\"#E5ECF6\",\"aaxis\":{\"gridcolor\":\"white\",\"linecolor\":\"white\",\"ticks\":\"\"},\"baxis\":{\"gridcolor\":\"white\",\"linecolor\":\"white\",\"ticks\":\"\"},\"caxis\":{\"gridcolor\":\"white\",\"linecolor\":\"white\",\"ticks\":\"\"}},\"coloraxis\":{\"colorbar\":{\"outlinewidth\":0,\"ticks\":\"\"}},\"colorscale\":{\"sequential\":[[0.0,\"#0d0887\"],[0.1111111111111111,\"#46039f\"],[0.2222222222222222,\"#7201a8\"],[0.3333333333333333,\"#9c179e\"],[0.4444444444444444,\"#bd3786\"],[0.5555555555555556,\"#d8576b\"],[0.6666666666666666,\"#ed7953\"],[0.7777777777777778,\"#fb9f3a\"],[0.8888888888888888,\"#fdca26\"],[1.0,\"#f0f921\"]],\"sequentialminus\":[[0.0,\"#0d0887\"],[0.1111111111111111,\"#46039f\"],[0.2222222222222222,\"#7201a8\"],[0.3333333333333333,\"#9c179e\"],[0.4444444444444444,\"#bd3786\"],[0.5555555555555556,\"#d8576b\"],[0.6666666666666666,\"#ed7953\"],[0.7777777777777778,\"#fb9f3a\"],[0.8888888888888888,\"#fdca26\"],[1.0,\"#f0f921\"]],\"diverging\":[[0,\"#8e0152\"],[0.1,\"#c51b7d\"],[0.2,\"#de77ae\"],[0.3,\"#f1b6da\"],[0.4,\"#fde0ef\"],[0.5,\"#f7f7f7\"],[0.6,\"#e6f5d0\"],[0.7,\"#b8e186\"],[0.8,\"#7fbc41\"],[0.9,\"#4d9221\"],[1,\"#276419\"]]},\"xaxis\":{\"gridcolor\":\"white\",\"linecolor\":\"white\",\"ticks\":\"\",\"title\":{\"standoff\":15},\"zerolinecolor\":\"white\",\"automargin\":true,\"zerolinewidth\":2},\"yaxis\":{\"gridcolor\":\"white\",\"linecolor\":\"white\",\"ticks\":\"\",\"title\":{\"standoff\":15},\"zerolinecolor\":\"white\",\"automargin\":true,\"zerolinewidth\":2},\"scene\":{\"xaxis\":{\"backgroundcolor\":\"#E5ECF6\",\"gridcolor\":\"white\",\"linecolor\":\"white\",\"showbackground\":true,\"ticks\":\"\",\"zerolinecolor\":\"white\",\"gridwidth\":2},\"yaxis\":{\"backgroundcolor\":\"#E5ECF6\",\"gridcolor\":\"white\",\"linecolor\":\"white\",\"showbackground\":true,\"ticks\":\"\",\"zerolinecolor\":\"white\",\"gridwidth\":2},\"zaxis\":{\"backgroundcolor\":\"#E5ECF6\",\"gridcolor\":\"white\",\"linecolor\":\"white\",\"showbackground\":true,\"ticks\":\"\",\"zerolinecolor\":\"white\",\"gridwidth\":2}},\"shapedefaults\":{\"line\":{\"color\":\"#2a3f5f\"}},\"annotationdefaults\":{\"arrowcolor\":\"#2a3f5f\",\"arrowhead\":0,\"arrowwidth\":1},\"geo\":{\"bgcolor\":\"white\",\"landcolor\":\"#E5ECF6\",\"subunitcolor\":\"white\",\"showland\":true,\"showlakes\":true,\"lakecolor\":\"white\"},\"title\":{\"x\":0.05},\"mapbox\":{\"style\":\"light\"}}},\"xaxis\":{\"anchor\":\"y\",\"domain\":[0.0,1.0]},\"yaxis\":{\"anchor\":\"x\",\"domain\":[0.0,1.0],\"title\":{\"text\":\"Calories\"}},\"legend\":{\"tracegroupgap\":0},\"margin\":{\"t\":60},\"boxmode\":\"group\"},                        {\"responsive\": true}                    ).then(function(){\n",
       "                            \n",
       "var gd = document.getElementById('50865a54-99ff-4002-bc05-67bc7dee6382');\n",
       "var x = new MutationObserver(function (mutations, observer) {{\n",
       "        var display = window.getComputedStyle(gd).display;\n",
       "        if (!display || display === 'none') {{\n",
       "            console.log([gd, 'removed!']);\n",
       "            Plotly.purge(gd);\n",
       "            observer.disconnect();\n",
       "        }}\n",
       "}});\n",
       "\n",
       "// Listen for the removal of the full notebook cells\n",
       "var notebookContainer = gd.closest('#notebook-container');\n",
       "if (notebookContainer) {{\n",
       "    x.observe(notebookContainer, {childList: true});\n",
       "}}\n",
       "\n",
       "// Listen for the clearing of the current output cell\n",
       "var outputEl = gd.closest('.output');\n",
       "if (outputEl) {{\n",
       "    x.observe(outputEl, {childList: true});\n",
       "}}\n",
       "\n",
       "                        })                };                });            </script>        </div>"
      ]
     },
     "metadata": {},
     "output_type": "display_data"
    },
    {
     "data": {
      "text/plain": [
       "<Figure size 2000x500 with 0 Axes>"
      ]
     },
     "metadata": {},
     "output_type": "display_data"
    }
   ],
   "source": [
    "# 3d plots\n",
    "import plotly.express as px\n",
    "pt.figure(figsize=(20,5))\n",
    "fig = px.box(mc, y=\"Calories\")\n",
    "fig.show()"
   ]
  },
  {
   "cell_type": "code",
   "execution_count": 69,
   "id": "19ab44d0-3d66-416c-986f-c9d05996a5f8",
   "metadata": {},
   "outputs": [
    {
     "data": {
      "application/vnd.plotly.v1+json": {
       "config": {
        "plotlyServerURL": "https://plot.ly"
       },
       "data": [
        {
         "hovertemplate": "Category=Breakfast<br>Total Fat=%{x}<br>Calories=%{marker.size}<br>Sodium=%{z}<extra></extra>",
         "legendgroup": "Breakfast",
         "marker": {
          "color": "#636efa",
          "size": [
           300,
           250,
           370,
           450,
           400,
           430,
           460,
           520,
           410,
           470,
           430,
           480,
           510,
           570,
           460,
           520,
           410,
           470,
           540,
           460,
           400,
           420,
           550,
           500,
           620,
           570,
           670,
           740,
           800,
           640,
           690,
           1090,
           1150,
           990,
           1050,
           350,
           520,
           300,
           150,
           460,
           290,
           260
          ],
          "sizemode": "area",
          "sizeref": 4.7,
          "symbol": "circle"
         },
         "mode": "markers",
         "name": "Breakfast",
         "scene": "scene",
         "showlegend": true,
         "type": "scatter3d",
         "x": [
          13,
          8,
          23,
          28,
          23,
          23,
          26,
          30,
          20,
          25,
          27,
          31,
          33,
          37,
          27,
          32,
          20,
          24,
          32,
          21,
          15,
          22,
          31,
          26,
          31,
          25,
          35,
          48,
          52,
          37,
          41,
          56,
          60,
          46,
          50,
          9,
          24,
          16,
          9,
          19,
          4,
          4
         ],
         "y": [
          300,
          250,
          370,
          450,
          400,
          430,
          460,
          520,
          410,
          470,
          430,
          480,
          510,
          570,
          460,
          520,
          410,
          470,
          540,
          460,
          400,
          420,
          550,
          500,
          620,
          570,
          670,
          740,
          800,
          640,
          690,
          1090,
          1150,
          990,
          1050,
          350,
          520,
          300,
          150,
          460,
          290,
          260
         ],
         "z": [
          750,
          770,
          780,
          860,
          880,
          960,
          1300,
          1410,
          1300,
          1420,
          1080,
          1190,
          1170,
          1280,
          1180,
          1290,
          1180,
          1290,
          1470,
          1250,
          1250,
          1030,
          1320,
          1320,
          1480,
          1480,
          1510,
          1560,
          1680,
          1590,
          1700,
          2150,
          2260,
          2170,
          2290,
          590,
          930,
          790,
          310,
          370,
          160,
          115
         ]
        },
        {
         "hovertemplate": "Category=Beef & Pork<br>Total Fat=%{x}<br>Calories=%{marker.size}<br>Sodium=%{z}<extra></extra>",
         "legendgroup": "Beef & Pork",
         "marker": {
          "color": "#EF553B",
          "size": [
           530,
           520,
           600,
           610,
           540,
           750,
           240,
           290,
           430,
           720,
           380,
           440,
           430,
           430,
           500
          ],
          "sizemode": "area",
          "sizeref": 4.7,
          "symbol": "circle"
         },
         "mode": "markers",
         "name": "Beef & Pork",
         "scene": "scene",
         "showlegend": true,
         "type": "scatter3d",
         "x": [
          27,
          26,
          29,
          31,
          27,
          43,
          8,
          11,
          21,
          40,
          17,
          22,
          22,
          23,
          26
         ],
         "y": [
          530,
          520,
          600,
          610,
          540,
          750,
          240,
          290,
          430,
          720,
          380,
          440,
          430,
          430,
          500
         ],
         "z": [
          960,
          1100,
          1440,
          1180,
          960,
          1280,
          480,
          680,
          1040,
          1470,
          840,
          1110,
          760,
          1030,
          980
         ]
        },
        {
         "hovertemplate": "Category=Chicken & Fish<br>Total Fat=%{x}<br>Calories=%{marker.size}<br>Sodium=%{z}<extra></extra>",
         "legendgroup": "Chicken & Fish",
         "marker": {
          "color": "#00cc96",
          "size": [
           510,
           350,
           670,
           510,
           610,
           450,
           750,
           590,
           430,
           360,
           480,
           430,
           360,
           630,
           480,
           610,
           450,
           670,
           520,
           540,
           380,
           190,
           280,
           470,
           940,
           1880,
           390
          ],
          "sizemode": "area",
          "sizeref": 4.7,
          "symbol": "circle"
         },
         "mode": "markers",
         "name": "Chicken & Fish",
         "scene": "scene",
         "showlegend": true,
         "type": "scatter3d",
         "x": [
          22,
          9,
          33,
          20,
          28,
          15,
          38,
          25,
          19,
          16,
          24,
          21,
          16,
          32,
          19,
          31,
          18,
          33,
          20,
          23,
          10,
          12,
          18,
          30,
          59,
          118,
          19
         ],
         "y": [
          510,
          350,
          670,
          510,
          610,
          450,
          750,
          590,
          430,
          360,
          480,
          430,
          360,
          630,
          480,
          610,
          450,
          670,
          520,
          540,
          380,
          190,
          280,
          470,
          940,
          1880,
          390
         ],
         "z": [
          990,
          820,
          1410,
          1250,
          1400,
          1230,
          1720,
          1560,
          910,
          800,
          1260,
          1260,
          990,
          1540,
          1370,
          1340,
          1170,
          1480,
          1320,
          1260,
          1090,
          360,
          540,
          900,
          1800,
          3600,
          590
         ]
        },
        {
         "hovertemplate": "Category=Salads<br>Total Fat=%{x}<br>Calories=%{marker.size}<br>Sodium=%{z}<extra></extra>",
         "legendgroup": "Salads",
         "marker": {
          "color": "#ab63fa",
          "size": [
           140,
           380,
           220,
           140,
           450,
           290
          ],
          "sizemode": "area",
          "sizeref": 4.7,
          "symbol": "circle"
         },
         "mode": "markers",
         "name": "Salads",
         "scene": "scene",
         "showlegend": true,
         "type": "scatter3d",
         "x": [
          7,
          21,
          8,
          4.5,
          22,
          8
         ],
         "y": [
          140,
          380,
          220,
          140,
          450,
          290
         ],
         "z": [
          300,
          860,
          690,
          150,
          850,
          680
         ]
        },
        {
         "hovertemplate": "Category=Snacks & Sides<br>Total Fat=%{x}<br>Calories=%{marker.size}<br>Sodium=%{z}<extra></extra>",
         "legendgroup": "Snacks & Sides",
         "marker": {
          "color": "#FFA15A",
          "size": [
           340,
           260,
           330,
           250,
           360,
           280,
           230,
           340,
           510,
           110,
           20,
           15,
           150
          ],
          "sizemode": "area",
          "sizeref": 4.7,
          "symbol": "circle"
         },
         "mode": "markers",
         "name": "Snacks & Sides",
         "scene": "scene",
         "showlegend": true,
         "type": "scatter3d",
         "x": [
          15,
          8,
          15,
          8,
          20,
          13,
          11,
          16,
          24,
          5,
          0,
          0,
          2
         ],
         "y": [
          340,
          260,
          330,
          250,
          360,
          280,
          230,
          340,
          510,
          110,
          20,
          15,
          150
         ],
         "z": [
          780,
          700,
          730,
          650,
          810,
          720,
          130,
          190,
          290,
          65,
          10,
          0,
          70
         ]
        },
        {
         "hovertemplate": "Category=Desserts<br>Total Fat=%{x}<br>Calories=%{marker.size}<br>Sodium=%{z}<extra></extra>",
         "legendgroup": "Desserts",
         "marker": {
          "color": "#19d3f3",
          "size": [
           250,
           160,
           150,
           45,
           330,
           340,
           280
          ],
          "sizemode": "area",
          "sizeref": 4.7,
          "symbol": "circle"
         },
         "mode": "markers",
         "name": "Desserts",
         "scene": "scene",
         "showlegend": true,
         "type": "scatter3d",
         "x": [
          13,
          8,
          6,
          1.5,
          9,
          8,
          6
         ],
         "y": [
          250,
          160,
          150,
          45,
          330,
          340,
          280
         ],
         "z": [
          170,
          90,
          135,
          20,
          170,
          150,
          85
         ]
        },
        {
         "hovertemplate": "Category=Beverages<br>Total Fat=%{x}<br>Calories=%{marker.size}<br>Sodium=%{z}<extra></extra>",
         "legendgroup": "Beverages",
         "marker": {
          "color": "#FF6692",
          "size": [
           140,
           200,
           280,
           100,
           0,
           0,
           0,
           0,
           140,
           190,
           270,
           100,
           0,
           0,
           0,
           0,
           140,
           200,
           280,
           100,
           100,
           130,
           80,
           150,
           190,
           280,
           0
          ],
          "sizemode": "area",
          "sizeref": 4.7,
          "symbol": "circle"
         },
         "mode": "markers",
         "name": "Beverages",
         "scene": "scene",
         "showlegend": true,
         "type": "scatter3d",
         "x": [
          0,
          0,
          0,
          0,
          0,
          0,
          0,
          0,
          0,
          0,
          0,
          0,
          0,
          0,
          0,
          0,
          0,
          0,
          0,
          0,
          2.5,
          0,
          0,
          0,
          0,
          0,
          0
         ],
         "y": [
          140,
          200,
          280,
          100,
          0,
          0,
          0,
          0,
          140,
          190,
          270,
          100,
          0,
          0,
          0,
          0,
          140,
          200,
          280,
          100,
          100,
          130,
          80,
          150,
          190,
          280,
          0
         ],
         "z": [
          0,
          5,
          5,
          0,
          10,
          20,
          35,
          15,
          45,
          65,
          90,
          30,
          70,
          100,
          140,
          50,
          30,
          45,
          60,
          25,
          125,
          135,
          15,
          0,
          0,
          5,
          0
         ]
        },
        {
         "hovertemplate": "Category=Coffee & Tea<br>Total Fat=%{x}<br>Calories=%{marker.size}<br>Sodium=%{z}<extra></extra>",
         "legendgroup": "Coffee & Tea",
         "marker": {
          "color": "#B6E880",
          "size": [
           0,
           0,
           0,
           0,
           150,
           180,
           220,
           110,
           0,
           0,
           0,
           170,
           210,
           280,
           270,
           340,
           430,
           270,
           330,
           430,
           260,
           330,
           420,
           210,
           260,
           330,
           100,
           130,
           170,
           200,
           250,
           310,
           200,
           250,
           310,
           190,
           240,
           300,
           140,
           170,
           220,
           340,
           410,
           500,
           270,
           330,
           390,
           320,
           390,
           480,
           250,
           310,
           370,
           360,
           440,
           540,
           280,
           340,
           400,
           140,
           190,
           270,
           130,
           180,
           260,
           130,
           180,
           250,
           120,
           170,
           240,
           80,
           120,
           160,
           290,
           350,
           480,
           240,
           290,
           390,
           280,
           340,
           460,
           230,
           270,
           370,
           450,
           550,
           670,
           450,
           550,
           670,
           530,
           630,
           760
          ],
          "sizemode": "area",
          "sizeref": 4.7,
          "symbol": "circle"
         },
         "mode": "markers",
         "name": "Coffee & Tea",
         "scene": "scene",
         "showlegend": true,
         "type": "scatter3d",
         "x": [
          0,
          0,
          0,
          0,
          0,
          0,
          0,
          0,
          0,
          0,
          0,
          9,
          10,
          14,
          9,
          10,
          14,
          9,
          10,
          14,
          9,
          10,
          14,
          9,
          10,
          14,
          0,
          0,
          0.5,
          0,
          0,
          0.5,
          0,
          0,
          0.5,
          0,
          0,
          0.5,
          0,
          0,
          0.5,
          11,
          14,
          17,
          3.5,
          3.5,
          4,
          11,
          14,
          17,
          3.5,
          3.5,
          3.5,
          13,
          16,
          20,
          3.5,
          3.5,
          3.5,
          4.5,
          7,
          9,
          4.5,
          7,
          9,
          4.5,
          7,
          9,
          4.5,
          7,
          9,
          4.5,
          7,
          9,
          11,
          13,
          16,
          5,
          5,
          6,
          11,
          13,
          16,
          5,
          5,
          6,
          18,
          22,
          26,
          19,
          23,
          27,
          23,
          26,
          31
         ],
         "y": [
          0,
          0,
          0,
          0,
          150,
          180,
          220,
          110,
          0,
          0,
          0,
          170,
          210,
          280,
          270,
          340,
          430,
          270,
          330,
          430,
          260,
          330,
          420,
          210,
          260,
          330,
          100,
          130,
          170,
          200,
          250,
          310,
          200,
          250,
          310,
          190,
          240,
          300,
          140,
          170,
          220,
          340,
          410,
          500,
          270,
          330,
          390,
          320,
          390,
          480,
          250,
          310,
          370,
          360,
          440,
          540,
          280,
          340,
          400,
          140,
          190,
          270,
          130,
          180,
          260,
          130,
          180,
          250,
          120,
          170,
          240,
          80,
          120,
          160,
          290,
          350,
          480,
          240,
          290,
          390,
          280,
          340,
          460,
          230,
          270,
          370,
          450,
          550,
          670,
          450,
          550,
          670,
          530,
          630,
          760
         ],
         "z": [
          10,
          10,
          15,
          5,
          10,
          10,
          10,
          5,
          0,
          0,
          0,
          115,
          140,
          180,
          115,
          140,
          180,
          115,
          140,
          180,
          115,
          140,
          190,
          150,
          190,
          240,
          110,
          135,
          180,
          110,
          135,
          180,
          110,
          135,
          180,
          115,
          140,
          180,
          150,
          180,
          240,
          150,
          190,
          240,
          150,
          190,
          240,
          170,
          220,
          270,
          170,
          210,
          270,
          180,
          220,
          280,
          180,
          220,
          280,
          35,
          50,
          75,
          35,
          50,
          65,
          35,
          50,
          75,
          40,
          55,
          80,
          65,
          90,
          135,
          125,
          150,
          220,
          125,
          150,
          220,
          140,
          170,
          250,
          140,
          170,
          250,
          125,
          160,
          190,
          125,
          160,
          190,
          135,
          160,
          200
         ]
        },
        {
         "hovertemplate": "Category=Smoothies & Shakes<br>Total Fat=%{x}<br>Calories=%{marker.size}<br>Sodium=%{z}<extra></extra>",
         "legendgroup": "Smoothies & Shakes",
         "marker": {
          "color": "#FF97FF",
          "size": [
           220,
           260,
           340,
           210,
           250,
           330,
           210,
           260,
           340,
           530,
           660,
           820,
           550,
           690,
           850,
           560,
           700,
           850,
           660,
           820,
           650,
           930,
           430,
           510,
           690,
           340,
           810,
           410
          ],
          "sizemode": "area",
          "sizeref": 4.7,
          "symbol": "circle"
         },
         "mode": "markers",
         "name": "Smoothies & Shakes",
         "scene": "scene",
         "showlegend": true,
         "type": "scatter3d",
         "x": [
          0.5,
          1,
          1,
          0.5,
          1,
          1,
          0.5,
          1,
          1,
          15,
          19,
          23,
          16,
          20,
          24,
          16,
          20,
          23,
          19,
          23,
          23,
          33,
          15,
          17,
          23,
          11,
          32,
          16
         ],
         "y": [
          220,
          260,
          340,
          210,
          250,
          330,
          210,
          260,
          340,
          530,
          660,
          820,
          550,
          690,
          850,
          560,
          700,
          850,
          660,
          820,
          650,
          930,
          430,
          510,
          690,
          340,
          810,
          410
         ],
         "z": [
          40,
          50,
          65,
          50,
          60,
          80,
          40,
          45,
          60,
          160,
          200,
          260,
          160,
          210,
          260,
          240,
          300,
          380,
          210,
          260,
          180,
          260,
          120,
          280,
          380,
          190,
          400,
          200
         ]
        }
       ],
       "layout": {
        "autosize": true,
        "legend": {
         "itemsizing": "constant",
         "title": {
          "text": "Category"
         },
         "tracegroupgap": 0
        },
        "margin": {
         "t": 60
        },
        "scene": {
         "aspectmode": "auto",
         "aspectratio": {
          "x": 1,
          "y": 1,
          "z": 1
         },
         "camera": {
          "center": {
           "x": 0,
           "y": 0,
           "z": 0
          },
          "eye": {
           "x": 0.4416313078826923,
           "y": 0.4416313078826922,
           "z": 0.4416313078826923
          },
          "projection": {
           "type": "perspective"
          },
          "up": {
           "x": 0,
           "y": 0,
           "z": 1
          }
         },
         "domain": {
          "x": [
           0,
           1
          ],
          "y": [
           0,
           1
          ]
         },
         "xaxis": {
          "title": {
           "text": "Total Fat"
          },
          "type": "linear"
         },
         "yaxis": {
          "title": {
           "text": "Calories"
          },
          "type": "linear"
         },
         "zaxis": {
          "title": {
           "text": "Sodium"
          },
          "type": "linear"
         }
        },
        "template": {
         "data": {
          "bar": [
           {
            "error_x": {
             "color": "#2a3f5f"
            },
            "error_y": {
             "color": "#2a3f5f"
            },
            "marker": {
             "line": {
              "color": "#E5ECF6",
              "width": 0.5
             },
             "pattern": {
              "fillmode": "overlay",
              "size": 10,
              "solidity": 0.2
             }
            },
            "type": "bar"
           }
          ],
          "barpolar": [
           {
            "marker": {
             "line": {
              "color": "#E5ECF6",
              "width": 0.5
             },
             "pattern": {
              "fillmode": "overlay",
              "size": 10,
              "solidity": 0.2
             }
            },
            "type": "barpolar"
           }
          ],
          "carpet": [
           {
            "aaxis": {
             "endlinecolor": "#2a3f5f",
             "gridcolor": "white",
             "linecolor": "white",
             "minorgridcolor": "white",
             "startlinecolor": "#2a3f5f"
            },
            "baxis": {
             "endlinecolor": "#2a3f5f",
             "gridcolor": "white",
             "linecolor": "white",
             "minorgridcolor": "white",
             "startlinecolor": "#2a3f5f"
            },
            "type": "carpet"
           }
          ],
          "choropleth": [
           {
            "colorbar": {
             "outlinewidth": 0,
             "ticks": ""
            },
            "type": "choropleth"
           }
          ],
          "contour": [
           {
            "colorbar": {
             "outlinewidth": 0,
             "ticks": ""
            },
            "colorscale": [
             [
              0,
              "#0d0887"
             ],
             [
              0.1111111111111111,
              "#46039f"
             ],
             [
              0.2222222222222222,
              "#7201a8"
             ],
             [
              0.3333333333333333,
              "#9c179e"
             ],
             [
              0.4444444444444444,
              "#bd3786"
             ],
             [
              0.5555555555555556,
              "#d8576b"
             ],
             [
              0.6666666666666666,
              "#ed7953"
             ],
             [
              0.7777777777777778,
              "#fb9f3a"
             ],
             [
              0.8888888888888888,
              "#fdca26"
             ],
             [
              1,
              "#f0f921"
             ]
            ],
            "type": "contour"
           }
          ],
          "contourcarpet": [
           {
            "colorbar": {
             "outlinewidth": 0,
             "ticks": ""
            },
            "type": "contourcarpet"
           }
          ],
          "heatmap": [
           {
            "colorbar": {
             "outlinewidth": 0,
             "ticks": ""
            },
            "colorscale": [
             [
              0,
              "#0d0887"
             ],
             [
              0.1111111111111111,
              "#46039f"
             ],
             [
              0.2222222222222222,
              "#7201a8"
             ],
             [
              0.3333333333333333,
              "#9c179e"
             ],
             [
              0.4444444444444444,
              "#bd3786"
             ],
             [
              0.5555555555555556,
              "#d8576b"
             ],
             [
              0.6666666666666666,
              "#ed7953"
             ],
             [
              0.7777777777777778,
              "#fb9f3a"
             ],
             [
              0.8888888888888888,
              "#fdca26"
             ],
             [
              1,
              "#f0f921"
             ]
            ],
            "type": "heatmap"
           }
          ],
          "heatmapgl": [
           {
            "colorbar": {
             "outlinewidth": 0,
             "ticks": ""
            },
            "colorscale": [
             [
              0,
              "#0d0887"
             ],
             [
              0.1111111111111111,
              "#46039f"
             ],
             [
              0.2222222222222222,
              "#7201a8"
             ],
             [
              0.3333333333333333,
              "#9c179e"
             ],
             [
              0.4444444444444444,
              "#bd3786"
             ],
             [
              0.5555555555555556,
              "#d8576b"
             ],
             [
              0.6666666666666666,
              "#ed7953"
             ],
             [
              0.7777777777777778,
              "#fb9f3a"
             ],
             [
              0.8888888888888888,
              "#fdca26"
             ],
             [
              1,
              "#f0f921"
             ]
            ],
            "type": "heatmapgl"
           }
          ],
          "histogram": [
           {
            "marker": {
             "pattern": {
              "fillmode": "overlay",
              "size": 10,
              "solidity": 0.2
             }
            },
            "type": "histogram"
           }
          ],
          "histogram2d": [
           {
            "colorbar": {
             "outlinewidth": 0,
             "ticks": ""
            },
            "colorscale": [
             [
              0,
              "#0d0887"
             ],
             [
              0.1111111111111111,
              "#46039f"
             ],
             [
              0.2222222222222222,
              "#7201a8"
             ],
             [
              0.3333333333333333,
              "#9c179e"
             ],
             [
              0.4444444444444444,
              "#bd3786"
             ],
             [
              0.5555555555555556,
              "#d8576b"
             ],
             [
              0.6666666666666666,
              "#ed7953"
             ],
             [
              0.7777777777777778,
              "#fb9f3a"
             ],
             [
              0.8888888888888888,
              "#fdca26"
             ],
             [
              1,
              "#f0f921"
             ]
            ],
            "type": "histogram2d"
           }
          ],
          "histogram2dcontour": [
           {
            "colorbar": {
             "outlinewidth": 0,
             "ticks": ""
            },
            "colorscale": [
             [
              0,
              "#0d0887"
             ],
             [
              0.1111111111111111,
              "#46039f"
             ],
             [
              0.2222222222222222,
              "#7201a8"
             ],
             [
              0.3333333333333333,
              "#9c179e"
             ],
             [
              0.4444444444444444,
              "#bd3786"
             ],
             [
              0.5555555555555556,
              "#d8576b"
             ],
             [
              0.6666666666666666,
              "#ed7953"
             ],
             [
              0.7777777777777778,
              "#fb9f3a"
             ],
             [
              0.8888888888888888,
              "#fdca26"
             ],
             [
              1,
              "#f0f921"
             ]
            ],
            "type": "histogram2dcontour"
           }
          ],
          "mesh3d": [
           {
            "colorbar": {
             "outlinewidth": 0,
             "ticks": ""
            },
            "type": "mesh3d"
           }
          ],
          "parcoords": [
           {
            "line": {
             "colorbar": {
              "outlinewidth": 0,
              "ticks": ""
             }
            },
            "type": "parcoords"
           }
          ],
          "pie": [
           {
            "automargin": true,
            "type": "pie"
           }
          ],
          "scatter": [
           {
            "fillpattern": {
             "fillmode": "overlay",
             "size": 10,
             "solidity": 0.2
            },
            "type": "scatter"
           }
          ],
          "scatter3d": [
           {
            "line": {
             "colorbar": {
              "outlinewidth": 0,
              "ticks": ""
             }
            },
            "marker": {
             "colorbar": {
              "outlinewidth": 0,
              "ticks": ""
             }
            },
            "type": "scatter3d"
           }
          ],
          "scattercarpet": [
           {
            "marker": {
             "colorbar": {
              "outlinewidth": 0,
              "ticks": ""
             }
            },
            "type": "scattercarpet"
           }
          ],
          "scattergeo": [
           {
            "marker": {
             "colorbar": {
              "outlinewidth": 0,
              "ticks": ""
             }
            },
            "type": "scattergeo"
           }
          ],
          "scattergl": [
           {
            "marker": {
             "colorbar": {
              "outlinewidth": 0,
              "ticks": ""
             }
            },
            "type": "scattergl"
           }
          ],
          "scattermapbox": [
           {
            "marker": {
             "colorbar": {
              "outlinewidth": 0,
              "ticks": ""
             }
            },
            "type": "scattermapbox"
           }
          ],
          "scatterpolar": [
           {
            "marker": {
             "colorbar": {
              "outlinewidth": 0,
              "ticks": ""
             }
            },
            "type": "scatterpolar"
           }
          ],
          "scatterpolargl": [
           {
            "marker": {
             "colorbar": {
              "outlinewidth": 0,
              "ticks": ""
             }
            },
            "type": "scatterpolargl"
           }
          ],
          "scatterternary": [
           {
            "marker": {
             "colorbar": {
              "outlinewidth": 0,
              "ticks": ""
             }
            },
            "type": "scatterternary"
           }
          ],
          "surface": [
           {
            "colorbar": {
             "outlinewidth": 0,
             "ticks": ""
            },
            "colorscale": [
             [
              0,
              "#0d0887"
             ],
             [
              0.1111111111111111,
              "#46039f"
             ],
             [
              0.2222222222222222,
              "#7201a8"
             ],
             [
              0.3333333333333333,
              "#9c179e"
             ],
             [
              0.4444444444444444,
              "#bd3786"
             ],
             [
              0.5555555555555556,
              "#d8576b"
             ],
             [
              0.6666666666666666,
              "#ed7953"
             ],
             [
              0.7777777777777778,
              "#fb9f3a"
             ],
             [
              0.8888888888888888,
              "#fdca26"
             ],
             [
              1,
              "#f0f921"
             ]
            ],
            "type": "surface"
           }
          ],
          "table": [
           {
            "cells": {
             "fill": {
              "color": "#EBF0F8"
             },
             "line": {
              "color": "white"
             }
            },
            "header": {
             "fill": {
              "color": "#C8D4E3"
             },
             "line": {
              "color": "white"
             }
            },
            "type": "table"
           }
          ]
         },
         "layout": {
          "annotationdefaults": {
           "arrowcolor": "#2a3f5f",
           "arrowhead": 0,
           "arrowwidth": 1
          },
          "autotypenumbers": "strict",
          "coloraxis": {
           "colorbar": {
            "outlinewidth": 0,
            "ticks": ""
           }
          },
          "colorscale": {
           "diverging": [
            [
             0,
             "#8e0152"
            ],
            [
             0.1,
             "#c51b7d"
            ],
            [
             0.2,
             "#de77ae"
            ],
            [
             0.3,
             "#f1b6da"
            ],
            [
             0.4,
             "#fde0ef"
            ],
            [
             0.5,
             "#f7f7f7"
            ],
            [
             0.6,
             "#e6f5d0"
            ],
            [
             0.7,
             "#b8e186"
            ],
            [
             0.8,
             "#7fbc41"
            ],
            [
             0.9,
             "#4d9221"
            ],
            [
             1,
             "#276419"
            ]
           ],
           "sequential": [
            [
             0,
             "#0d0887"
            ],
            [
             0.1111111111111111,
             "#46039f"
            ],
            [
             0.2222222222222222,
             "#7201a8"
            ],
            [
             0.3333333333333333,
             "#9c179e"
            ],
            [
             0.4444444444444444,
             "#bd3786"
            ],
            [
             0.5555555555555556,
             "#d8576b"
            ],
            [
             0.6666666666666666,
             "#ed7953"
            ],
            [
             0.7777777777777778,
             "#fb9f3a"
            ],
            [
             0.8888888888888888,
             "#fdca26"
            ],
            [
             1,
             "#f0f921"
            ]
           ],
           "sequentialminus": [
            [
             0,
             "#0d0887"
            ],
            [
             0.1111111111111111,
             "#46039f"
            ],
            [
             0.2222222222222222,
             "#7201a8"
            ],
            [
             0.3333333333333333,
             "#9c179e"
            ],
            [
             0.4444444444444444,
             "#bd3786"
            ],
            [
             0.5555555555555556,
             "#d8576b"
            ],
            [
             0.6666666666666666,
             "#ed7953"
            ],
            [
             0.7777777777777778,
             "#fb9f3a"
            ],
            [
             0.8888888888888888,
             "#fdca26"
            ],
            [
             1,
             "#f0f921"
            ]
           ]
          },
          "colorway": [
           "#636efa",
           "#EF553B",
           "#00cc96",
           "#ab63fa",
           "#FFA15A",
           "#19d3f3",
           "#FF6692",
           "#B6E880",
           "#FF97FF",
           "#FECB52"
          ],
          "font": {
           "color": "#2a3f5f"
          },
          "geo": {
           "bgcolor": "white",
           "lakecolor": "white",
           "landcolor": "#E5ECF6",
           "showlakes": true,
           "showland": true,
           "subunitcolor": "white"
          },
          "hoverlabel": {
           "align": "left"
          },
          "hovermode": "closest",
          "mapbox": {
           "style": "light"
          },
          "paper_bgcolor": "white",
          "plot_bgcolor": "#E5ECF6",
          "polar": {
           "angularaxis": {
            "gridcolor": "white",
            "linecolor": "white",
            "ticks": ""
           },
           "bgcolor": "#E5ECF6",
           "radialaxis": {
            "gridcolor": "white",
            "linecolor": "white",
            "ticks": ""
           }
          },
          "scene": {
           "xaxis": {
            "backgroundcolor": "#E5ECF6",
            "gridcolor": "white",
            "gridwidth": 2,
            "linecolor": "white",
            "showbackground": true,
            "ticks": "",
            "zerolinecolor": "white"
           },
           "yaxis": {
            "backgroundcolor": "#E5ECF6",
            "gridcolor": "white",
            "gridwidth": 2,
            "linecolor": "white",
            "showbackground": true,
            "ticks": "",
            "zerolinecolor": "white"
           },
           "zaxis": {
            "backgroundcolor": "#E5ECF6",
            "gridcolor": "white",
            "gridwidth": 2,
            "linecolor": "white",
            "showbackground": true,
            "ticks": "",
            "zerolinecolor": "white"
           }
          },
          "shapedefaults": {
           "line": {
            "color": "#2a3f5f"
           }
          },
          "ternary": {
           "aaxis": {
            "gridcolor": "white",
            "linecolor": "white",
            "ticks": ""
           },
           "baxis": {
            "gridcolor": "white",
            "linecolor": "white",
            "ticks": ""
           },
           "bgcolor": "#E5ECF6",
           "caxis": {
            "gridcolor": "white",
            "linecolor": "white",
            "ticks": ""
           }
          },
          "title": {
           "x": 0.05
          },
          "xaxis": {
           "automargin": true,
           "gridcolor": "white",
           "linecolor": "white",
           "ticks": "",
           "title": {
            "standoff": 15
           },
           "zerolinecolor": "white",
           "zerolinewidth": 2
          },
          "yaxis": {
           "automargin": true,
           "gridcolor": "white",
           "linecolor": "white",
           "ticks": "",
           "title": {
            "standoff": 15
           },
           "zerolinecolor": "white",
           "zerolinewidth": 2
          }
         }
        }
       }
      },
      "text/html": [
       "<div>                            <div id=\"2597831d-2392-41f7-8f5a-9af54794c510\" class=\"plotly-graph-div\" style=\"height:525px; width:100%;\"></div>            <script type=\"text/javascript\">                require([\"plotly\"], function(Plotly) {                    window.PLOTLYENV=window.PLOTLYENV || {};                                    if (document.getElementById(\"2597831d-2392-41f7-8f5a-9af54794c510\")) {                    Plotly.newPlot(                        \"2597831d-2392-41f7-8f5a-9af54794c510\",                        [{\"hovertemplate\":\"Category=Breakfast\\u003cbr\\u003eTotal Fat=%{x}\\u003cbr\\u003eCalories=%{marker.size}\\u003cbr\\u003eSodium=%{z}\\u003cextra\\u003e\\u003c\\u002fextra\\u003e\",\"legendgroup\":\"Breakfast\",\"marker\":{\"color\":\"#636efa\",\"size\":[300,250,370,450,400,430,460,520,410,470,430,480,510,570,460,520,410,470,540,460,400,420,550,500,620,570,670,740,800,640,690,1090,1150,990,1050,350,520,300,150,460,290,260],\"sizemode\":\"area\",\"sizeref\":4.7,\"symbol\":\"circle\"},\"mode\":\"markers\",\"name\":\"Breakfast\",\"scene\":\"scene\",\"showlegend\":true,\"x\":[13.0,8.0,23.0,28.0,23.0,23.0,26.0,30.0,20.0,25.0,27.0,31.0,33.0,37.0,27.0,32.0,20.0,24.0,32.0,21.0,15.0,22.0,31.0,26.0,31.0,25.0,35.0,48.0,52.0,37.0,41.0,56.0,60.0,46.0,50.0,9.0,24.0,16.0,9.0,19.0,4.0,4.0],\"y\":[300,250,370,450,400,430,460,520,410,470,430,480,510,570,460,520,410,470,540,460,400,420,550,500,620,570,670,740,800,640,690,1090,1150,990,1050,350,520,300,150,460,290,260],\"z\":[750,770,780,860,880,960,1300,1410,1300,1420,1080,1190,1170,1280,1180,1290,1180,1290,1470,1250,1250,1030,1320,1320,1480,1480,1510,1560,1680,1590,1700,2150,2260,2170,2290,590,930,790,310,370,160,115],\"type\":\"scatter3d\"},{\"hovertemplate\":\"Category=Beef & Pork\\u003cbr\\u003eTotal Fat=%{x}\\u003cbr\\u003eCalories=%{marker.size}\\u003cbr\\u003eSodium=%{z}\\u003cextra\\u003e\\u003c\\u002fextra\\u003e\",\"legendgroup\":\"Beef & Pork\",\"marker\":{\"color\":\"#EF553B\",\"size\":[530,520,600,610,540,750,240,290,430,720,380,440,430,430,500],\"sizemode\":\"area\",\"sizeref\":4.7,\"symbol\":\"circle\"},\"mode\":\"markers\",\"name\":\"Beef & Pork\",\"scene\":\"scene\",\"showlegend\":true,\"x\":[27.0,26.0,29.0,31.0,27.0,43.0,8.0,11.0,21.0,40.0,17.0,22.0,22.0,23.0,26.0],\"y\":[530,520,600,610,540,750,240,290,430,720,380,440,430,430,500],\"z\":[960,1100,1440,1180,960,1280,480,680,1040,1470,840,1110,760,1030,980],\"type\":\"scatter3d\"},{\"hovertemplate\":\"Category=Chicken & Fish\\u003cbr\\u003eTotal Fat=%{x}\\u003cbr\\u003eCalories=%{marker.size}\\u003cbr\\u003eSodium=%{z}\\u003cextra\\u003e\\u003c\\u002fextra\\u003e\",\"legendgroup\":\"Chicken & Fish\",\"marker\":{\"color\":\"#00cc96\",\"size\":[510,350,670,510,610,450,750,590,430,360,480,430,360,630,480,610,450,670,520,540,380,190,280,470,940,1880,390],\"sizemode\":\"area\",\"sizeref\":4.7,\"symbol\":\"circle\"},\"mode\":\"markers\",\"name\":\"Chicken & Fish\",\"scene\":\"scene\",\"showlegend\":true,\"x\":[22.0,9.0,33.0,20.0,28.0,15.0,38.0,25.0,19.0,16.0,24.0,21.0,16.0,32.0,19.0,31.0,18.0,33.0,20.0,23.0,10.0,12.0,18.0,30.0,59.0,118.0,19.0],\"y\":[510,350,670,510,610,450,750,590,430,360,480,430,360,630,480,610,450,670,520,540,380,190,280,470,940,1880,390],\"z\":[990,820,1410,1250,1400,1230,1720,1560,910,800,1260,1260,990,1540,1370,1340,1170,1480,1320,1260,1090,360,540,900,1800,3600,590],\"type\":\"scatter3d\"},{\"hovertemplate\":\"Category=Salads\\u003cbr\\u003eTotal Fat=%{x}\\u003cbr\\u003eCalories=%{marker.size}\\u003cbr\\u003eSodium=%{z}\\u003cextra\\u003e\\u003c\\u002fextra\\u003e\",\"legendgroup\":\"Salads\",\"marker\":{\"color\":\"#ab63fa\",\"size\":[140,380,220,140,450,290],\"sizemode\":\"area\",\"sizeref\":4.7,\"symbol\":\"circle\"},\"mode\":\"markers\",\"name\":\"Salads\",\"scene\":\"scene\",\"showlegend\":true,\"x\":[7.0,21.0,8.0,4.5,22.0,8.0],\"y\":[140,380,220,140,450,290],\"z\":[300,860,690,150,850,680],\"type\":\"scatter3d\"},{\"hovertemplate\":\"Category=Snacks & Sides\\u003cbr\\u003eTotal Fat=%{x}\\u003cbr\\u003eCalories=%{marker.size}\\u003cbr\\u003eSodium=%{z}\\u003cextra\\u003e\\u003c\\u002fextra\\u003e\",\"legendgroup\":\"Snacks & Sides\",\"marker\":{\"color\":\"#FFA15A\",\"size\":[340,260,330,250,360,280,230,340,510,110,20,15,150],\"sizemode\":\"area\",\"sizeref\":4.7,\"symbol\":\"circle\"},\"mode\":\"markers\",\"name\":\"Snacks & Sides\",\"scene\":\"scene\",\"showlegend\":true,\"x\":[15.0,8.0,15.0,8.0,20.0,13.0,11.0,16.0,24.0,5.0,0.0,0.0,2.0],\"y\":[340,260,330,250,360,280,230,340,510,110,20,15,150],\"z\":[780,700,730,650,810,720,130,190,290,65,10,0,70],\"type\":\"scatter3d\"},{\"hovertemplate\":\"Category=Desserts\\u003cbr\\u003eTotal Fat=%{x}\\u003cbr\\u003eCalories=%{marker.size}\\u003cbr\\u003eSodium=%{z}\\u003cextra\\u003e\\u003c\\u002fextra\\u003e\",\"legendgroup\":\"Desserts\",\"marker\":{\"color\":\"#19d3f3\",\"size\":[250,160,150,45,330,340,280],\"sizemode\":\"area\",\"sizeref\":4.7,\"symbol\":\"circle\"},\"mode\":\"markers\",\"name\":\"Desserts\",\"scene\":\"scene\",\"showlegend\":true,\"x\":[13.0,8.0,6.0,1.5,9.0,8.0,6.0],\"y\":[250,160,150,45,330,340,280],\"z\":[170,90,135,20,170,150,85],\"type\":\"scatter3d\"},{\"hovertemplate\":\"Category=Beverages\\u003cbr\\u003eTotal Fat=%{x}\\u003cbr\\u003eCalories=%{marker.size}\\u003cbr\\u003eSodium=%{z}\\u003cextra\\u003e\\u003c\\u002fextra\\u003e\",\"legendgroup\":\"Beverages\",\"marker\":{\"color\":\"#FF6692\",\"size\":[140,200,280,100,0,0,0,0,140,190,270,100,0,0,0,0,140,200,280,100,100,130,80,150,190,280,0],\"sizemode\":\"area\",\"sizeref\":4.7,\"symbol\":\"circle\"},\"mode\":\"markers\",\"name\":\"Beverages\",\"scene\":\"scene\",\"showlegend\":true,\"x\":[0.0,0.0,0.0,0.0,0.0,0.0,0.0,0.0,0.0,0.0,0.0,0.0,0.0,0.0,0.0,0.0,0.0,0.0,0.0,0.0,2.5,0.0,0.0,0.0,0.0,0.0,0.0],\"y\":[140,200,280,100,0,0,0,0,140,190,270,100,0,0,0,0,140,200,280,100,100,130,80,150,190,280,0],\"z\":[0,5,5,0,10,20,35,15,45,65,90,30,70,100,140,50,30,45,60,25,125,135,15,0,0,5,0],\"type\":\"scatter3d\"},{\"hovertemplate\":\"Category=Coffee & Tea\\u003cbr\\u003eTotal Fat=%{x}\\u003cbr\\u003eCalories=%{marker.size}\\u003cbr\\u003eSodium=%{z}\\u003cextra\\u003e\\u003c\\u002fextra\\u003e\",\"legendgroup\":\"Coffee & Tea\",\"marker\":{\"color\":\"#B6E880\",\"size\":[0,0,0,0,150,180,220,110,0,0,0,170,210,280,270,340,430,270,330,430,260,330,420,210,260,330,100,130,170,200,250,310,200,250,310,190,240,300,140,170,220,340,410,500,270,330,390,320,390,480,250,310,370,360,440,540,280,340,400,140,190,270,130,180,260,130,180,250,120,170,240,80,120,160,290,350,480,240,290,390,280,340,460,230,270,370,450,550,670,450,550,670,530,630,760],\"sizemode\":\"area\",\"sizeref\":4.7,\"symbol\":\"circle\"},\"mode\":\"markers\",\"name\":\"Coffee & Tea\",\"scene\":\"scene\",\"showlegend\":true,\"x\":[0.0,0.0,0.0,0.0,0.0,0.0,0.0,0.0,0.0,0.0,0.0,9.0,10.0,14.0,9.0,10.0,14.0,9.0,10.0,14.0,9.0,10.0,14.0,9.0,10.0,14.0,0.0,0.0,0.5,0.0,0.0,0.5,0.0,0.0,0.5,0.0,0.0,0.5,0.0,0.0,0.5,11.0,14.0,17.0,3.5,3.5,4.0,11.0,14.0,17.0,3.5,3.5,3.5,13.0,16.0,20.0,3.5,3.5,3.5,4.5,7.0,9.0,4.5,7.0,9.0,4.5,7.0,9.0,4.5,7.0,9.0,4.5,7.0,9.0,11.0,13.0,16.0,5.0,5.0,6.0,11.0,13.0,16.0,5.0,5.0,6.0,18.0,22.0,26.0,19.0,23.0,27.0,23.0,26.0,31.0],\"y\":[0,0,0,0,150,180,220,110,0,0,0,170,210,280,270,340,430,270,330,430,260,330,420,210,260,330,100,130,170,200,250,310,200,250,310,190,240,300,140,170,220,340,410,500,270,330,390,320,390,480,250,310,370,360,440,540,280,340,400,140,190,270,130,180,260,130,180,250,120,170,240,80,120,160,290,350,480,240,290,390,280,340,460,230,270,370,450,550,670,450,550,670,530,630,760],\"z\":[10,10,15,5,10,10,10,5,0,0,0,115,140,180,115,140,180,115,140,180,115,140,190,150,190,240,110,135,180,110,135,180,110,135,180,115,140,180,150,180,240,150,190,240,150,190,240,170,220,270,170,210,270,180,220,280,180,220,280,35,50,75,35,50,65,35,50,75,40,55,80,65,90,135,125,150,220,125,150,220,140,170,250,140,170,250,125,160,190,125,160,190,135,160,200],\"type\":\"scatter3d\"},{\"hovertemplate\":\"Category=Smoothies & Shakes\\u003cbr\\u003eTotal Fat=%{x}\\u003cbr\\u003eCalories=%{marker.size}\\u003cbr\\u003eSodium=%{z}\\u003cextra\\u003e\\u003c\\u002fextra\\u003e\",\"legendgroup\":\"Smoothies & Shakes\",\"marker\":{\"color\":\"#FF97FF\",\"size\":[220,260,340,210,250,330,210,260,340,530,660,820,550,690,850,560,700,850,660,820,650,930,430,510,690,340,810,410],\"sizemode\":\"area\",\"sizeref\":4.7,\"symbol\":\"circle\"},\"mode\":\"markers\",\"name\":\"Smoothies & Shakes\",\"scene\":\"scene\",\"showlegend\":true,\"x\":[0.5,1.0,1.0,0.5,1.0,1.0,0.5,1.0,1.0,15.0,19.0,23.0,16.0,20.0,24.0,16.0,20.0,23.0,19.0,23.0,23.0,33.0,15.0,17.0,23.0,11.0,32.0,16.0],\"y\":[220,260,340,210,250,330,210,260,340,530,660,820,550,690,850,560,700,850,660,820,650,930,430,510,690,340,810,410],\"z\":[40,50,65,50,60,80,40,45,60,160,200,260,160,210,260,240,300,380,210,260,180,260,120,280,380,190,400,200],\"type\":\"scatter3d\"}],                        {\"template\":{\"data\":{\"histogram2dcontour\":[{\"type\":\"histogram2dcontour\",\"colorbar\":{\"outlinewidth\":0,\"ticks\":\"\"},\"colorscale\":[[0.0,\"#0d0887\"],[0.1111111111111111,\"#46039f\"],[0.2222222222222222,\"#7201a8\"],[0.3333333333333333,\"#9c179e\"],[0.4444444444444444,\"#bd3786\"],[0.5555555555555556,\"#d8576b\"],[0.6666666666666666,\"#ed7953\"],[0.7777777777777778,\"#fb9f3a\"],[0.8888888888888888,\"#fdca26\"],[1.0,\"#f0f921\"]]}],\"choropleth\":[{\"type\":\"choropleth\",\"colorbar\":{\"outlinewidth\":0,\"ticks\":\"\"}}],\"histogram2d\":[{\"type\":\"histogram2d\",\"colorbar\":{\"outlinewidth\":0,\"ticks\":\"\"},\"colorscale\":[[0.0,\"#0d0887\"],[0.1111111111111111,\"#46039f\"],[0.2222222222222222,\"#7201a8\"],[0.3333333333333333,\"#9c179e\"],[0.4444444444444444,\"#bd3786\"],[0.5555555555555556,\"#d8576b\"],[0.6666666666666666,\"#ed7953\"],[0.7777777777777778,\"#fb9f3a\"],[0.8888888888888888,\"#fdca26\"],[1.0,\"#f0f921\"]]}],\"heatmap\":[{\"type\":\"heatmap\",\"colorbar\":{\"outlinewidth\":0,\"ticks\":\"\"},\"colorscale\":[[0.0,\"#0d0887\"],[0.1111111111111111,\"#46039f\"],[0.2222222222222222,\"#7201a8\"],[0.3333333333333333,\"#9c179e\"],[0.4444444444444444,\"#bd3786\"],[0.5555555555555556,\"#d8576b\"],[0.6666666666666666,\"#ed7953\"],[0.7777777777777778,\"#fb9f3a\"],[0.8888888888888888,\"#fdca26\"],[1.0,\"#f0f921\"]]}],\"heatmapgl\":[{\"type\":\"heatmapgl\",\"colorbar\":{\"outlinewidth\":0,\"ticks\":\"\"},\"colorscale\":[[0.0,\"#0d0887\"],[0.1111111111111111,\"#46039f\"],[0.2222222222222222,\"#7201a8\"],[0.3333333333333333,\"#9c179e\"],[0.4444444444444444,\"#bd3786\"],[0.5555555555555556,\"#d8576b\"],[0.6666666666666666,\"#ed7953\"],[0.7777777777777778,\"#fb9f3a\"],[0.8888888888888888,\"#fdca26\"],[1.0,\"#f0f921\"]]}],\"contourcarpet\":[{\"type\":\"contourcarpet\",\"colorbar\":{\"outlinewidth\":0,\"ticks\":\"\"}}],\"contour\":[{\"type\":\"contour\",\"colorbar\":{\"outlinewidth\":0,\"ticks\":\"\"},\"colorscale\":[[0.0,\"#0d0887\"],[0.1111111111111111,\"#46039f\"],[0.2222222222222222,\"#7201a8\"],[0.3333333333333333,\"#9c179e\"],[0.4444444444444444,\"#bd3786\"],[0.5555555555555556,\"#d8576b\"],[0.6666666666666666,\"#ed7953\"],[0.7777777777777778,\"#fb9f3a\"],[0.8888888888888888,\"#fdca26\"],[1.0,\"#f0f921\"]]}],\"surface\":[{\"type\":\"surface\",\"colorbar\":{\"outlinewidth\":0,\"ticks\":\"\"},\"colorscale\":[[0.0,\"#0d0887\"],[0.1111111111111111,\"#46039f\"],[0.2222222222222222,\"#7201a8\"],[0.3333333333333333,\"#9c179e\"],[0.4444444444444444,\"#bd3786\"],[0.5555555555555556,\"#d8576b\"],[0.6666666666666666,\"#ed7953\"],[0.7777777777777778,\"#fb9f3a\"],[0.8888888888888888,\"#fdca26\"],[1.0,\"#f0f921\"]]}],\"mesh3d\":[{\"type\":\"mesh3d\",\"colorbar\":{\"outlinewidth\":0,\"ticks\":\"\"}}],\"scatter\":[{\"fillpattern\":{\"fillmode\":\"overlay\",\"size\":10,\"solidity\":0.2},\"type\":\"scatter\"}],\"parcoords\":[{\"type\":\"parcoords\",\"line\":{\"colorbar\":{\"outlinewidth\":0,\"ticks\":\"\"}}}],\"scatterpolargl\":[{\"type\":\"scatterpolargl\",\"marker\":{\"colorbar\":{\"outlinewidth\":0,\"ticks\":\"\"}}}],\"bar\":[{\"error_x\":{\"color\":\"#2a3f5f\"},\"error_y\":{\"color\":\"#2a3f5f\"},\"marker\":{\"line\":{\"color\":\"#E5ECF6\",\"width\":0.5},\"pattern\":{\"fillmode\":\"overlay\",\"size\":10,\"solidity\":0.2}},\"type\":\"bar\"}],\"scattergeo\":[{\"type\":\"scattergeo\",\"marker\":{\"colorbar\":{\"outlinewidth\":0,\"ticks\":\"\"}}}],\"scatterpolar\":[{\"type\":\"scatterpolar\",\"marker\":{\"colorbar\":{\"outlinewidth\":0,\"ticks\":\"\"}}}],\"histogram\":[{\"marker\":{\"pattern\":{\"fillmode\":\"overlay\",\"size\":10,\"solidity\":0.2}},\"type\":\"histogram\"}],\"scattergl\":[{\"type\":\"scattergl\",\"marker\":{\"colorbar\":{\"outlinewidth\":0,\"ticks\":\"\"}}}],\"scatter3d\":[{\"type\":\"scatter3d\",\"line\":{\"colorbar\":{\"outlinewidth\":0,\"ticks\":\"\"}},\"marker\":{\"colorbar\":{\"outlinewidth\":0,\"ticks\":\"\"}}}],\"scattermapbox\":[{\"type\":\"scattermapbox\",\"marker\":{\"colorbar\":{\"outlinewidth\":0,\"ticks\":\"\"}}}],\"scatterternary\":[{\"type\":\"scatterternary\",\"marker\":{\"colorbar\":{\"outlinewidth\":0,\"ticks\":\"\"}}}],\"scattercarpet\":[{\"type\":\"scattercarpet\",\"marker\":{\"colorbar\":{\"outlinewidth\":0,\"ticks\":\"\"}}}],\"carpet\":[{\"aaxis\":{\"endlinecolor\":\"#2a3f5f\",\"gridcolor\":\"white\",\"linecolor\":\"white\",\"minorgridcolor\":\"white\",\"startlinecolor\":\"#2a3f5f\"},\"baxis\":{\"endlinecolor\":\"#2a3f5f\",\"gridcolor\":\"white\",\"linecolor\":\"white\",\"minorgridcolor\":\"white\",\"startlinecolor\":\"#2a3f5f\"},\"type\":\"carpet\"}],\"table\":[{\"cells\":{\"fill\":{\"color\":\"#EBF0F8\"},\"line\":{\"color\":\"white\"}},\"header\":{\"fill\":{\"color\":\"#C8D4E3\"},\"line\":{\"color\":\"white\"}},\"type\":\"table\"}],\"barpolar\":[{\"marker\":{\"line\":{\"color\":\"#E5ECF6\",\"width\":0.5},\"pattern\":{\"fillmode\":\"overlay\",\"size\":10,\"solidity\":0.2}},\"type\":\"barpolar\"}],\"pie\":[{\"automargin\":true,\"type\":\"pie\"}]},\"layout\":{\"autotypenumbers\":\"strict\",\"colorway\":[\"#636efa\",\"#EF553B\",\"#00cc96\",\"#ab63fa\",\"#FFA15A\",\"#19d3f3\",\"#FF6692\",\"#B6E880\",\"#FF97FF\",\"#FECB52\"],\"font\":{\"color\":\"#2a3f5f\"},\"hovermode\":\"closest\",\"hoverlabel\":{\"align\":\"left\"},\"paper_bgcolor\":\"white\",\"plot_bgcolor\":\"#E5ECF6\",\"polar\":{\"bgcolor\":\"#E5ECF6\",\"angularaxis\":{\"gridcolor\":\"white\",\"linecolor\":\"white\",\"ticks\":\"\"},\"radialaxis\":{\"gridcolor\":\"white\",\"linecolor\":\"white\",\"ticks\":\"\"}},\"ternary\":{\"bgcolor\":\"#E5ECF6\",\"aaxis\":{\"gridcolor\":\"white\",\"linecolor\":\"white\",\"ticks\":\"\"},\"baxis\":{\"gridcolor\":\"white\",\"linecolor\":\"white\",\"ticks\":\"\"},\"caxis\":{\"gridcolor\":\"white\",\"linecolor\":\"white\",\"ticks\":\"\"}},\"coloraxis\":{\"colorbar\":{\"outlinewidth\":0,\"ticks\":\"\"}},\"colorscale\":{\"sequential\":[[0.0,\"#0d0887\"],[0.1111111111111111,\"#46039f\"],[0.2222222222222222,\"#7201a8\"],[0.3333333333333333,\"#9c179e\"],[0.4444444444444444,\"#bd3786\"],[0.5555555555555556,\"#d8576b\"],[0.6666666666666666,\"#ed7953\"],[0.7777777777777778,\"#fb9f3a\"],[0.8888888888888888,\"#fdca26\"],[1.0,\"#f0f921\"]],\"sequentialminus\":[[0.0,\"#0d0887\"],[0.1111111111111111,\"#46039f\"],[0.2222222222222222,\"#7201a8\"],[0.3333333333333333,\"#9c179e\"],[0.4444444444444444,\"#bd3786\"],[0.5555555555555556,\"#d8576b\"],[0.6666666666666666,\"#ed7953\"],[0.7777777777777778,\"#fb9f3a\"],[0.8888888888888888,\"#fdca26\"],[1.0,\"#f0f921\"]],\"diverging\":[[0,\"#8e0152\"],[0.1,\"#c51b7d\"],[0.2,\"#de77ae\"],[0.3,\"#f1b6da\"],[0.4,\"#fde0ef\"],[0.5,\"#f7f7f7\"],[0.6,\"#e6f5d0\"],[0.7,\"#b8e186\"],[0.8,\"#7fbc41\"],[0.9,\"#4d9221\"],[1,\"#276419\"]]},\"xaxis\":{\"gridcolor\":\"white\",\"linecolor\":\"white\",\"ticks\":\"\",\"title\":{\"standoff\":15},\"zerolinecolor\":\"white\",\"automargin\":true,\"zerolinewidth\":2},\"yaxis\":{\"gridcolor\":\"white\",\"linecolor\":\"white\",\"ticks\":\"\",\"title\":{\"standoff\":15},\"zerolinecolor\":\"white\",\"automargin\":true,\"zerolinewidth\":2},\"scene\":{\"xaxis\":{\"backgroundcolor\":\"#E5ECF6\",\"gridcolor\":\"white\",\"linecolor\":\"white\",\"showbackground\":true,\"ticks\":\"\",\"zerolinecolor\":\"white\",\"gridwidth\":2},\"yaxis\":{\"backgroundcolor\":\"#E5ECF6\",\"gridcolor\":\"white\",\"linecolor\":\"white\",\"showbackground\":true,\"ticks\":\"\",\"zerolinecolor\":\"white\",\"gridwidth\":2},\"zaxis\":{\"backgroundcolor\":\"#E5ECF6\",\"gridcolor\":\"white\",\"linecolor\":\"white\",\"showbackground\":true,\"ticks\":\"\",\"zerolinecolor\":\"white\",\"gridwidth\":2}},\"shapedefaults\":{\"line\":{\"color\":\"#2a3f5f\"}},\"annotationdefaults\":{\"arrowcolor\":\"#2a3f5f\",\"arrowhead\":0,\"arrowwidth\":1},\"geo\":{\"bgcolor\":\"white\",\"landcolor\":\"#E5ECF6\",\"subunitcolor\":\"white\",\"showland\":true,\"showlakes\":true,\"lakecolor\":\"white\"},\"title\":{\"x\":0.05},\"mapbox\":{\"style\":\"light\"}}},\"scene\":{\"domain\":{\"x\":[0.0,1.0],\"y\":[0.0,1.0]},\"xaxis\":{\"title\":{\"text\":\"Total Fat\"}},\"yaxis\":{\"title\":{\"text\":\"Calories\"}},\"zaxis\":{\"title\":{\"text\":\"Sodium\"}}},\"legend\":{\"title\":{\"text\":\"Category\"},\"tracegroupgap\":0,\"itemsizing\":\"constant\"},\"margin\":{\"t\":60}},                        {\"responsive\": true}                    ).then(function(){\n",
       "                            \n",
       "var gd = document.getElementById('2597831d-2392-41f7-8f5a-9af54794c510');\n",
       "var x = new MutationObserver(function (mutations, observer) {{\n",
       "        var display = window.getComputedStyle(gd).display;\n",
       "        if (!display || display === 'none') {{\n",
       "            console.log([gd, 'removed!']);\n",
       "            Plotly.purge(gd);\n",
       "            observer.disconnect();\n",
       "        }}\n",
       "}});\n",
       "\n",
       "// Listen for the removal of the full notebook cells\n",
       "var notebookContainer = gd.closest('#notebook-container');\n",
       "if (notebookContainer) {{\n",
       "    x.observe(notebookContainer, {childList: true});\n",
       "}}\n",
       "\n",
       "// Listen for the clearing of the current output cell\n",
       "var outputEl = gd.closest('.output');\n",
       "if (outputEl) {{\n",
       "    x.observe(outputEl, {childList: true});\n",
       "}}\n",
       "\n",
       "                        })                };                });            </script>        </div>"
      ]
     },
     "metadata": {},
     "output_type": "display_data"
    }
   ],
   "source": [
    "fig=px.scatter_3d(mc,x='Total Fat',y='Calories',z='Sodium',color='Category',size='Calories')\n",
    "fig.show()"
   ]
  },
  {
   "cell_type": "code",
   "execution_count": 70,
   "id": "396180b8-0d1b-4fb7-8082-37052bf944f2",
   "metadata": {},
   "outputs": [
    {
     "data": {
      "application/vnd.plotly.v1+json": {
       "config": {
        "plotlyServerURL": "https://plot.ly"
       },
       "data": [
        {
         "hovertemplate": "Category=Breakfast<br>Iron (% Daily Value)=%{x}<br>Sugars=%{marker.size}<br>Calories=%{z}<extra></extra>",
         "legendgroup": "Breakfast",
         "marker": {
          "color": "#636efa",
          "size": [
           3,
           3,
           2,
           2,
           2,
           3,
           3,
           4,
           3,
           4,
           2,
           3,
           2,
           3,
           3,
           3,
           3,
           4,
           3,
           15,
           16,
           15,
           15,
           15,
           7,
           8,
           7,
           3,
           3,
           3,
           4,
           17,
           17,
           17,
           18,
           14,
           14,
           2,
           0,
           32,
           32,
           18
          ],
          "sizemode": "area",
          "sizeref": 0.32,
          "symbol": "circle"
         },
         "mode": "markers",
         "name": "Breakfast",
         "scene": "scene",
         "showlegend": true,
         "type": "scatter3d",
         "x": [
          15,
          8,
          10,
          15,
          10,
          20,
          15,
          20,
          10,
          15,
          15,
          15,
          20,
          20,
          15,
          15,
          15,
          15,
          25,
          15,
          10,
          10,
          15,
          10,
          20,
          15,
          25,
          25,
          30,
          15,
          15,
          40,
          40,
          30,
          30,
          15,
          15,
          15,
          2,
          15,
          10,
          10
         ],
         "y": [
          3,
          3,
          2,
          2,
          2,
          3,
          3,
          4,
          3,
          4,
          2,
          3,
          2,
          3,
          3,
          3,
          3,
          4,
          3,
          15,
          16,
          15,
          15,
          15,
          7,
          8,
          7,
          3,
          3,
          3,
          4,
          17,
          17,
          17,
          18,
          14,
          14,
          2,
          0,
          32,
          32,
          18
         ],
         "z": [
          300,
          250,
          370,
          450,
          400,
          430,
          460,
          520,
          410,
          470,
          430,
          480,
          510,
          570,
          460,
          520,
          410,
          470,
          540,
          460,
          400,
          420,
          550,
          500,
          620,
          570,
          670,
          740,
          800,
          640,
          690,
          1090,
          1150,
          990,
          1050,
          350,
          520,
          300,
          150,
          460,
          290,
          260
         ]
        },
        {
         "hovertemplate": "Category=Beef & Pork<br>Iron (% Daily Value)=%{x}<br>Sugars=%{marker.size}<br>Calories=%{z}<extra></extra>",
         "legendgroup": "Beef & Pork",
         "marker": {
          "color": "#EF553B",
          "size": [
           9,
           10,
           12,
           10,
           9,
           10,
           6,
           7,
           7,
           14,
           7,
           7,
           7,
           6,
           11
          ],
          "sizemode": "area",
          "sizeref": 0.32,
          "symbol": "circle"
         },
         "mode": "markers",
         "name": "Beef & Pork",
         "scene": "scene",
         "showlegend": true,
         "type": "scatter3d",
         "x": [
          25,
          25,
          30,
          30,
          30,
          35,
          15,
          15,
          20,
          25,
          20,
          20,
          20,
          20,
          20
         ],
         "y": [
          9,
          10,
          12,
          10,
          9,
          10,
          6,
          7,
          7,
          14,
          7,
          7,
          7,
          6,
          11
         ],
         "z": [
          530,
          520,
          600,
          610,
          540,
          750,
          240,
          290,
          430,
          720,
          380,
          440,
          430,
          430,
          500
         ]
        },
        {
         "hovertemplate": "Category=Chicken & Fish<br>Iron (% Daily Value)=%{x}<br>Sugars=%{marker.size}<br>Calories=%{z}<extra></extra>",
         "legendgroup": "Chicken & Fish",
         "marker": {
          "color": "#00cc96",
          "size": [
           10,
           8,
           11,
           9,
           11,
           9,
           16,
           14,
           7,
           5,
           6,
           6,
           5,
           7,
           6,
           8,
           6,
           12,
           10,
           14,
           12,
           0,
           0,
           0,
           0,
           1,
           5
          ],
          "sizemode": "area",
          "sizeref": 0.32,
          "symbol": "circle"
         },
         "mode": "markers",
         "name": "Chicken & Fish",
         "scene": "scene",
         "showlegend": true,
         "type": "scatter3d",
         "x": [
          20,
          20,
          20,
          20,
          20,
          20,
          15,
          15,
          15,
          15,
          15,
          15,
          15,
          20,
          20,
          20,
          20,
          20,
          20,
          20,
          20,
          2,
          4,
          6,
          10,
          25,
          10
         ],
         "y": [
          10,
          8,
          11,
          9,
          11,
          9,
          16,
          14,
          7,
          5,
          6,
          6,
          5,
          7,
          6,
          8,
          6,
          12,
          10,
          14,
          12,
          0,
          0,
          0,
          0,
          1,
          5
         ],
         "z": [
          510,
          350,
          670,
          510,
          610,
          450,
          750,
          590,
          430,
          360,
          480,
          430,
          360,
          630,
          480,
          610,
          450,
          670,
          520,
          540,
          380,
          190,
          280,
          470,
          940,
          1880,
          390
         ]
        },
        {
         "hovertemplate": "Category=Salads<br>Iron (% Daily Value)=%{x}<br>Sugars=%{marker.size}<br>Calories=%{z}<extra></extra>",
         "legendgroup": "Salads",
         "marker": {
          "color": "#ab63fa",
          "size": [
           4,
           5,
           4,
           6,
           12,
           10
          ],
          "sizemode": "area",
          "sizeref": 0.32,
          "symbol": "circle"
         },
         "mode": "markers",
         "name": "Salads",
         "scene": "scene",
         "showlegend": true,
         "type": "scatter3d",
         "x": [
          6,
          8,
          8,
          10,
          15,
          15
         ],
         "y": [
          4,
          5,
          4,
          6,
          12,
          10
         ],
         "z": [
          140,
          380,
          220,
          140,
          450,
          290
         ]
        },
        {
         "hovertemplate": "Category=Snacks & Sides<br>Iron (% Daily Value)=%{x}<br>Sugars=%{marker.size}<br>Calories=%{z}<extra></extra>",
         "legendgroup": "Snacks & Sides",
         "marker": {
          "color": "#FFA15A",
          "size": [
           8,
           7,
           3,
           2,
           3,
           2,
           0,
           0,
           0,
           0,
           2,
           3,
           23
          ],
          "sizemode": "area",
          "sizeref": 0.32,
          "symbol": "circle"
         },
         "mode": "markers",
         "name": "Snacks & Sides",
         "scene": "scene",
         "showlegend": true,
         "type": "scatter3d",
         "x": [
          10,
          10,
          10,
          10,
          10,
          10,
          4,
          4,
          8,
          2,
          4,
          0,
          4
         ],
         "y": [
          8,
          7,
          3,
          2,
          3,
          2,
          0,
          0,
          0,
          0,
          2,
          3,
          23
         ],
         "z": [
          340,
          260,
          330,
          250,
          360,
          280,
          230,
          340,
          510,
          110,
          20,
          15,
          150
         ]
        },
        {
         "hovertemplate": "Category=Desserts<br>Iron (% Daily Value)=%{x}<br>Sugars=%{marker.size}<br>Calories=%{z}<extra></extra>",
         "legendgroup": "Desserts",
         "marker": {
          "color": "#19d3f3",
          "size": [
           13,
           15,
           13,
           6,
           48,
           43,
           45
          ],
          "sizemode": "area",
          "sizeref": 0.32,
          "symbol": "circle"
         },
         "mode": "markers",
         "name": "Desserts",
         "scene": "scene",
         "showlegend": true,
         "type": "scatter3d",
         "x": [
          6,
          8,
          6,
          0,
          8,
          0,
          0
         ],
         "y": [
          13,
          15,
          13,
          6,
          48,
          43,
          45
         ],
         "z": [
          250,
          160,
          150,
          45,
          330,
          340,
          280
         ]
        },
        {
         "hovertemplate": "Category=Beverages<br>Iron (% Daily Value)=%{x}<br>Sugars=%{marker.size}<br>Calories=%{z}<extra></extra>",
         "legendgroup": "Beverages",
         "marker": {
          "color": "#FF6692",
          "size": [
           39,
           55,
           76,
           28,
           0,
           0,
           0,
           0,
           35,
           51,
           70,
           26,
           0,
           0,
           0,
           0,
           37,
           54,
           74,
           27,
           12,
           22,
           19,
           30,
           39,
           58,
           0
          ],
          "sizemode": "area",
          "sizeref": 0.32,
          "symbol": "circle"
         },
         "mode": "markers",
         "name": "Beverages",
         "scene": "scene",
         "showlegend": true,
         "type": "scatter3d",
         "x": [
          0,
          0,
          0,
          0,
          0,
          0,
          0,
          0,
          0,
          0,
          0,
          0,
          0,
          0,
          0,
          0,
          0,
          0,
          0,
          0,
          0,
          8,
          0,
          0,
          0,
          0,
          0
         ],
         "y": [
          39,
          55,
          76,
          28,
          0,
          0,
          0,
          0,
          35,
          51,
          70,
          26,
          0,
          0,
          0,
          0,
          37,
          54,
          74,
          27,
          12,
          22,
          19,
          30,
          39,
          58,
          0
         ],
         "z": [
          140,
          200,
          280,
          100,
          0,
          0,
          0,
          0,
          140,
          190,
          270,
          100,
          0,
          0,
          0,
          0,
          140,
          200,
          280,
          100,
          100,
          130,
          80,
          150,
          190,
          280,
          0
         ]
        },
        {
         "hovertemplate": "Category=Coffee & Tea<br>Iron (% Daily Value)=%{x}<br>Sugars=%{marker.size}<br>Calories=%{z}<extra></extra>",
         "legendgroup": "Coffee & Tea",
         "marker": {
          "color": "#B6E880",
          "size": [
           0,
           0,
           0,
           0,
           36,
           45,
           54,
           27,
           0,
           0,
           0,
           12,
           15,
           20,
           38,
           48,
           59,
           38,
           47,
           58,
           36,
           45,
           56,
           12,
           15,
           20,
           13,
           16,
           21,
           39,
           48,
           59,
           38,
           48,
           59,
           37,
           46,
           56,
           13,
           16,
           21,
           42,
           53,
           63,
           43,
           53,
           64,
           40,
           50,
           60,
           41,
           51,
           61,
           45,
           56,
           68,
           46,
           57,
           69,
           22,
           30,
           45,
           21,
           28,
           42,
           20,
           28,
           41,
           19,
           26,
           39,
           1,
           2,
           2,
           34,
           43,
           62,
           35,
           43,
           62,
           33,
           41,
           59,
           33,
           41,
           59,
           57,
           71,
           88,
           57,
           71,
           88,
           67,
           81,
           99
          ],
          "sizemode": "area",
          "sizeref": 0.32,
          "symbol": "circle"
         },
         "mode": "markers",
         "name": "Coffee & Tea",
         "scene": "scene",
         "showlegend": true,
         "type": "scatter3d",
         "x": [
          0,
          0,
          0,
          0,
          0,
          0,
          0,
          0,
          0,
          0,
          0,
          0,
          0,
          2,
          0,
          0,
          2,
          0,
          0,
          2,
          0,
          2,
          2,
          0,
          0,
          2,
          0,
          0,
          2,
          0,
          0,
          2,
          0,
          0,
          2,
          0,
          2,
          2,
          0,
          0,
          2,
          6,
          6,
          8,
          6,
          6,
          8,
          2,
          2,
          4,
          2,
          2,
          4,
          6,
          6,
          8,
          6,
          6,
          8,
          0,
          0,
          0,
          0,
          0,
          0,
          0,
          0,
          0,
          0,
          0,
          0,
          0,
          0,
          0,
          4,
          6,
          8,
          4,
          6,
          8,
          2,
          2,
          4,
          2,
          2,
          4,
          4,
          4,
          4,
          2,
          2,
          2,
          4,
          4,
          6
         ],
         "y": [
          0,
          0,
          0,
          0,
          36,
          45,
          54,
          27,
          0,
          0,
          0,
          12,
          15,
          20,
          38,
          48,
          59,
          38,
          47,
          58,
          36,
          45,
          56,
          12,
          15,
          20,
          13,
          16,
          21,
          39,
          48,
          59,
          38,
          48,
          59,
          37,
          46,
          56,
          13,
          16,
          21,
          42,
          53,
          63,
          43,
          53,
          64,
          40,
          50,
          60,
          41,
          51,
          61,
          45,
          56,
          68,
          46,
          57,
          69,
          22,
          30,
          45,
          21,
          28,
          42,
          20,
          28,
          41,
          19,
          26,
          39,
          1,
          2,
          2,
          34,
          43,
          62,
          35,
          43,
          62,
          33,
          41,
          59,
          33,
          41,
          59,
          57,
          71,
          88,
          57,
          71,
          88,
          67,
          81,
          99
         ],
         "z": [
          0,
          0,
          0,
          0,
          150,
          180,
          220,
          110,
          0,
          0,
          0,
          170,
          210,
          280,
          270,
          340,
          430,
          270,
          330,
          430,
          260,
          330,
          420,
          210,
          260,
          330,
          100,
          130,
          170,
          200,
          250,
          310,
          200,
          250,
          310,
          190,
          240,
          300,
          140,
          170,
          220,
          340,
          410,
          500,
          270,
          330,
          390,
          320,
          390,
          480,
          250,
          310,
          370,
          360,
          440,
          540,
          280,
          340,
          400,
          140,
          190,
          270,
          130,
          180,
          260,
          130,
          180,
          250,
          120,
          170,
          240,
          80,
          120,
          160,
          290,
          350,
          480,
          240,
          290,
          390,
          280,
          340,
          460,
          230,
          270,
          370,
          450,
          550,
          670,
          450,
          550,
          670,
          530,
          630,
          760
         ]
        },
        {
         "hovertemplate": "Category=Smoothies & Shakes<br>Iron (% Daily Value)=%{x}<br>Sugars=%{marker.size}<br>Calories=%{z}<extra></extra>",
         "legendgroup": "Smoothies & Shakes",
         "marker": {
          "color": "#FF97FF",
          "size": [
           44,
           54,
           70,
           44,
           54,
           70,
           46,
           56,
           72,
           63,
           81,
           101,
           79,
           100,
           123,
           77,
           97,
           120,
           93,
           115,
           89,
           128,
           59,
           64,
           85,
           43,
           103,
           51
          ],
          "sizemode": "area",
          "sizeref": 0.32,
          "symbol": "circle"
         },
         "mode": "markers",
         "name": "Smoothies & Shakes",
         "scene": "scene",
         "showlegend": true,
         "type": "scatter3d",
         "x": [
          2,
          2,
          2,
          2,
          4,
          4,
          2,
          2,
          2,
          0,
          0,
          0,
          0,
          0,
          0,
          8,
          10,
          15,
          0,
          0,
          8,
          10,
          4,
          8,
          10,
          6,
          6,
          4
         ],
         "y": [
          44,
          54,
          70,
          44,
          54,
          70,
          46,
          56,
          72,
          63,
          81,
          101,
          79,
          100,
          123,
          77,
          97,
          120,
          93,
          115,
          89,
          128,
          59,
          64,
          85,
          43,
          103,
          51
         ],
         "z": [
          220,
          260,
          340,
          210,
          250,
          330,
          210,
          260,
          340,
          530,
          660,
          820,
          550,
          690,
          850,
          560,
          700,
          850,
          660,
          820,
          650,
          930,
          430,
          510,
          690,
          340,
          810,
          410
         ]
        }
       ],
       "layout": {
        "autosize": true,
        "legend": {
         "itemsizing": "constant",
         "title": {
          "text": "Category"
         },
         "tracegroupgap": 0
        },
        "margin": {
         "t": 60
        },
        "scene": {
         "aspectmode": "auto",
         "aspectratio": {
          "x": 1,
          "y": 1,
          "z": 1
         },
         "camera": {
          "center": {
           "x": 0,
           "y": 0,
           "z": 0
          },
          "eye": {
           "x": 0.7280088406680717,
           "y": 0.7280088406680715,
           "z": 0.7280088406680717
          },
          "projection": {
           "type": "perspective"
          },
          "up": {
           "x": 0,
           "y": 0,
           "z": 1
          }
         },
         "domain": {
          "x": [
           0,
           1
          ],
          "y": [
           0,
           1
          ]
         },
         "xaxis": {
          "title": {
           "text": "Iron (% Daily Value)"
          },
          "type": "linear"
         },
         "yaxis": {
          "title": {
           "text": "Sugars"
          },
          "type": "linear"
         },
         "zaxis": {
          "title": {
           "text": "Calories"
          },
          "type": "linear"
         }
        },
        "template": {
         "data": {
          "bar": [
           {
            "error_x": {
             "color": "#2a3f5f"
            },
            "error_y": {
             "color": "#2a3f5f"
            },
            "marker": {
             "line": {
              "color": "#E5ECF6",
              "width": 0.5
             },
             "pattern": {
              "fillmode": "overlay",
              "size": 10,
              "solidity": 0.2
             }
            },
            "type": "bar"
           }
          ],
          "barpolar": [
           {
            "marker": {
             "line": {
              "color": "#E5ECF6",
              "width": 0.5
             },
             "pattern": {
              "fillmode": "overlay",
              "size": 10,
              "solidity": 0.2
             }
            },
            "type": "barpolar"
           }
          ],
          "carpet": [
           {
            "aaxis": {
             "endlinecolor": "#2a3f5f",
             "gridcolor": "white",
             "linecolor": "white",
             "minorgridcolor": "white",
             "startlinecolor": "#2a3f5f"
            },
            "baxis": {
             "endlinecolor": "#2a3f5f",
             "gridcolor": "white",
             "linecolor": "white",
             "minorgridcolor": "white",
             "startlinecolor": "#2a3f5f"
            },
            "type": "carpet"
           }
          ],
          "choropleth": [
           {
            "colorbar": {
             "outlinewidth": 0,
             "ticks": ""
            },
            "type": "choropleth"
           }
          ],
          "contour": [
           {
            "colorbar": {
             "outlinewidth": 0,
             "ticks": ""
            },
            "colorscale": [
             [
              0,
              "#0d0887"
             ],
             [
              0.1111111111111111,
              "#46039f"
             ],
             [
              0.2222222222222222,
              "#7201a8"
             ],
             [
              0.3333333333333333,
              "#9c179e"
             ],
             [
              0.4444444444444444,
              "#bd3786"
             ],
             [
              0.5555555555555556,
              "#d8576b"
             ],
             [
              0.6666666666666666,
              "#ed7953"
             ],
             [
              0.7777777777777778,
              "#fb9f3a"
             ],
             [
              0.8888888888888888,
              "#fdca26"
             ],
             [
              1,
              "#f0f921"
             ]
            ],
            "type": "contour"
           }
          ],
          "contourcarpet": [
           {
            "colorbar": {
             "outlinewidth": 0,
             "ticks": ""
            },
            "type": "contourcarpet"
           }
          ],
          "heatmap": [
           {
            "colorbar": {
             "outlinewidth": 0,
             "ticks": ""
            },
            "colorscale": [
             [
              0,
              "#0d0887"
             ],
             [
              0.1111111111111111,
              "#46039f"
             ],
             [
              0.2222222222222222,
              "#7201a8"
             ],
             [
              0.3333333333333333,
              "#9c179e"
             ],
             [
              0.4444444444444444,
              "#bd3786"
             ],
             [
              0.5555555555555556,
              "#d8576b"
             ],
             [
              0.6666666666666666,
              "#ed7953"
             ],
             [
              0.7777777777777778,
              "#fb9f3a"
             ],
             [
              0.8888888888888888,
              "#fdca26"
             ],
             [
              1,
              "#f0f921"
             ]
            ],
            "type": "heatmap"
           }
          ],
          "heatmapgl": [
           {
            "colorbar": {
             "outlinewidth": 0,
             "ticks": ""
            },
            "colorscale": [
             [
              0,
              "#0d0887"
             ],
             [
              0.1111111111111111,
              "#46039f"
             ],
             [
              0.2222222222222222,
              "#7201a8"
             ],
             [
              0.3333333333333333,
              "#9c179e"
             ],
             [
              0.4444444444444444,
              "#bd3786"
             ],
             [
              0.5555555555555556,
              "#d8576b"
             ],
             [
              0.6666666666666666,
              "#ed7953"
             ],
             [
              0.7777777777777778,
              "#fb9f3a"
             ],
             [
              0.8888888888888888,
              "#fdca26"
             ],
             [
              1,
              "#f0f921"
             ]
            ],
            "type": "heatmapgl"
           }
          ],
          "histogram": [
           {
            "marker": {
             "pattern": {
              "fillmode": "overlay",
              "size": 10,
              "solidity": 0.2
             }
            },
            "type": "histogram"
           }
          ],
          "histogram2d": [
           {
            "colorbar": {
             "outlinewidth": 0,
             "ticks": ""
            },
            "colorscale": [
             [
              0,
              "#0d0887"
             ],
             [
              0.1111111111111111,
              "#46039f"
             ],
             [
              0.2222222222222222,
              "#7201a8"
             ],
             [
              0.3333333333333333,
              "#9c179e"
             ],
             [
              0.4444444444444444,
              "#bd3786"
             ],
             [
              0.5555555555555556,
              "#d8576b"
             ],
             [
              0.6666666666666666,
              "#ed7953"
             ],
             [
              0.7777777777777778,
              "#fb9f3a"
             ],
             [
              0.8888888888888888,
              "#fdca26"
             ],
             [
              1,
              "#f0f921"
             ]
            ],
            "type": "histogram2d"
           }
          ],
          "histogram2dcontour": [
           {
            "colorbar": {
             "outlinewidth": 0,
             "ticks": ""
            },
            "colorscale": [
             [
              0,
              "#0d0887"
             ],
             [
              0.1111111111111111,
              "#46039f"
             ],
             [
              0.2222222222222222,
              "#7201a8"
             ],
             [
              0.3333333333333333,
              "#9c179e"
             ],
             [
              0.4444444444444444,
              "#bd3786"
             ],
             [
              0.5555555555555556,
              "#d8576b"
             ],
             [
              0.6666666666666666,
              "#ed7953"
             ],
             [
              0.7777777777777778,
              "#fb9f3a"
             ],
             [
              0.8888888888888888,
              "#fdca26"
             ],
             [
              1,
              "#f0f921"
             ]
            ],
            "type": "histogram2dcontour"
           }
          ],
          "mesh3d": [
           {
            "colorbar": {
             "outlinewidth": 0,
             "ticks": ""
            },
            "type": "mesh3d"
           }
          ],
          "parcoords": [
           {
            "line": {
             "colorbar": {
              "outlinewidth": 0,
              "ticks": ""
             }
            },
            "type": "parcoords"
           }
          ],
          "pie": [
           {
            "automargin": true,
            "type": "pie"
           }
          ],
          "scatter": [
           {
            "fillpattern": {
             "fillmode": "overlay",
             "size": 10,
             "solidity": 0.2
            },
            "type": "scatter"
           }
          ],
          "scatter3d": [
           {
            "line": {
             "colorbar": {
              "outlinewidth": 0,
              "ticks": ""
             }
            },
            "marker": {
             "colorbar": {
              "outlinewidth": 0,
              "ticks": ""
             }
            },
            "type": "scatter3d"
           }
          ],
          "scattercarpet": [
           {
            "marker": {
             "colorbar": {
              "outlinewidth": 0,
              "ticks": ""
             }
            },
            "type": "scattercarpet"
           }
          ],
          "scattergeo": [
           {
            "marker": {
             "colorbar": {
              "outlinewidth": 0,
              "ticks": ""
             }
            },
            "type": "scattergeo"
           }
          ],
          "scattergl": [
           {
            "marker": {
             "colorbar": {
              "outlinewidth": 0,
              "ticks": ""
             }
            },
            "type": "scattergl"
           }
          ],
          "scattermapbox": [
           {
            "marker": {
             "colorbar": {
              "outlinewidth": 0,
              "ticks": ""
             }
            },
            "type": "scattermapbox"
           }
          ],
          "scatterpolar": [
           {
            "marker": {
             "colorbar": {
              "outlinewidth": 0,
              "ticks": ""
             }
            },
            "type": "scatterpolar"
           }
          ],
          "scatterpolargl": [
           {
            "marker": {
             "colorbar": {
              "outlinewidth": 0,
              "ticks": ""
             }
            },
            "type": "scatterpolargl"
           }
          ],
          "scatterternary": [
           {
            "marker": {
             "colorbar": {
              "outlinewidth": 0,
              "ticks": ""
             }
            },
            "type": "scatterternary"
           }
          ],
          "surface": [
           {
            "colorbar": {
             "outlinewidth": 0,
             "ticks": ""
            },
            "colorscale": [
             [
              0,
              "#0d0887"
             ],
             [
              0.1111111111111111,
              "#46039f"
             ],
             [
              0.2222222222222222,
              "#7201a8"
             ],
             [
              0.3333333333333333,
              "#9c179e"
             ],
             [
              0.4444444444444444,
              "#bd3786"
             ],
             [
              0.5555555555555556,
              "#d8576b"
             ],
             [
              0.6666666666666666,
              "#ed7953"
             ],
             [
              0.7777777777777778,
              "#fb9f3a"
             ],
             [
              0.8888888888888888,
              "#fdca26"
             ],
             [
              1,
              "#f0f921"
             ]
            ],
            "type": "surface"
           }
          ],
          "table": [
           {
            "cells": {
             "fill": {
              "color": "#EBF0F8"
             },
             "line": {
              "color": "white"
             }
            },
            "header": {
             "fill": {
              "color": "#C8D4E3"
             },
             "line": {
              "color": "white"
             }
            },
            "type": "table"
           }
          ]
         },
         "layout": {
          "annotationdefaults": {
           "arrowcolor": "#2a3f5f",
           "arrowhead": 0,
           "arrowwidth": 1
          },
          "autotypenumbers": "strict",
          "coloraxis": {
           "colorbar": {
            "outlinewidth": 0,
            "ticks": ""
           }
          },
          "colorscale": {
           "diverging": [
            [
             0,
             "#8e0152"
            ],
            [
             0.1,
             "#c51b7d"
            ],
            [
             0.2,
             "#de77ae"
            ],
            [
             0.3,
             "#f1b6da"
            ],
            [
             0.4,
             "#fde0ef"
            ],
            [
             0.5,
             "#f7f7f7"
            ],
            [
             0.6,
             "#e6f5d0"
            ],
            [
             0.7,
             "#b8e186"
            ],
            [
             0.8,
             "#7fbc41"
            ],
            [
             0.9,
             "#4d9221"
            ],
            [
             1,
             "#276419"
            ]
           ],
           "sequential": [
            [
             0,
             "#0d0887"
            ],
            [
             0.1111111111111111,
             "#46039f"
            ],
            [
             0.2222222222222222,
             "#7201a8"
            ],
            [
             0.3333333333333333,
             "#9c179e"
            ],
            [
             0.4444444444444444,
             "#bd3786"
            ],
            [
             0.5555555555555556,
             "#d8576b"
            ],
            [
             0.6666666666666666,
             "#ed7953"
            ],
            [
             0.7777777777777778,
             "#fb9f3a"
            ],
            [
             0.8888888888888888,
             "#fdca26"
            ],
            [
             1,
             "#f0f921"
            ]
           ],
           "sequentialminus": [
            [
             0,
             "#0d0887"
            ],
            [
             0.1111111111111111,
             "#46039f"
            ],
            [
             0.2222222222222222,
             "#7201a8"
            ],
            [
             0.3333333333333333,
             "#9c179e"
            ],
            [
             0.4444444444444444,
             "#bd3786"
            ],
            [
             0.5555555555555556,
             "#d8576b"
            ],
            [
             0.6666666666666666,
             "#ed7953"
            ],
            [
             0.7777777777777778,
             "#fb9f3a"
            ],
            [
             0.8888888888888888,
             "#fdca26"
            ],
            [
             1,
             "#f0f921"
            ]
           ]
          },
          "colorway": [
           "#636efa",
           "#EF553B",
           "#00cc96",
           "#ab63fa",
           "#FFA15A",
           "#19d3f3",
           "#FF6692",
           "#B6E880",
           "#FF97FF",
           "#FECB52"
          ],
          "font": {
           "color": "#2a3f5f"
          },
          "geo": {
           "bgcolor": "white",
           "lakecolor": "white",
           "landcolor": "#E5ECF6",
           "showlakes": true,
           "showland": true,
           "subunitcolor": "white"
          },
          "hoverlabel": {
           "align": "left"
          },
          "hovermode": "closest",
          "mapbox": {
           "style": "light"
          },
          "paper_bgcolor": "white",
          "plot_bgcolor": "#E5ECF6",
          "polar": {
           "angularaxis": {
            "gridcolor": "white",
            "linecolor": "white",
            "ticks": ""
           },
           "bgcolor": "#E5ECF6",
           "radialaxis": {
            "gridcolor": "white",
            "linecolor": "white",
            "ticks": ""
           }
          },
          "scene": {
           "xaxis": {
            "backgroundcolor": "#E5ECF6",
            "gridcolor": "white",
            "gridwidth": 2,
            "linecolor": "white",
            "showbackground": true,
            "ticks": "",
            "zerolinecolor": "white"
           },
           "yaxis": {
            "backgroundcolor": "#E5ECF6",
            "gridcolor": "white",
            "gridwidth": 2,
            "linecolor": "white",
            "showbackground": true,
            "ticks": "",
            "zerolinecolor": "white"
           },
           "zaxis": {
            "backgroundcolor": "#E5ECF6",
            "gridcolor": "white",
            "gridwidth": 2,
            "linecolor": "white",
            "showbackground": true,
            "ticks": "",
            "zerolinecolor": "white"
           }
          },
          "shapedefaults": {
           "line": {
            "color": "#2a3f5f"
           }
          },
          "ternary": {
           "aaxis": {
            "gridcolor": "white",
            "linecolor": "white",
            "ticks": ""
           },
           "baxis": {
            "gridcolor": "white",
            "linecolor": "white",
            "ticks": ""
           },
           "bgcolor": "#E5ECF6",
           "caxis": {
            "gridcolor": "white",
            "linecolor": "white",
            "ticks": ""
           }
          },
          "title": {
           "x": 0.05
          },
          "xaxis": {
           "automargin": true,
           "gridcolor": "white",
           "linecolor": "white",
           "ticks": "",
           "title": {
            "standoff": 15
           },
           "zerolinecolor": "white",
           "zerolinewidth": 2
          },
          "yaxis": {
           "automargin": true,
           "gridcolor": "white",
           "linecolor": "white",
           "ticks": "",
           "title": {
            "standoff": 15
           },
           "zerolinecolor": "white",
           "zerolinewidth": 2
          }
         }
        }
       }
      },
      "text/html": [
       "<div>                            <div id=\"48edc55e-888f-423b-95b9-8cc6eec868ce\" class=\"plotly-graph-div\" style=\"height:525px; width:100%;\"></div>            <script type=\"text/javascript\">                require([\"plotly\"], function(Plotly) {                    window.PLOTLYENV=window.PLOTLYENV || {};                                    if (document.getElementById(\"48edc55e-888f-423b-95b9-8cc6eec868ce\")) {                    Plotly.newPlot(                        \"48edc55e-888f-423b-95b9-8cc6eec868ce\",                        [{\"hovertemplate\":\"Category=Breakfast\\u003cbr\\u003eIron (% Daily Value)=%{x}\\u003cbr\\u003eSugars=%{marker.size}\\u003cbr\\u003eCalories=%{z}\\u003cextra\\u003e\\u003c\\u002fextra\\u003e\",\"legendgroup\":\"Breakfast\",\"marker\":{\"color\":\"#636efa\",\"size\":[3,3,2,2,2,3,3,4,3,4,2,3,2,3,3,3,3,4,3,15,16,15,15,15,7,8,7,3,3,3,4,17,17,17,18,14,14,2,0,32,32,18],\"sizemode\":\"area\",\"sizeref\":0.32,\"symbol\":\"circle\"},\"mode\":\"markers\",\"name\":\"Breakfast\",\"scene\":\"scene\",\"showlegend\":true,\"x\":[15,8,10,15,10,20,15,20,10,15,15,15,20,20,15,15,15,15,25,15,10,10,15,10,20,15,25,25,30,15,15,40,40,30,30,15,15,15,2,15,10,10],\"y\":[3,3,2,2,2,3,3,4,3,4,2,3,2,3,3,3,3,4,3,15,16,15,15,15,7,8,7,3,3,3,4,17,17,17,18,14,14,2,0,32,32,18],\"z\":[300,250,370,450,400,430,460,520,410,470,430,480,510,570,460,520,410,470,540,460,400,420,550,500,620,570,670,740,800,640,690,1090,1150,990,1050,350,520,300,150,460,290,260],\"type\":\"scatter3d\"},{\"hovertemplate\":\"Category=Beef & Pork\\u003cbr\\u003eIron (% Daily Value)=%{x}\\u003cbr\\u003eSugars=%{marker.size}\\u003cbr\\u003eCalories=%{z}\\u003cextra\\u003e\\u003c\\u002fextra\\u003e\",\"legendgroup\":\"Beef & Pork\",\"marker\":{\"color\":\"#EF553B\",\"size\":[9,10,12,10,9,10,6,7,7,14,7,7,7,6,11],\"sizemode\":\"area\",\"sizeref\":0.32,\"symbol\":\"circle\"},\"mode\":\"markers\",\"name\":\"Beef & Pork\",\"scene\":\"scene\",\"showlegend\":true,\"x\":[25,25,30,30,30,35,15,15,20,25,20,20,20,20,20],\"y\":[9,10,12,10,9,10,6,7,7,14,7,7,7,6,11],\"z\":[530,520,600,610,540,750,240,290,430,720,380,440,430,430,500],\"type\":\"scatter3d\"},{\"hovertemplate\":\"Category=Chicken & Fish\\u003cbr\\u003eIron (% Daily Value)=%{x}\\u003cbr\\u003eSugars=%{marker.size}\\u003cbr\\u003eCalories=%{z}\\u003cextra\\u003e\\u003c\\u002fextra\\u003e\",\"legendgroup\":\"Chicken & Fish\",\"marker\":{\"color\":\"#00cc96\",\"size\":[10,8,11,9,11,9,16,14,7,5,6,6,5,7,6,8,6,12,10,14,12,0,0,0,0,1,5],\"sizemode\":\"area\",\"sizeref\":0.32,\"symbol\":\"circle\"},\"mode\":\"markers\",\"name\":\"Chicken & Fish\",\"scene\":\"scene\",\"showlegend\":true,\"x\":[20,20,20,20,20,20,15,15,15,15,15,15,15,20,20,20,20,20,20,20,20,2,4,6,10,25,10],\"y\":[10,8,11,9,11,9,16,14,7,5,6,6,5,7,6,8,6,12,10,14,12,0,0,0,0,1,5],\"z\":[510,350,670,510,610,450,750,590,430,360,480,430,360,630,480,610,450,670,520,540,380,190,280,470,940,1880,390],\"type\":\"scatter3d\"},{\"hovertemplate\":\"Category=Salads\\u003cbr\\u003eIron (% Daily Value)=%{x}\\u003cbr\\u003eSugars=%{marker.size}\\u003cbr\\u003eCalories=%{z}\\u003cextra\\u003e\\u003c\\u002fextra\\u003e\",\"legendgroup\":\"Salads\",\"marker\":{\"color\":\"#ab63fa\",\"size\":[4,5,4,6,12,10],\"sizemode\":\"area\",\"sizeref\":0.32,\"symbol\":\"circle\"},\"mode\":\"markers\",\"name\":\"Salads\",\"scene\":\"scene\",\"showlegend\":true,\"x\":[6,8,8,10,15,15],\"y\":[4,5,4,6,12,10],\"z\":[140,380,220,140,450,290],\"type\":\"scatter3d\"},{\"hovertemplate\":\"Category=Snacks & Sides\\u003cbr\\u003eIron (% Daily Value)=%{x}\\u003cbr\\u003eSugars=%{marker.size}\\u003cbr\\u003eCalories=%{z}\\u003cextra\\u003e\\u003c\\u002fextra\\u003e\",\"legendgroup\":\"Snacks & Sides\",\"marker\":{\"color\":\"#FFA15A\",\"size\":[8,7,3,2,3,2,0,0,0,0,2,3,23],\"sizemode\":\"area\",\"sizeref\":0.32,\"symbol\":\"circle\"},\"mode\":\"markers\",\"name\":\"Snacks & Sides\",\"scene\":\"scene\",\"showlegend\":true,\"x\":[10,10,10,10,10,10,4,4,8,2,4,0,4],\"y\":[8,7,3,2,3,2,0,0,0,0,2,3,23],\"z\":[340,260,330,250,360,280,230,340,510,110,20,15,150],\"type\":\"scatter3d\"},{\"hovertemplate\":\"Category=Desserts\\u003cbr\\u003eIron (% Daily Value)=%{x}\\u003cbr\\u003eSugars=%{marker.size}\\u003cbr\\u003eCalories=%{z}\\u003cextra\\u003e\\u003c\\u002fextra\\u003e\",\"legendgroup\":\"Desserts\",\"marker\":{\"color\":\"#19d3f3\",\"size\":[13,15,13,6,48,43,45],\"sizemode\":\"area\",\"sizeref\":0.32,\"symbol\":\"circle\"},\"mode\":\"markers\",\"name\":\"Desserts\",\"scene\":\"scene\",\"showlegend\":true,\"x\":[6,8,6,0,8,0,0],\"y\":[13,15,13,6,48,43,45],\"z\":[250,160,150,45,330,340,280],\"type\":\"scatter3d\"},{\"hovertemplate\":\"Category=Beverages\\u003cbr\\u003eIron (% Daily Value)=%{x}\\u003cbr\\u003eSugars=%{marker.size}\\u003cbr\\u003eCalories=%{z}\\u003cextra\\u003e\\u003c\\u002fextra\\u003e\",\"legendgroup\":\"Beverages\",\"marker\":{\"color\":\"#FF6692\",\"size\":[39,55,76,28,0,0,0,0,35,51,70,26,0,0,0,0,37,54,74,27,12,22,19,30,39,58,0],\"sizemode\":\"area\",\"sizeref\":0.32,\"symbol\":\"circle\"},\"mode\":\"markers\",\"name\":\"Beverages\",\"scene\":\"scene\",\"showlegend\":true,\"x\":[0,0,0,0,0,0,0,0,0,0,0,0,0,0,0,0,0,0,0,0,0,8,0,0,0,0,0],\"y\":[39,55,76,28,0,0,0,0,35,51,70,26,0,0,0,0,37,54,74,27,12,22,19,30,39,58,0],\"z\":[140,200,280,100,0,0,0,0,140,190,270,100,0,0,0,0,140,200,280,100,100,130,80,150,190,280,0],\"type\":\"scatter3d\"},{\"hovertemplate\":\"Category=Coffee & Tea\\u003cbr\\u003eIron (% Daily Value)=%{x}\\u003cbr\\u003eSugars=%{marker.size}\\u003cbr\\u003eCalories=%{z}\\u003cextra\\u003e\\u003c\\u002fextra\\u003e\",\"legendgroup\":\"Coffee & Tea\",\"marker\":{\"color\":\"#B6E880\",\"size\":[0,0,0,0,36,45,54,27,0,0,0,12,15,20,38,48,59,38,47,58,36,45,56,12,15,20,13,16,21,39,48,59,38,48,59,37,46,56,13,16,21,42,53,63,43,53,64,40,50,60,41,51,61,45,56,68,46,57,69,22,30,45,21,28,42,20,28,41,19,26,39,1,2,2,34,43,62,35,43,62,33,41,59,33,41,59,57,71,88,57,71,88,67,81,99],\"sizemode\":\"area\",\"sizeref\":0.32,\"symbol\":\"circle\"},\"mode\":\"markers\",\"name\":\"Coffee & Tea\",\"scene\":\"scene\",\"showlegend\":true,\"x\":[0,0,0,0,0,0,0,0,0,0,0,0,0,2,0,0,2,0,0,2,0,2,2,0,0,2,0,0,2,0,0,2,0,0,2,0,2,2,0,0,2,6,6,8,6,6,8,2,2,4,2,2,4,6,6,8,6,6,8,0,0,0,0,0,0,0,0,0,0,0,0,0,0,0,4,6,8,4,6,8,2,2,4,2,2,4,4,4,4,2,2,2,4,4,6],\"y\":[0,0,0,0,36,45,54,27,0,0,0,12,15,20,38,48,59,38,47,58,36,45,56,12,15,20,13,16,21,39,48,59,38,48,59,37,46,56,13,16,21,42,53,63,43,53,64,40,50,60,41,51,61,45,56,68,46,57,69,22,30,45,21,28,42,20,28,41,19,26,39,1,2,2,34,43,62,35,43,62,33,41,59,33,41,59,57,71,88,57,71,88,67,81,99],\"z\":[0,0,0,0,150,180,220,110,0,0,0,170,210,280,270,340,430,270,330,430,260,330,420,210,260,330,100,130,170,200,250,310,200,250,310,190,240,300,140,170,220,340,410,500,270,330,390,320,390,480,250,310,370,360,440,540,280,340,400,140,190,270,130,180,260,130,180,250,120,170,240,80,120,160,290,350,480,240,290,390,280,340,460,230,270,370,450,550,670,450,550,670,530,630,760],\"type\":\"scatter3d\"},{\"hovertemplate\":\"Category=Smoothies & Shakes\\u003cbr\\u003eIron (% Daily Value)=%{x}\\u003cbr\\u003eSugars=%{marker.size}\\u003cbr\\u003eCalories=%{z}\\u003cextra\\u003e\\u003c\\u002fextra\\u003e\",\"legendgroup\":\"Smoothies & Shakes\",\"marker\":{\"color\":\"#FF97FF\",\"size\":[44,54,70,44,54,70,46,56,72,63,81,101,79,100,123,77,97,120,93,115,89,128,59,64,85,43,103,51],\"sizemode\":\"area\",\"sizeref\":0.32,\"symbol\":\"circle\"},\"mode\":\"markers\",\"name\":\"Smoothies & Shakes\",\"scene\":\"scene\",\"showlegend\":true,\"x\":[2,2,2,2,4,4,2,2,2,0,0,0,0,0,0,8,10,15,0,0,8,10,4,8,10,6,6,4],\"y\":[44,54,70,44,54,70,46,56,72,63,81,101,79,100,123,77,97,120,93,115,89,128,59,64,85,43,103,51],\"z\":[220,260,340,210,250,330,210,260,340,530,660,820,550,690,850,560,700,850,660,820,650,930,430,510,690,340,810,410],\"type\":\"scatter3d\"}],                        {\"template\":{\"data\":{\"histogram2dcontour\":[{\"type\":\"histogram2dcontour\",\"colorbar\":{\"outlinewidth\":0,\"ticks\":\"\"},\"colorscale\":[[0.0,\"#0d0887\"],[0.1111111111111111,\"#46039f\"],[0.2222222222222222,\"#7201a8\"],[0.3333333333333333,\"#9c179e\"],[0.4444444444444444,\"#bd3786\"],[0.5555555555555556,\"#d8576b\"],[0.6666666666666666,\"#ed7953\"],[0.7777777777777778,\"#fb9f3a\"],[0.8888888888888888,\"#fdca26\"],[1.0,\"#f0f921\"]]}],\"choropleth\":[{\"type\":\"choropleth\",\"colorbar\":{\"outlinewidth\":0,\"ticks\":\"\"}}],\"histogram2d\":[{\"type\":\"histogram2d\",\"colorbar\":{\"outlinewidth\":0,\"ticks\":\"\"},\"colorscale\":[[0.0,\"#0d0887\"],[0.1111111111111111,\"#46039f\"],[0.2222222222222222,\"#7201a8\"],[0.3333333333333333,\"#9c179e\"],[0.4444444444444444,\"#bd3786\"],[0.5555555555555556,\"#d8576b\"],[0.6666666666666666,\"#ed7953\"],[0.7777777777777778,\"#fb9f3a\"],[0.8888888888888888,\"#fdca26\"],[1.0,\"#f0f921\"]]}],\"heatmap\":[{\"type\":\"heatmap\",\"colorbar\":{\"outlinewidth\":0,\"ticks\":\"\"},\"colorscale\":[[0.0,\"#0d0887\"],[0.1111111111111111,\"#46039f\"],[0.2222222222222222,\"#7201a8\"],[0.3333333333333333,\"#9c179e\"],[0.4444444444444444,\"#bd3786\"],[0.5555555555555556,\"#d8576b\"],[0.6666666666666666,\"#ed7953\"],[0.7777777777777778,\"#fb9f3a\"],[0.8888888888888888,\"#fdca26\"],[1.0,\"#f0f921\"]]}],\"heatmapgl\":[{\"type\":\"heatmapgl\",\"colorbar\":{\"outlinewidth\":0,\"ticks\":\"\"},\"colorscale\":[[0.0,\"#0d0887\"],[0.1111111111111111,\"#46039f\"],[0.2222222222222222,\"#7201a8\"],[0.3333333333333333,\"#9c179e\"],[0.4444444444444444,\"#bd3786\"],[0.5555555555555556,\"#d8576b\"],[0.6666666666666666,\"#ed7953\"],[0.7777777777777778,\"#fb9f3a\"],[0.8888888888888888,\"#fdca26\"],[1.0,\"#f0f921\"]]}],\"contourcarpet\":[{\"type\":\"contourcarpet\",\"colorbar\":{\"outlinewidth\":0,\"ticks\":\"\"}}],\"contour\":[{\"type\":\"contour\",\"colorbar\":{\"outlinewidth\":0,\"ticks\":\"\"},\"colorscale\":[[0.0,\"#0d0887\"],[0.1111111111111111,\"#46039f\"],[0.2222222222222222,\"#7201a8\"],[0.3333333333333333,\"#9c179e\"],[0.4444444444444444,\"#bd3786\"],[0.5555555555555556,\"#d8576b\"],[0.6666666666666666,\"#ed7953\"],[0.7777777777777778,\"#fb9f3a\"],[0.8888888888888888,\"#fdca26\"],[1.0,\"#f0f921\"]]}],\"surface\":[{\"type\":\"surface\",\"colorbar\":{\"outlinewidth\":0,\"ticks\":\"\"},\"colorscale\":[[0.0,\"#0d0887\"],[0.1111111111111111,\"#46039f\"],[0.2222222222222222,\"#7201a8\"],[0.3333333333333333,\"#9c179e\"],[0.4444444444444444,\"#bd3786\"],[0.5555555555555556,\"#d8576b\"],[0.6666666666666666,\"#ed7953\"],[0.7777777777777778,\"#fb9f3a\"],[0.8888888888888888,\"#fdca26\"],[1.0,\"#f0f921\"]]}],\"mesh3d\":[{\"type\":\"mesh3d\",\"colorbar\":{\"outlinewidth\":0,\"ticks\":\"\"}}],\"scatter\":[{\"fillpattern\":{\"fillmode\":\"overlay\",\"size\":10,\"solidity\":0.2},\"type\":\"scatter\"}],\"parcoords\":[{\"type\":\"parcoords\",\"line\":{\"colorbar\":{\"outlinewidth\":0,\"ticks\":\"\"}}}],\"scatterpolargl\":[{\"type\":\"scatterpolargl\",\"marker\":{\"colorbar\":{\"outlinewidth\":0,\"ticks\":\"\"}}}],\"bar\":[{\"error_x\":{\"color\":\"#2a3f5f\"},\"error_y\":{\"color\":\"#2a3f5f\"},\"marker\":{\"line\":{\"color\":\"#E5ECF6\",\"width\":0.5},\"pattern\":{\"fillmode\":\"overlay\",\"size\":10,\"solidity\":0.2}},\"type\":\"bar\"}],\"scattergeo\":[{\"type\":\"scattergeo\",\"marker\":{\"colorbar\":{\"outlinewidth\":0,\"ticks\":\"\"}}}],\"scatterpolar\":[{\"type\":\"scatterpolar\",\"marker\":{\"colorbar\":{\"outlinewidth\":0,\"ticks\":\"\"}}}],\"histogram\":[{\"marker\":{\"pattern\":{\"fillmode\":\"overlay\",\"size\":10,\"solidity\":0.2}},\"type\":\"histogram\"}],\"scattergl\":[{\"type\":\"scattergl\",\"marker\":{\"colorbar\":{\"outlinewidth\":0,\"ticks\":\"\"}}}],\"scatter3d\":[{\"type\":\"scatter3d\",\"line\":{\"colorbar\":{\"outlinewidth\":0,\"ticks\":\"\"}},\"marker\":{\"colorbar\":{\"outlinewidth\":0,\"ticks\":\"\"}}}],\"scattermapbox\":[{\"type\":\"scattermapbox\",\"marker\":{\"colorbar\":{\"outlinewidth\":0,\"ticks\":\"\"}}}],\"scatterternary\":[{\"type\":\"scatterternary\",\"marker\":{\"colorbar\":{\"outlinewidth\":0,\"ticks\":\"\"}}}],\"scattercarpet\":[{\"type\":\"scattercarpet\",\"marker\":{\"colorbar\":{\"outlinewidth\":0,\"ticks\":\"\"}}}],\"carpet\":[{\"aaxis\":{\"endlinecolor\":\"#2a3f5f\",\"gridcolor\":\"white\",\"linecolor\":\"white\",\"minorgridcolor\":\"white\",\"startlinecolor\":\"#2a3f5f\"},\"baxis\":{\"endlinecolor\":\"#2a3f5f\",\"gridcolor\":\"white\",\"linecolor\":\"white\",\"minorgridcolor\":\"white\",\"startlinecolor\":\"#2a3f5f\"},\"type\":\"carpet\"}],\"table\":[{\"cells\":{\"fill\":{\"color\":\"#EBF0F8\"},\"line\":{\"color\":\"white\"}},\"header\":{\"fill\":{\"color\":\"#C8D4E3\"},\"line\":{\"color\":\"white\"}},\"type\":\"table\"}],\"barpolar\":[{\"marker\":{\"line\":{\"color\":\"#E5ECF6\",\"width\":0.5},\"pattern\":{\"fillmode\":\"overlay\",\"size\":10,\"solidity\":0.2}},\"type\":\"barpolar\"}],\"pie\":[{\"automargin\":true,\"type\":\"pie\"}]},\"layout\":{\"autotypenumbers\":\"strict\",\"colorway\":[\"#636efa\",\"#EF553B\",\"#00cc96\",\"#ab63fa\",\"#FFA15A\",\"#19d3f3\",\"#FF6692\",\"#B6E880\",\"#FF97FF\",\"#FECB52\"],\"font\":{\"color\":\"#2a3f5f\"},\"hovermode\":\"closest\",\"hoverlabel\":{\"align\":\"left\"},\"paper_bgcolor\":\"white\",\"plot_bgcolor\":\"#E5ECF6\",\"polar\":{\"bgcolor\":\"#E5ECF6\",\"angularaxis\":{\"gridcolor\":\"white\",\"linecolor\":\"white\",\"ticks\":\"\"},\"radialaxis\":{\"gridcolor\":\"white\",\"linecolor\":\"white\",\"ticks\":\"\"}},\"ternary\":{\"bgcolor\":\"#E5ECF6\",\"aaxis\":{\"gridcolor\":\"white\",\"linecolor\":\"white\",\"ticks\":\"\"},\"baxis\":{\"gridcolor\":\"white\",\"linecolor\":\"white\",\"ticks\":\"\"},\"caxis\":{\"gridcolor\":\"white\",\"linecolor\":\"white\",\"ticks\":\"\"}},\"coloraxis\":{\"colorbar\":{\"outlinewidth\":0,\"ticks\":\"\"}},\"colorscale\":{\"sequential\":[[0.0,\"#0d0887\"],[0.1111111111111111,\"#46039f\"],[0.2222222222222222,\"#7201a8\"],[0.3333333333333333,\"#9c179e\"],[0.4444444444444444,\"#bd3786\"],[0.5555555555555556,\"#d8576b\"],[0.6666666666666666,\"#ed7953\"],[0.7777777777777778,\"#fb9f3a\"],[0.8888888888888888,\"#fdca26\"],[1.0,\"#f0f921\"]],\"sequentialminus\":[[0.0,\"#0d0887\"],[0.1111111111111111,\"#46039f\"],[0.2222222222222222,\"#7201a8\"],[0.3333333333333333,\"#9c179e\"],[0.4444444444444444,\"#bd3786\"],[0.5555555555555556,\"#d8576b\"],[0.6666666666666666,\"#ed7953\"],[0.7777777777777778,\"#fb9f3a\"],[0.8888888888888888,\"#fdca26\"],[1.0,\"#f0f921\"]],\"diverging\":[[0,\"#8e0152\"],[0.1,\"#c51b7d\"],[0.2,\"#de77ae\"],[0.3,\"#f1b6da\"],[0.4,\"#fde0ef\"],[0.5,\"#f7f7f7\"],[0.6,\"#e6f5d0\"],[0.7,\"#b8e186\"],[0.8,\"#7fbc41\"],[0.9,\"#4d9221\"],[1,\"#276419\"]]},\"xaxis\":{\"gridcolor\":\"white\",\"linecolor\":\"white\",\"ticks\":\"\",\"title\":{\"standoff\":15},\"zerolinecolor\":\"white\",\"automargin\":true,\"zerolinewidth\":2},\"yaxis\":{\"gridcolor\":\"white\",\"linecolor\":\"white\",\"ticks\":\"\",\"title\":{\"standoff\":15},\"zerolinecolor\":\"white\",\"automargin\":true,\"zerolinewidth\":2},\"scene\":{\"xaxis\":{\"backgroundcolor\":\"#E5ECF6\",\"gridcolor\":\"white\",\"linecolor\":\"white\",\"showbackground\":true,\"ticks\":\"\",\"zerolinecolor\":\"white\",\"gridwidth\":2},\"yaxis\":{\"backgroundcolor\":\"#E5ECF6\",\"gridcolor\":\"white\",\"linecolor\":\"white\",\"showbackground\":true,\"ticks\":\"\",\"zerolinecolor\":\"white\",\"gridwidth\":2},\"zaxis\":{\"backgroundcolor\":\"#E5ECF6\",\"gridcolor\":\"white\",\"linecolor\":\"white\",\"showbackground\":true,\"ticks\":\"\",\"zerolinecolor\":\"white\",\"gridwidth\":2}},\"shapedefaults\":{\"line\":{\"color\":\"#2a3f5f\"}},\"annotationdefaults\":{\"arrowcolor\":\"#2a3f5f\",\"arrowhead\":0,\"arrowwidth\":1},\"geo\":{\"bgcolor\":\"white\",\"landcolor\":\"#E5ECF6\",\"subunitcolor\":\"white\",\"showland\":true,\"showlakes\":true,\"lakecolor\":\"white\"},\"title\":{\"x\":0.05},\"mapbox\":{\"style\":\"light\"}}},\"scene\":{\"domain\":{\"x\":[0.0,1.0],\"y\":[0.0,1.0]},\"xaxis\":{\"title\":{\"text\":\"Iron (% Daily Value)\"}},\"yaxis\":{\"title\":{\"text\":\"Sugars\"}},\"zaxis\":{\"title\":{\"text\":\"Calories\"}}},\"legend\":{\"title\":{\"text\":\"Category\"},\"tracegroupgap\":0,\"itemsizing\":\"constant\"},\"margin\":{\"t\":60}},                        {\"responsive\": true}                    ).then(function(){\n",
       "                            \n",
       "var gd = document.getElementById('48edc55e-888f-423b-95b9-8cc6eec868ce');\n",
       "var x = new MutationObserver(function (mutations, observer) {{\n",
       "        var display = window.getComputedStyle(gd).display;\n",
       "        if (!display || display === 'none') {{\n",
       "            console.log([gd, 'removed!']);\n",
       "            Plotly.purge(gd);\n",
       "            observer.disconnect();\n",
       "        }}\n",
       "}});\n",
       "\n",
       "// Listen for the removal of the full notebook cells\n",
       "var notebookContainer = gd.closest('#notebook-container');\n",
       "if (notebookContainer) {{\n",
       "    x.observe(notebookContainer, {childList: true});\n",
       "}}\n",
       "\n",
       "// Listen for the clearing of the current output cell\n",
       "var outputEl = gd.closest('.output');\n",
       "if (outputEl) {{\n",
       "    x.observe(outputEl, {childList: true});\n",
       "}}\n",
       "\n",
       "                        })                };                });            </script>        </div>"
      ]
     },
     "metadata": {},
     "output_type": "display_data"
    }
   ],
   "source": [
    "f=px.scatter_3d(mc,x='Iron (% Daily Value)',y='Sugars',z='Calories',color='Category',size='Sugars')\n",
    "f.show()"
   ]
  },
  {
   "cell_type": "code",
   "execution_count": null,
   "id": "136d87f5-b7a4-4ef3-af6a-424a219b027c",
   "metadata": {},
   "outputs": [],
   "source": []
  }
 ],
 "metadata": {
  "kernelspec": {
   "display_name": "Python 3 (ipykernel)",
   "language": "python",
   "name": "python3"
  },
  "language_info": {
   "codemirror_mode": {
    "name": "ipython",
    "version": 3
   },
   "file_extension": ".py",
   "mimetype": "text/x-python",
   "name": "python",
   "nbconvert_exporter": "python",
   "pygments_lexer": "ipython3",
   "version": "3.12.7"
  }
 },
 "nbformat": 4,
 "nbformat_minor": 5
}
